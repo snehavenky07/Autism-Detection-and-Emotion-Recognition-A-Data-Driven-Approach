{
  "nbformat": 4,
  "nbformat_minor": 0,
  "metadata": {
    "colab": {
      "provenance": [],
      "gpuType": "T4",
      "machine_shape": "hm"
    },
    "kernelspec": {
      "name": "python3",
      "display_name": "Python 3"
    },
    "language_info": {
      "name": "python"
    },
    "accelerator": "GPU"
  },
  "cells": [
    {
      "cell_type": "markdown",
      "source": [
        "**Detecting Autism Spectrum Disorder in Children with Computer Vision**"
      ],
      "metadata": {
        "id": "D0KU7XY96uVC"
      }
    },
    {
      "cell_type": "code",
      "source": [
        "from google.colab import drive\n",
        "drive.mount('/content/drive')"
      ],
      "metadata": {
        "colab": {
          "base_uri": "https://localhost:8080/"
        },
        "id": "ZMui-ib56oxu",
        "outputId": "1316e0f0-4ff1-4e2c-e5da-4f5cc6ebe7bc"
      },
      "execution_count": null,
      "outputs": [
        {
          "output_type": "stream",
          "name": "stdout",
          "text": [
            "Mounted at /content/drive\n"
          ]
        }
      ]
    },
    {
      "cell_type": "code",
      "source": [],
      "metadata": {
        "id": "5bqY3TutRFZm"
      },
      "execution_count": null,
      "outputs": []
    },
    {
      "cell_type": "code",
      "source": [
        "import pandas as pd\n",
        "import numpy as np\n",
        "from sklearn.preprocessing import LabelEncoder, StandardScaler\n",
        "from sklearn.preprocessing import OneHotEncoder\n",
        "from sklearn.model_selection import train_test_split\n",
        "from sklearn.linear_model import LogisticRegression\n",
        "from sklearn.metrics import accuracy_score\n",
        "import pickle\n",
        "import matplotlib.pyplot as plt\n",
        "import seaborn as sns"
      ],
      "metadata": {
        "id": "O89mroerAGRn"
      },
      "execution_count": null,
      "outputs": []
    },
    {
      "cell_type": "code",
      "source": [
        "import numpy as np # linear algebra\n",
        "import pandas as pd # data processing, CSV file I/O (e.g. pd.read_csv)\n",
        "import matplotlib.pyplot as plt\n",
        "import seaborn as sns\n",
        "import plotly.graph_objects as go\n",
        "import plotly.express as px\n",
        "from sklearn.model_selection import train_test_split\n",
        "from sklearn.metrics import classification_report, accuracy_score\n",
        "from tensorflow.keras.models import Sequential\n",
        "from tensorflow.keras.layers import Dense, Flatten\n",
        "from tensorflow.keras.optimizers import Adam\n",
        "from tensorflow.keras.utils import plot_model\n",
        "\n",
        "sns.set_style(\"darkgrid\")\n",
        "pd.set_option(\"display.max_columns\", None)   # setting to display all columns\n",
        "pd.options.plotting.backend = \"plotly\"\n",
        "\n"
      ],
      "metadata": {
        "id": "34mm3oSvRS7Z"
      },
      "execution_count": null,
      "outputs": []
    },
    {
      "cell_type": "code",
      "source": [
        "train_data=pd.read_csv('train.csv')\n",
        "test_data=pd.read_csv('test.csv')"
      ],
      "metadata": {
        "id": "SfGG4b5N_6xg"
      },
      "execution_count": null,
      "outputs": []
    },
    {
      "cell_type": "markdown",
      "source": [
        "**Dataset Description**"
      ],
      "metadata": {
        "id": "9N4HhxqjRgyT"
      }
    },
    {
      "cell_type": "markdown",
      "metadata": {
        "papermill": {
          "duration": 0.06089,
          "end_time": "2021-10-30T13:03:15.058530",
          "exception": false,
          "start_time": "2021-10-30T13:03:14.997640",
          "status": "completed"
        },
        "tags": [],
        "id": "cd6ebf6f"
      },
      "source": [
        "|Feature | Description\n",
        "|------|------------\n",
        "| index | The participant’s ID number\n",
        "|AX_Score|Score based on the Autism Spectrum Quotient (AQ) 10 item screening tool [AQ-10](https://docs.autismresearchcentre.com/tests/AQ10.pdf)\n",
        "|age|Age in years\n",
        "|gender| Male or Female\n",
        "|ethnicity|Ethnicities in text form\n",
        "|jaundice|Whether or not the participant was born with jaundice?\n",
        "|autism|Whether or not anyone in tbe immediate family has been diagnosed with autism?\n",
        "|country_of_res|Countries in text format\n",
        "|used_app_before|Whether the participant has used a screening app\n",
        "|result|Score from the AQ-10 screening tool\n",
        "|age_desc|Age as categorical\n",
        "|relation|Relation of person who completed the test\n",
        "|Class/ASD|Participant classification\n"
      ]
    },
    {
      "cell_type": "code",
      "source": [
        "train_data.head()"
      ],
      "metadata": {
        "id": "YHltVd-MAdp5",
        "colab": {
          "base_uri": "https://localhost:8080/",
          "height": 313
        },
        "outputId": "553159d2-f8d9-46f8-fb48-2b83e21f82ff"
      },
      "execution_count": null,
      "outputs": [
        {
          "output_type": "execute_result",
          "data": {
            "text/plain": [
              "   ID  A1_Score  A2_Score  A3_Score  A4_Score  A5_Score  A6_Score  A7_Score  \\\n",
              "0   1         1         0         1         0         1         0         1   \n",
              "1   2         0         0         0         0         0         0         0   \n",
              "2   3         1         1         1         1         1         1         1   \n",
              "3   4         0         0         0         0         0         0         0   \n",
              "4   5         0         0         0         0         0         0         0   \n",
              "\n",
              "   A8_Score  A9_Score  A10_Score        age gender       ethnicity jaundice  \\\n",
              "0         0         1          1  38.172746      f               ?       no   \n",
              "1         0         0          0  47.750517      m               ?       no   \n",
              "2         1         1          1   7.380373      m  White-European       no   \n",
              "3         0         0          0  23.561927      f               ?       no   \n",
              "4         0         0          0  43.205790      m               ?       no   \n",
              "\n",
              "  austim  contry_of_res used_app_before     result     age_desc relation  \\\n",
              "0     no        Austria              no   6.351166  18 and more     Self   \n",
              "1     no          India              no   2.255185  18 and more     Self   \n",
              "2    yes  United States              no  14.851484  18 and more     Self   \n",
              "3     no  United States              no   2.276617  18 and more     Self   \n",
              "4     no   South Africa              no  -4.777286  18 and more     Self   \n",
              "\n",
              "   Class/ASD  \n",
              "0          0  \n",
              "1          0  \n",
              "2          1  \n",
              "3          0  \n",
              "4          0  "
            ],
            "text/html": [
              "\n",
              "  <div id=\"df-b5dda53c-5a1d-4011-a85a-89594fb76e14\" class=\"colab-df-container\">\n",
              "    <div>\n",
              "<style scoped>\n",
              "    .dataframe tbody tr th:only-of-type {\n",
              "        vertical-align: middle;\n",
              "    }\n",
              "\n",
              "    .dataframe tbody tr th {\n",
              "        vertical-align: top;\n",
              "    }\n",
              "\n",
              "    .dataframe thead th {\n",
              "        text-align: right;\n",
              "    }\n",
              "</style>\n",
              "<table border=\"1\" class=\"dataframe\">\n",
              "  <thead>\n",
              "    <tr style=\"text-align: right;\">\n",
              "      <th></th>\n",
              "      <th>ID</th>\n",
              "      <th>A1_Score</th>\n",
              "      <th>A2_Score</th>\n",
              "      <th>A3_Score</th>\n",
              "      <th>A4_Score</th>\n",
              "      <th>A5_Score</th>\n",
              "      <th>A6_Score</th>\n",
              "      <th>A7_Score</th>\n",
              "      <th>A8_Score</th>\n",
              "      <th>A9_Score</th>\n",
              "      <th>A10_Score</th>\n",
              "      <th>age</th>\n",
              "      <th>gender</th>\n",
              "      <th>ethnicity</th>\n",
              "      <th>jaundice</th>\n",
              "      <th>austim</th>\n",
              "      <th>contry_of_res</th>\n",
              "      <th>used_app_before</th>\n",
              "      <th>result</th>\n",
              "      <th>age_desc</th>\n",
              "      <th>relation</th>\n",
              "      <th>Class/ASD</th>\n",
              "    </tr>\n",
              "  </thead>\n",
              "  <tbody>\n",
              "    <tr>\n",
              "      <th>0</th>\n",
              "      <td>1</td>\n",
              "      <td>1</td>\n",
              "      <td>0</td>\n",
              "      <td>1</td>\n",
              "      <td>0</td>\n",
              "      <td>1</td>\n",
              "      <td>0</td>\n",
              "      <td>1</td>\n",
              "      <td>0</td>\n",
              "      <td>1</td>\n",
              "      <td>1</td>\n",
              "      <td>38.172746</td>\n",
              "      <td>f</td>\n",
              "      <td>?</td>\n",
              "      <td>no</td>\n",
              "      <td>no</td>\n",
              "      <td>Austria</td>\n",
              "      <td>no</td>\n",
              "      <td>6.351166</td>\n",
              "      <td>18 and more</td>\n",
              "      <td>Self</td>\n",
              "      <td>0</td>\n",
              "    </tr>\n",
              "    <tr>\n",
              "      <th>1</th>\n",
              "      <td>2</td>\n",
              "      <td>0</td>\n",
              "      <td>0</td>\n",
              "      <td>0</td>\n",
              "      <td>0</td>\n",
              "      <td>0</td>\n",
              "      <td>0</td>\n",
              "      <td>0</td>\n",
              "      <td>0</td>\n",
              "      <td>0</td>\n",
              "      <td>0</td>\n",
              "      <td>47.750517</td>\n",
              "      <td>m</td>\n",
              "      <td>?</td>\n",
              "      <td>no</td>\n",
              "      <td>no</td>\n",
              "      <td>India</td>\n",
              "      <td>no</td>\n",
              "      <td>2.255185</td>\n",
              "      <td>18 and more</td>\n",
              "      <td>Self</td>\n",
              "      <td>0</td>\n",
              "    </tr>\n",
              "    <tr>\n",
              "      <th>2</th>\n",
              "      <td>3</td>\n",
              "      <td>1</td>\n",
              "      <td>1</td>\n",
              "      <td>1</td>\n",
              "      <td>1</td>\n",
              "      <td>1</td>\n",
              "      <td>1</td>\n",
              "      <td>1</td>\n",
              "      <td>1</td>\n",
              "      <td>1</td>\n",
              "      <td>1</td>\n",
              "      <td>7.380373</td>\n",
              "      <td>m</td>\n",
              "      <td>White-European</td>\n",
              "      <td>no</td>\n",
              "      <td>yes</td>\n",
              "      <td>United States</td>\n",
              "      <td>no</td>\n",
              "      <td>14.851484</td>\n",
              "      <td>18 and more</td>\n",
              "      <td>Self</td>\n",
              "      <td>1</td>\n",
              "    </tr>\n",
              "    <tr>\n",
              "      <th>3</th>\n",
              "      <td>4</td>\n",
              "      <td>0</td>\n",
              "      <td>0</td>\n",
              "      <td>0</td>\n",
              "      <td>0</td>\n",
              "      <td>0</td>\n",
              "      <td>0</td>\n",
              "      <td>0</td>\n",
              "      <td>0</td>\n",
              "      <td>0</td>\n",
              "      <td>0</td>\n",
              "      <td>23.561927</td>\n",
              "      <td>f</td>\n",
              "      <td>?</td>\n",
              "      <td>no</td>\n",
              "      <td>no</td>\n",
              "      <td>United States</td>\n",
              "      <td>no</td>\n",
              "      <td>2.276617</td>\n",
              "      <td>18 and more</td>\n",
              "      <td>Self</td>\n",
              "      <td>0</td>\n",
              "    </tr>\n",
              "    <tr>\n",
              "      <th>4</th>\n",
              "      <td>5</td>\n",
              "      <td>0</td>\n",
              "      <td>0</td>\n",
              "      <td>0</td>\n",
              "      <td>0</td>\n",
              "      <td>0</td>\n",
              "      <td>0</td>\n",
              "      <td>0</td>\n",
              "      <td>0</td>\n",
              "      <td>0</td>\n",
              "      <td>0</td>\n",
              "      <td>43.205790</td>\n",
              "      <td>m</td>\n",
              "      <td>?</td>\n",
              "      <td>no</td>\n",
              "      <td>no</td>\n",
              "      <td>South Africa</td>\n",
              "      <td>no</td>\n",
              "      <td>-4.777286</td>\n",
              "      <td>18 and more</td>\n",
              "      <td>Self</td>\n",
              "      <td>0</td>\n",
              "    </tr>\n",
              "  </tbody>\n",
              "</table>\n",
              "</div>\n",
              "    <div class=\"colab-df-buttons\">\n",
              "\n",
              "  <div class=\"colab-df-container\">\n",
              "    <button class=\"colab-df-convert\" onclick=\"convertToInteractive('df-b5dda53c-5a1d-4011-a85a-89594fb76e14')\"\n",
              "            title=\"Convert this dataframe to an interactive table.\"\n",
              "            style=\"display:none;\">\n",
              "\n",
              "  <svg xmlns=\"http://www.w3.org/2000/svg\" height=\"24px\" viewBox=\"0 -960 960 960\">\n",
              "    <path d=\"M120-120v-720h720v720H120Zm60-500h600v-160H180v160Zm220 220h160v-160H400v160Zm0 220h160v-160H400v160ZM180-400h160v-160H180v160Zm440 0h160v-160H620v160ZM180-180h160v-160H180v160Zm440 0h160v-160H620v160Z\"/>\n",
              "  </svg>\n",
              "    </button>\n",
              "\n",
              "  <style>\n",
              "    .colab-df-container {\n",
              "      display:flex;\n",
              "      gap: 12px;\n",
              "    }\n",
              "\n",
              "    .colab-df-convert {\n",
              "      background-color: #E8F0FE;\n",
              "      border: none;\n",
              "      border-radius: 50%;\n",
              "      cursor: pointer;\n",
              "      display: none;\n",
              "      fill: #1967D2;\n",
              "      height: 32px;\n",
              "      padding: 0 0 0 0;\n",
              "      width: 32px;\n",
              "    }\n",
              "\n",
              "    .colab-df-convert:hover {\n",
              "      background-color: #E2EBFA;\n",
              "      box-shadow: 0px 1px 2px rgba(60, 64, 67, 0.3), 0px 1px 3px 1px rgba(60, 64, 67, 0.15);\n",
              "      fill: #174EA6;\n",
              "    }\n",
              "\n",
              "    .colab-df-buttons div {\n",
              "      margin-bottom: 4px;\n",
              "    }\n",
              "\n",
              "    [theme=dark] .colab-df-convert {\n",
              "      background-color: #3B4455;\n",
              "      fill: #D2E3FC;\n",
              "    }\n",
              "\n",
              "    [theme=dark] .colab-df-convert:hover {\n",
              "      background-color: #434B5C;\n",
              "      box-shadow: 0px 1px 3px 1px rgba(0, 0, 0, 0.15);\n",
              "      filter: drop-shadow(0px 1px 2px rgba(0, 0, 0, 0.3));\n",
              "      fill: #FFFFFF;\n",
              "    }\n",
              "  </style>\n",
              "\n",
              "    <script>\n",
              "      const buttonEl =\n",
              "        document.querySelector('#df-b5dda53c-5a1d-4011-a85a-89594fb76e14 button.colab-df-convert');\n",
              "      buttonEl.style.display =\n",
              "        google.colab.kernel.accessAllowed ? 'block' : 'none';\n",
              "\n",
              "      async function convertToInteractive(key) {\n",
              "        const element = document.querySelector('#df-b5dda53c-5a1d-4011-a85a-89594fb76e14');\n",
              "        const dataTable =\n",
              "          await google.colab.kernel.invokeFunction('convertToInteractive',\n",
              "                                                    [key], {});\n",
              "        if (!dataTable) return;\n",
              "\n",
              "        const docLinkHtml = 'Like what you see? Visit the ' +\n",
              "          '<a target=\"_blank\" href=https://colab.research.google.com/notebooks/data_table.ipynb>data table notebook</a>'\n",
              "          + ' to learn more about interactive tables.';\n",
              "        element.innerHTML = '';\n",
              "        dataTable['output_type'] = 'display_data';\n",
              "        await google.colab.output.renderOutput(dataTable, element);\n",
              "        const docLink = document.createElement('div');\n",
              "        docLink.innerHTML = docLinkHtml;\n",
              "        element.appendChild(docLink);\n",
              "      }\n",
              "    </script>\n",
              "  </div>\n",
              "\n",
              "\n",
              "<div id=\"df-f7264f09-0d7f-4aab-b6d1-8d35cbe2ac5b\">\n",
              "  <button class=\"colab-df-quickchart\" onclick=\"quickchart('df-f7264f09-0d7f-4aab-b6d1-8d35cbe2ac5b')\"\n",
              "            title=\"Suggest charts\"\n",
              "            style=\"display:none;\">\n",
              "\n",
              "<svg xmlns=\"http://www.w3.org/2000/svg\" height=\"24px\"viewBox=\"0 0 24 24\"\n",
              "     width=\"24px\">\n",
              "    <g>\n",
              "        <path d=\"M19 3H5c-1.1 0-2 .9-2 2v14c0 1.1.9 2 2 2h14c1.1 0 2-.9 2-2V5c0-1.1-.9-2-2-2zM9 17H7v-7h2v7zm4 0h-2V7h2v10zm4 0h-2v-4h2v4z\"/>\n",
              "    </g>\n",
              "</svg>\n",
              "  </button>\n",
              "\n",
              "<style>\n",
              "  .colab-df-quickchart {\n",
              "      --bg-color: #E8F0FE;\n",
              "      --fill-color: #1967D2;\n",
              "      --hover-bg-color: #E2EBFA;\n",
              "      --hover-fill-color: #174EA6;\n",
              "      --disabled-fill-color: #AAA;\n",
              "      --disabled-bg-color: #DDD;\n",
              "  }\n",
              "\n",
              "  [theme=dark] .colab-df-quickchart {\n",
              "      --bg-color: #3B4455;\n",
              "      --fill-color: #D2E3FC;\n",
              "      --hover-bg-color: #434B5C;\n",
              "      --hover-fill-color: #FFFFFF;\n",
              "      --disabled-bg-color: #3B4455;\n",
              "      --disabled-fill-color: #666;\n",
              "  }\n",
              "\n",
              "  .colab-df-quickchart {\n",
              "    background-color: var(--bg-color);\n",
              "    border: none;\n",
              "    border-radius: 50%;\n",
              "    cursor: pointer;\n",
              "    display: none;\n",
              "    fill: var(--fill-color);\n",
              "    height: 32px;\n",
              "    padding: 0;\n",
              "    width: 32px;\n",
              "  }\n",
              "\n",
              "  .colab-df-quickchart:hover {\n",
              "    background-color: var(--hover-bg-color);\n",
              "    box-shadow: 0 1px 2px rgba(60, 64, 67, 0.3), 0 1px 3px 1px rgba(60, 64, 67, 0.15);\n",
              "    fill: var(--button-hover-fill-color);\n",
              "  }\n",
              "\n",
              "  .colab-df-quickchart-complete:disabled,\n",
              "  .colab-df-quickchart-complete:disabled:hover {\n",
              "    background-color: var(--disabled-bg-color);\n",
              "    fill: var(--disabled-fill-color);\n",
              "    box-shadow: none;\n",
              "  }\n",
              "\n",
              "  .colab-df-spinner {\n",
              "    border: 2px solid var(--fill-color);\n",
              "    border-color: transparent;\n",
              "    border-bottom-color: var(--fill-color);\n",
              "    animation:\n",
              "      spin 1s steps(1) infinite;\n",
              "  }\n",
              "\n",
              "  @keyframes spin {\n",
              "    0% {\n",
              "      border-color: transparent;\n",
              "      border-bottom-color: var(--fill-color);\n",
              "      border-left-color: var(--fill-color);\n",
              "    }\n",
              "    20% {\n",
              "      border-color: transparent;\n",
              "      border-left-color: var(--fill-color);\n",
              "      border-top-color: var(--fill-color);\n",
              "    }\n",
              "    30% {\n",
              "      border-color: transparent;\n",
              "      border-left-color: var(--fill-color);\n",
              "      border-top-color: var(--fill-color);\n",
              "      border-right-color: var(--fill-color);\n",
              "    }\n",
              "    40% {\n",
              "      border-color: transparent;\n",
              "      border-right-color: var(--fill-color);\n",
              "      border-top-color: var(--fill-color);\n",
              "    }\n",
              "    60% {\n",
              "      border-color: transparent;\n",
              "      border-right-color: var(--fill-color);\n",
              "    }\n",
              "    80% {\n",
              "      border-color: transparent;\n",
              "      border-right-color: var(--fill-color);\n",
              "      border-bottom-color: var(--fill-color);\n",
              "    }\n",
              "    90% {\n",
              "      border-color: transparent;\n",
              "      border-bottom-color: var(--fill-color);\n",
              "    }\n",
              "  }\n",
              "</style>\n",
              "\n",
              "  <script>\n",
              "    async function quickchart(key) {\n",
              "      const quickchartButtonEl =\n",
              "        document.querySelector('#' + key + ' button');\n",
              "      quickchartButtonEl.disabled = true;  // To prevent multiple clicks.\n",
              "      quickchartButtonEl.classList.add('colab-df-spinner');\n",
              "      try {\n",
              "        const charts = await google.colab.kernel.invokeFunction(\n",
              "            'suggestCharts', [key], {});\n",
              "      } catch (error) {\n",
              "        console.error('Error during call to suggestCharts:', error);\n",
              "      }\n",
              "      quickchartButtonEl.classList.remove('colab-df-spinner');\n",
              "      quickchartButtonEl.classList.add('colab-df-quickchart-complete');\n",
              "    }\n",
              "    (() => {\n",
              "      let quickchartButtonEl =\n",
              "        document.querySelector('#df-f7264f09-0d7f-4aab-b6d1-8d35cbe2ac5b button');\n",
              "      quickchartButtonEl.style.display =\n",
              "        google.colab.kernel.accessAllowed ? 'block' : 'none';\n",
              "    })();\n",
              "  </script>\n",
              "</div>\n",
              "\n",
              "    </div>\n",
              "  </div>\n"
            ],
            "application/vnd.google.colaboratory.intrinsic+json": {
              "type": "dataframe",
              "variable_name": "train_data"
            }
          },
          "metadata": {},
          "execution_count": 5
        }
      ]
    },
    {
      "cell_type": "code",
      "source": [
        "train_data.shape"
      ],
      "metadata": {
        "id": "NHXMCrukAh5W",
        "colab": {
          "base_uri": "https://localhost:8080/"
        },
        "outputId": "7303d942-5e04-4e95-b7f9-3c052c1a3a62"
      },
      "execution_count": null,
      "outputs": [
        {
          "output_type": "execute_result",
          "data": {
            "text/plain": [
              "(800, 22)"
            ]
          },
          "metadata": {},
          "execution_count": 6
        }
      ]
    },
    {
      "cell_type": "code",
      "source": [
        "pd.DataFrame(train_data.isnull().sum(), columns=[\"Missing Values\"]).style.bar(color = \"#84A9AC\")"
      ],
      "metadata": {
        "id": "4OMuyLy_Ru2t",
        "colab": {
          "base_uri": "https://localhost:8080/",
          "height": 774
        },
        "outputId": "698564fe-ac0e-4538-9f45-b4e0fc78315b"
      },
      "execution_count": null,
      "outputs": [
        {
          "output_type": "stream",
          "name": "stderr",
          "text": [
            "/usr/local/lib/python3.10/dist-packages/pandas/io/formats/style.py:3851: RuntimeWarning: invalid value encountered in scalar divide\n",
            "  end = (x - left) / (right - left)\n"
          ]
        },
        {
          "output_type": "execute_result",
          "data": {
            "text/plain": [
              "<pandas.io.formats.style.Styler at 0x7a849e30a530>"
            ],
            "text/html": [
              "<style type=\"text/css\">\n",
              "#T_eb703_row0_col0, #T_eb703_row1_col0, #T_eb703_row2_col0, #T_eb703_row3_col0, #T_eb703_row4_col0, #T_eb703_row5_col0, #T_eb703_row6_col0, #T_eb703_row7_col0, #T_eb703_row8_col0, #T_eb703_row9_col0, #T_eb703_row10_col0, #T_eb703_row11_col0, #T_eb703_row12_col0, #T_eb703_row13_col0, #T_eb703_row14_col0, #T_eb703_row15_col0, #T_eb703_row16_col0, #T_eb703_row17_col0, #T_eb703_row18_col0, #T_eb703_row19_col0, #T_eb703_row20_col0, #T_eb703_row21_col0 {\n",
              "  width: 10em;\n",
              "}\n",
              "</style>\n",
              "<table id=\"T_eb703\" class=\"dataframe\">\n",
              "  <thead>\n",
              "    <tr>\n",
              "      <th class=\"blank level0\" >&nbsp;</th>\n",
              "      <th id=\"T_eb703_level0_col0\" class=\"col_heading level0 col0\" >Missing Values</th>\n",
              "    </tr>\n",
              "  </thead>\n",
              "  <tbody>\n",
              "    <tr>\n",
              "      <th id=\"T_eb703_level0_row0\" class=\"row_heading level0 row0\" >ID</th>\n",
              "      <td id=\"T_eb703_row0_col0\" class=\"data row0 col0\" >0</td>\n",
              "    </tr>\n",
              "    <tr>\n",
              "      <th id=\"T_eb703_level0_row1\" class=\"row_heading level0 row1\" >A1_Score</th>\n",
              "      <td id=\"T_eb703_row1_col0\" class=\"data row1 col0\" >0</td>\n",
              "    </tr>\n",
              "    <tr>\n",
              "      <th id=\"T_eb703_level0_row2\" class=\"row_heading level0 row2\" >A2_Score</th>\n",
              "      <td id=\"T_eb703_row2_col0\" class=\"data row2 col0\" >0</td>\n",
              "    </tr>\n",
              "    <tr>\n",
              "      <th id=\"T_eb703_level0_row3\" class=\"row_heading level0 row3\" >A3_Score</th>\n",
              "      <td id=\"T_eb703_row3_col0\" class=\"data row3 col0\" >0</td>\n",
              "    </tr>\n",
              "    <tr>\n",
              "      <th id=\"T_eb703_level0_row4\" class=\"row_heading level0 row4\" >A4_Score</th>\n",
              "      <td id=\"T_eb703_row4_col0\" class=\"data row4 col0\" >0</td>\n",
              "    </tr>\n",
              "    <tr>\n",
              "      <th id=\"T_eb703_level0_row5\" class=\"row_heading level0 row5\" >A5_Score</th>\n",
              "      <td id=\"T_eb703_row5_col0\" class=\"data row5 col0\" >0</td>\n",
              "    </tr>\n",
              "    <tr>\n",
              "      <th id=\"T_eb703_level0_row6\" class=\"row_heading level0 row6\" >A6_Score</th>\n",
              "      <td id=\"T_eb703_row6_col0\" class=\"data row6 col0\" >0</td>\n",
              "    </tr>\n",
              "    <tr>\n",
              "      <th id=\"T_eb703_level0_row7\" class=\"row_heading level0 row7\" >A7_Score</th>\n",
              "      <td id=\"T_eb703_row7_col0\" class=\"data row7 col0\" >0</td>\n",
              "    </tr>\n",
              "    <tr>\n",
              "      <th id=\"T_eb703_level0_row8\" class=\"row_heading level0 row8\" >A8_Score</th>\n",
              "      <td id=\"T_eb703_row8_col0\" class=\"data row8 col0\" >0</td>\n",
              "    </tr>\n",
              "    <tr>\n",
              "      <th id=\"T_eb703_level0_row9\" class=\"row_heading level0 row9\" >A9_Score</th>\n",
              "      <td id=\"T_eb703_row9_col0\" class=\"data row9 col0\" >0</td>\n",
              "    </tr>\n",
              "    <tr>\n",
              "      <th id=\"T_eb703_level0_row10\" class=\"row_heading level0 row10\" >A10_Score</th>\n",
              "      <td id=\"T_eb703_row10_col0\" class=\"data row10 col0\" >0</td>\n",
              "    </tr>\n",
              "    <tr>\n",
              "      <th id=\"T_eb703_level0_row11\" class=\"row_heading level0 row11\" >age</th>\n",
              "      <td id=\"T_eb703_row11_col0\" class=\"data row11 col0\" >0</td>\n",
              "    </tr>\n",
              "    <tr>\n",
              "      <th id=\"T_eb703_level0_row12\" class=\"row_heading level0 row12\" >gender</th>\n",
              "      <td id=\"T_eb703_row12_col0\" class=\"data row12 col0\" >0</td>\n",
              "    </tr>\n",
              "    <tr>\n",
              "      <th id=\"T_eb703_level0_row13\" class=\"row_heading level0 row13\" >ethnicity</th>\n",
              "      <td id=\"T_eb703_row13_col0\" class=\"data row13 col0\" >0</td>\n",
              "    </tr>\n",
              "    <tr>\n",
              "      <th id=\"T_eb703_level0_row14\" class=\"row_heading level0 row14\" >jaundice</th>\n",
              "      <td id=\"T_eb703_row14_col0\" class=\"data row14 col0\" >0</td>\n",
              "    </tr>\n",
              "    <tr>\n",
              "      <th id=\"T_eb703_level0_row15\" class=\"row_heading level0 row15\" >austim</th>\n",
              "      <td id=\"T_eb703_row15_col0\" class=\"data row15 col0\" >0</td>\n",
              "    </tr>\n",
              "    <tr>\n",
              "      <th id=\"T_eb703_level0_row16\" class=\"row_heading level0 row16\" >contry_of_res</th>\n",
              "      <td id=\"T_eb703_row16_col0\" class=\"data row16 col0\" >0</td>\n",
              "    </tr>\n",
              "    <tr>\n",
              "      <th id=\"T_eb703_level0_row17\" class=\"row_heading level0 row17\" >used_app_before</th>\n",
              "      <td id=\"T_eb703_row17_col0\" class=\"data row17 col0\" >0</td>\n",
              "    </tr>\n",
              "    <tr>\n",
              "      <th id=\"T_eb703_level0_row18\" class=\"row_heading level0 row18\" >result</th>\n",
              "      <td id=\"T_eb703_row18_col0\" class=\"data row18 col0\" >0</td>\n",
              "    </tr>\n",
              "    <tr>\n",
              "      <th id=\"T_eb703_level0_row19\" class=\"row_heading level0 row19\" >age_desc</th>\n",
              "      <td id=\"T_eb703_row19_col0\" class=\"data row19 col0\" >0</td>\n",
              "    </tr>\n",
              "    <tr>\n",
              "      <th id=\"T_eb703_level0_row20\" class=\"row_heading level0 row20\" >relation</th>\n",
              "      <td id=\"T_eb703_row20_col0\" class=\"data row20 col0\" >0</td>\n",
              "    </tr>\n",
              "    <tr>\n",
              "      <th id=\"T_eb703_level0_row21\" class=\"row_heading level0 row21\" >Class/ASD</th>\n",
              "      <td id=\"T_eb703_row21_col0\" class=\"data row21 col0\" >0</td>\n",
              "    </tr>\n",
              "  </tbody>\n",
              "</table>\n"
            ]
          },
          "metadata": {},
          "execution_count": 7
        }
      ]
    },
    {
      "cell_type": "code",
      "source": [
        "pd.DataFrame(train_data.isna().sum(),columns=[\"NaN Values\"]).style.bar(color = \"#84A9AC\")"
      ],
      "metadata": {
        "id": "nwT-xhdXAk8O",
        "colab": {
          "base_uri": "https://localhost:8080/",
          "height": 739
        },
        "outputId": "3e5fb9dd-ce86-453e-baa9-45ac7228d9ee"
      },
      "execution_count": null,
      "outputs": [
        {
          "output_type": "execute_result",
          "data": {
            "text/plain": [
              "<pandas.io.formats.style.Styler at 0x7a8446d5b940>"
            ],
            "text/html": [
              "<style type=\"text/css\">\n",
              "#T_b60db_row0_col0, #T_b60db_row1_col0, #T_b60db_row2_col0, #T_b60db_row3_col0, #T_b60db_row4_col0, #T_b60db_row5_col0, #T_b60db_row6_col0, #T_b60db_row7_col0, #T_b60db_row8_col0, #T_b60db_row9_col0, #T_b60db_row10_col0, #T_b60db_row11_col0, #T_b60db_row12_col0, #T_b60db_row13_col0, #T_b60db_row14_col0, #T_b60db_row15_col0, #T_b60db_row16_col0, #T_b60db_row17_col0, #T_b60db_row18_col0, #T_b60db_row19_col0, #T_b60db_row20_col0, #T_b60db_row21_col0 {\n",
              "  width: 10em;\n",
              "}\n",
              "</style>\n",
              "<table id=\"T_b60db\" class=\"dataframe\">\n",
              "  <thead>\n",
              "    <tr>\n",
              "      <th class=\"blank level0\" >&nbsp;</th>\n",
              "      <th id=\"T_b60db_level0_col0\" class=\"col_heading level0 col0\" >NaN Values</th>\n",
              "    </tr>\n",
              "  </thead>\n",
              "  <tbody>\n",
              "    <tr>\n",
              "      <th id=\"T_b60db_level0_row0\" class=\"row_heading level0 row0\" >ID</th>\n",
              "      <td id=\"T_b60db_row0_col0\" class=\"data row0 col0\" >0</td>\n",
              "    </tr>\n",
              "    <tr>\n",
              "      <th id=\"T_b60db_level0_row1\" class=\"row_heading level0 row1\" >A1_Score</th>\n",
              "      <td id=\"T_b60db_row1_col0\" class=\"data row1 col0\" >0</td>\n",
              "    </tr>\n",
              "    <tr>\n",
              "      <th id=\"T_b60db_level0_row2\" class=\"row_heading level0 row2\" >A2_Score</th>\n",
              "      <td id=\"T_b60db_row2_col0\" class=\"data row2 col0\" >0</td>\n",
              "    </tr>\n",
              "    <tr>\n",
              "      <th id=\"T_b60db_level0_row3\" class=\"row_heading level0 row3\" >A3_Score</th>\n",
              "      <td id=\"T_b60db_row3_col0\" class=\"data row3 col0\" >0</td>\n",
              "    </tr>\n",
              "    <tr>\n",
              "      <th id=\"T_b60db_level0_row4\" class=\"row_heading level0 row4\" >A4_Score</th>\n",
              "      <td id=\"T_b60db_row4_col0\" class=\"data row4 col0\" >0</td>\n",
              "    </tr>\n",
              "    <tr>\n",
              "      <th id=\"T_b60db_level0_row5\" class=\"row_heading level0 row5\" >A5_Score</th>\n",
              "      <td id=\"T_b60db_row5_col0\" class=\"data row5 col0\" >0</td>\n",
              "    </tr>\n",
              "    <tr>\n",
              "      <th id=\"T_b60db_level0_row6\" class=\"row_heading level0 row6\" >A6_Score</th>\n",
              "      <td id=\"T_b60db_row6_col0\" class=\"data row6 col0\" >0</td>\n",
              "    </tr>\n",
              "    <tr>\n",
              "      <th id=\"T_b60db_level0_row7\" class=\"row_heading level0 row7\" >A7_Score</th>\n",
              "      <td id=\"T_b60db_row7_col0\" class=\"data row7 col0\" >0</td>\n",
              "    </tr>\n",
              "    <tr>\n",
              "      <th id=\"T_b60db_level0_row8\" class=\"row_heading level0 row8\" >A8_Score</th>\n",
              "      <td id=\"T_b60db_row8_col0\" class=\"data row8 col0\" >0</td>\n",
              "    </tr>\n",
              "    <tr>\n",
              "      <th id=\"T_b60db_level0_row9\" class=\"row_heading level0 row9\" >A9_Score</th>\n",
              "      <td id=\"T_b60db_row9_col0\" class=\"data row9 col0\" >0</td>\n",
              "    </tr>\n",
              "    <tr>\n",
              "      <th id=\"T_b60db_level0_row10\" class=\"row_heading level0 row10\" >A10_Score</th>\n",
              "      <td id=\"T_b60db_row10_col0\" class=\"data row10 col0\" >0</td>\n",
              "    </tr>\n",
              "    <tr>\n",
              "      <th id=\"T_b60db_level0_row11\" class=\"row_heading level0 row11\" >age</th>\n",
              "      <td id=\"T_b60db_row11_col0\" class=\"data row11 col0\" >0</td>\n",
              "    </tr>\n",
              "    <tr>\n",
              "      <th id=\"T_b60db_level0_row12\" class=\"row_heading level0 row12\" >gender</th>\n",
              "      <td id=\"T_b60db_row12_col0\" class=\"data row12 col0\" >0</td>\n",
              "    </tr>\n",
              "    <tr>\n",
              "      <th id=\"T_b60db_level0_row13\" class=\"row_heading level0 row13\" >ethnicity</th>\n",
              "      <td id=\"T_b60db_row13_col0\" class=\"data row13 col0\" >0</td>\n",
              "    </tr>\n",
              "    <tr>\n",
              "      <th id=\"T_b60db_level0_row14\" class=\"row_heading level0 row14\" >jaundice</th>\n",
              "      <td id=\"T_b60db_row14_col0\" class=\"data row14 col0\" >0</td>\n",
              "    </tr>\n",
              "    <tr>\n",
              "      <th id=\"T_b60db_level0_row15\" class=\"row_heading level0 row15\" >austim</th>\n",
              "      <td id=\"T_b60db_row15_col0\" class=\"data row15 col0\" >0</td>\n",
              "    </tr>\n",
              "    <tr>\n",
              "      <th id=\"T_b60db_level0_row16\" class=\"row_heading level0 row16\" >contry_of_res</th>\n",
              "      <td id=\"T_b60db_row16_col0\" class=\"data row16 col0\" >0</td>\n",
              "    </tr>\n",
              "    <tr>\n",
              "      <th id=\"T_b60db_level0_row17\" class=\"row_heading level0 row17\" >used_app_before</th>\n",
              "      <td id=\"T_b60db_row17_col0\" class=\"data row17 col0\" >0</td>\n",
              "    </tr>\n",
              "    <tr>\n",
              "      <th id=\"T_b60db_level0_row18\" class=\"row_heading level0 row18\" >result</th>\n",
              "      <td id=\"T_b60db_row18_col0\" class=\"data row18 col0\" >0</td>\n",
              "    </tr>\n",
              "    <tr>\n",
              "      <th id=\"T_b60db_level0_row19\" class=\"row_heading level0 row19\" >age_desc</th>\n",
              "      <td id=\"T_b60db_row19_col0\" class=\"data row19 col0\" >0</td>\n",
              "    </tr>\n",
              "    <tr>\n",
              "      <th id=\"T_b60db_level0_row20\" class=\"row_heading level0 row20\" >relation</th>\n",
              "      <td id=\"T_b60db_row20_col0\" class=\"data row20 col0\" >0</td>\n",
              "    </tr>\n",
              "    <tr>\n",
              "      <th id=\"T_b60db_level0_row21\" class=\"row_heading level0 row21\" >Class/ASD</th>\n",
              "      <td id=\"T_b60db_row21_col0\" class=\"data row21 col0\" >0</td>\n",
              "    </tr>\n",
              "  </tbody>\n",
              "</table>\n"
            ]
          },
          "metadata": {},
          "execution_count": 8
        }
      ]
    },
    {
      "cell_type": "code",
      "source": [
        "train_data.describe()"
      ],
      "metadata": {
        "id": "98SAZB63B59n",
        "colab": {
          "base_uri": "https://localhost:8080/",
          "height": 300
        },
        "outputId": "7ef31ed8-8a4e-415f-8fa5-9707323ac7db"
      },
      "execution_count": null,
      "outputs": [
        {
          "output_type": "execute_result",
          "data": {
            "text/plain": [
              "             ID    A1_Score    A2_Score    A3_Score   A4_Score    A5_Score  \\\n",
              "count  800.0000  800.000000  800.000000  800.000000  800.00000  800.000000   \n",
              "mean   400.5000    0.560000    0.530000    0.450000    0.41500    0.395000   \n",
              "std    231.0844    0.496697    0.499411    0.497805    0.49303    0.489157   \n",
              "min      1.0000    0.000000    0.000000    0.000000    0.00000    0.000000   \n",
              "25%    200.7500    0.000000    0.000000    0.000000    0.00000    0.000000   \n",
              "50%    400.5000    1.000000    1.000000    0.000000    0.00000    0.000000   \n",
              "75%    600.2500    1.000000    1.000000    1.000000    1.00000    1.000000   \n",
              "max    800.0000    1.000000    1.000000    1.000000    1.00000    1.000000   \n",
              "\n",
              "         A6_Score    A7_Score    A8_Score    A9_Score   A10_Score         age  \\\n",
              "count  800.000000  800.000000  800.000000  800.000000  800.000000  800.000000   \n",
              "mean     0.303750    0.397500    0.508750    0.495000    0.617500   28.452118   \n",
              "std      0.460164    0.489687    0.500236    0.500288    0.486302   16.310966   \n",
              "min      0.000000    0.000000    0.000000    0.000000    0.000000    2.718550   \n",
              "25%      0.000000    0.000000    0.000000    0.000000    0.000000   17.198153   \n",
              "50%      0.000000    0.000000    1.000000    0.000000    1.000000   24.848350   \n",
              "75%      1.000000    1.000000    1.000000    1.000000    1.000000   35.865429   \n",
              "max      1.000000    1.000000    1.000000    1.000000    1.000000   89.461718   \n",
              "\n",
              "           result   Class/ASD  \n",
              "count  800.000000  800.000000  \n",
              "mean     8.537303    0.201250  \n",
              "std      4.807676    0.401185  \n",
              "min     -6.137748    0.000000  \n",
              "25%      5.306575    0.000000  \n",
              "50%      9.605299    0.000000  \n",
              "75%     12.514484    0.000000  \n",
              "max     15.853126    1.000000  "
            ],
            "text/html": [
              "\n",
              "  <div id=\"df-bfb8766b-ff35-4bee-9aeb-6db85d31c5c3\" class=\"colab-df-container\">\n",
              "    <div>\n",
              "<style scoped>\n",
              "    .dataframe tbody tr th:only-of-type {\n",
              "        vertical-align: middle;\n",
              "    }\n",
              "\n",
              "    .dataframe tbody tr th {\n",
              "        vertical-align: top;\n",
              "    }\n",
              "\n",
              "    .dataframe thead th {\n",
              "        text-align: right;\n",
              "    }\n",
              "</style>\n",
              "<table border=\"1\" class=\"dataframe\">\n",
              "  <thead>\n",
              "    <tr style=\"text-align: right;\">\n",
              "      <th></th>\n",
              "      <th>ID</th>\n",
              "      <th>A1_Score</th>\n",
              "      <th>A2_Score</th>\n",
              "      <th>A3_Score</th>\n",
              "      <th>A4_Score</th>\n",
              "      <th>A5_Score</th>\n",
              "      <th>A6_Score</th>\n",
              "      <th>A7_Score</th>\n",
              "      <th>A8_Score</th>\n",
              "      <th>A9_Score</th>\n",
              "      <th>A10_Score</th>\n",
              "      <th>age</th>\n",
              "      <th>result</th>\n",
              "      <th>Class/ASD</th>\n",
              "    </tr>\n",
              "  </thead>\n",
              "  <tbody>\n",
              "    <tr>\n",
              "      <th>count</th>\n",
              "      <td>800.0000</td>\n",
              "      <td>800.000000</td>\n",
              "      <td>800.000000</td>\n",
              "      <td>800.000000</td>\n",
              "      <td>800.00000</td>\n",
              "      <td>800.000000</td>\n",
              "      <td>800.000000</td>\n",
              "      <td>800.000000</td>\n",
              "      <td>800.000000</td>\n",
              "      <td>800.000000</td>\n",
              "      <td>800.000000</td>\n",
              "      <td>800.000000</td>\n",
              "      <td>800.000000</td>\n",
              "      <td>800.000000</td>\n",
              "    </tr>\n",
              "    <tr>\n",
              "      <th>mean</th>\n",
              "      <td>400.5000</td>\n",
              "      <td>0.560000</td>\n",
              "      <td>0.530000</td>\n",
              "      <td>0.450000</td>\n",
              "      <td>0.41500</td>\n",
              "      <td>0.395000</td>\n",
              "      <td>0.303750</td>\n",
              "      <td>0.397500</td>\n",
              "      <td>0.508750</td>\n",
              "      <td>0.495000</td>\n",
              "      <td>0.617500</td>\n",
              "      <td>28.452118</td>\n",
              "      <td>8.537303</td>\n",
              "      <td>0.201250</td>\n",
              "    </tr>\n",
              "    <tr>\n",
              "      <th>std</th>\n",
              "      <td>231.0844</td>\n",
              "      <td>0.496697</td>\n",
              "      <td>0.499411</td>\n",
              "      <td>0.497805</td>\n",
              "      <td>0.49303</td>\n",
              "      <td>0.489157</td>\n",
              "      <td>0.460164</td>\n",
              "      <td>0.489687</td>\n",
              "      <td>0.500236</td>\n",
              "      <td>0.500288</td>\n",
              "      <td>0.486302</td>\n",
              "      <td>16.310966</td>\n",
              "      <td>4.807676</td>\n",
              "      <td>0.401185</td>\n",
              "    </tr>\n",
              "    <tr>\n",
              "      <th>min</th>\n",
              "      <td>1.0000</td>\n",
              "      <td>0.000000</td>\n",
              "      <td>0.000000</td>\n",
              "      <td>0.000000</td>\n",
              "      <td>0.00000</td>\n",
              "      <td>0.000000</td>\n",
              "      <td>0.000000</td>\n",
              "      <td>0.000000</td>\n",
              "      <td>0.000000</td>\n",
              "      <td>0.000000</td>\n",
              "      <td>0.000000</td>\n",
              "      <td>2.718550</td>\n",
              "      <td>-6.137748</td>\n",
              "      <td>0.000000</td>\n",
              "    </tr>\n",
              "    <tr>\n",
              "      <th>25%</th>\n",
              "      <td>200.7500</td>\n",
              "      <td>0.000000</td>\n",
              "      <td>0.000000</td>\n",
              "      <td>0.000000</td>\n",
              "      <td>0.00000</td>\n",
              "      <td>0.000000</td>\n",
              "      <td>0.000000</td>\n",
              "      <td>0.000000</td>\n",
              "      <td>0.000000</td>\n",
              "      <td>0.000000</td>\n",
              "      <td>0.000000</td>\n",
              "      <td>17.198153</td>\n",
              "      <td>5.306575</td>\n",
              "      <td>0.000000</td>\n",
              "    </tr>\n",
              "    <tr>\n",
              "      <th>50%</th>\n",
              "      <td>400.5000</td>\n",
              "      <td>1.000000</td>\n",
              "      <td>1.000000</td>\n",
              "      <td>0.000000</td>\n",
              "      <td>0.00000</td>\n",
              "      <td>0.000000</td>\n",
              "      <td>0.000000</td>\n",
              "      <td>0.000000</td>\n",
              "      <td>1.000000</td>\n",
              "      <td>0.000000</td>\n",
              "      <td>1.000000</td>\n",
              "      <td>24.848350</td>\n",
              "      <td>9.605299</td>\n",
              "      <td>0.000000</td>\n",
              "    </tr>\n",
              "    <tr>\n",
              "      <th>75%</th>\n",
              "      <td>600.2500</td>\n",
              "      <td>1.000000</td>\n",
              "      <td>1.000000</td>\n",
              "      <td>1.000000</td>\n",
              "      <td>1.00000</td>\n",
              "      <td>1.000000</td>\n",
              "      <td>1.000000</td>\n",
              "      <td>1.000000</td>\n",
              "      <td>1.000000</td>\n",
              "      <td>1.000000</td>\n",
              "      <td>1.000000</td>\n",
              "      <td>35.865429</td>\n",
              "      <td>12.514484</td>\n",
              "      <td>0.000000</td>\n",
              "    </tr>\n",
              "    <tr>\n",
              "      <th>max</th>\n",
              "      <td>800.0000</td>\n",
              "      <td>1.000000</td>\n",
              "      <td>1.000000</td>\n",
              "      <td>1.000000</td>\n",
              "      <td>1.00000</td>\n",
              "      <td>1.000000</td>\n",
              "      <td>1.000000</td>\n",
              "      <td>1.000000</td>\n",
              "      <td>1.000000</td>\n",
              "      <td>1.000000</td>\n",
              "      <td>1.000000</td>\n",
              "      <td>89.461718</td>\n",
              "      <td>15.853126</td>\n",
              "      <td>1.000000</td>\n",
              "    </tr>\n",
              "  </tbody>\n",
              "</table>\n",
              "</div>\n",
              "    <div class=\"colab-df-buttons\">\n",
              "\n",
              "  <div class=\"colab-df-container\">\n",
              "    <button class=\"colab-df-convert\" onclick=\"convertToInteractive('df-bfb8766b-ff35-4bee-9aeb-6db85d31c5c3')\"\n",
              "            title=\"Convert this dataframe to an interactive table.\"\n",
              "            style=\"display:none;\">\n",
              "\n",
              "  <svg xmlns=\"http://www.w3.org/2000/svg\" height=\"24px\" viewBox=\"0 -960 960 960\">\n",
              "    <path d=\"M120-120v-720h720v720H120Zm60-500h600v-160H180v160Zm220 220h160v-160H400v160Zm0 220h160v-160H400v160ZM180-400h160v-160H180v160Zm440 0h160v-160H620v160ZM180-180h160v-160H180v160Zm440 0h160v-160H620v160Z\"/>\n",
              "  </svg>\n",
              "    </button>\n",
              "\n",
              "  <style>\n",
              "    .colab-df-container {\n",
              "      display:flex;\n",
              "      gap: 12px;\n",
              "    }\n",
              "\n",
              "    .colab-df-convert {\n",
              "      background-color: #E8F0FE;\n",
              "      border: none;\n",
              "      border-radius: 50%;\n",
              "      cursor: pointer;\n",
              "      display: none;\n",
              "      fill: #1967D2;\n",
              "      height: 32px;\n",
              "      padding: 0 0 0 0;\n",
              "      width: 32px;\n",
              "    }\n",
              "\n",
              "    .colab-df-convert:hover {\n",
              "      background-color: #E2EBFA;\n",
              "      box-shadow: 0px 1px 2px rgba(60, 64, 67, 0.3), 0px 1px 3px 1px rgba(60, 64, 67, 0.15);\n",
              "      fill: #174EA6;\n",
              "    }\n",
              "\n",
              "    .colab-df-buttons div {\n",
              "      margin-bottom: 4px;\n",
              "    }\n",
              "\n",
              "    [theme=dark] .colab-df-convert {\n",
              "      background-color: #3B4455;\n",
              "      fill: #D2E3FC;\n",
              "    }\n",
              "\n",
              "    [theme=dark] .colab-df-convert:hover {\n",
              "      background-color: #434B5C;\n",
              "      box-shadow: 0px 1px 3px 1px rgba(0, 0, 0, 0.15);\n",
              "      filter: drop-shadow(0px 1px 2px rgba(0, 0, 0, 0.3));\n",
              "      fill: #FFFFFF;\n",
              "    }\n",
              "  </style>\n",
              "\n",
              "    <script>\n",
              "      const buttonEl =\n",
              "        document.querySelector('#df-bfb8766b-ff35-4bee-9aeb-6db85d31c5c3 button.colab-df-convert');\n",
              "      buttonEl.style.display =\n",
              "        google.colab.kernel.accessAllowed ? 'block' : 'none';\n",
              "\n",
              "      async function convertToInteractive(key) {\n",
              "        const element = document.querySelector('#df-bfb8766b-ff35-4bee-9aeb-6db85d31c5c3');\n",
              "        const dataTable =\n",
              "          await google.colab.kernel.invokeFunction('convertToInteractive',\n",
              "                                                    [key], {});\n",
              "        if (!dataTable) return;\n",
              "\n",
              "        const docLinkHtml = 'Like what you see? Visit the ' +\n",
              "          '<a target=\"_blank\" href=https://colab.research.google.com/notebooks/data_table.ipynb>data table notebook</a>'\n",
              "          + ' to learn more about interactive tables.';\n",
              "        element.innerHTML = '';\n",
              "        dataTable['output_type'] = 'display_data';\n",
              "        await google.colab.output.renderOutput(dataTable, element);\n",
              "        const docLink = document.createElement('div');\n",
              "        docLink.innerHTML = docLinkHtml;\n",
              "        element.appendChild(docLink);\n",
              "      }\n",
              "    </script>\n",
              "  </div>\n",
              "\n",
              "\n",
              "<div id=\"df-2d4616a0-f441-4cc0-a1f8-f78285d10ea9\">\n",
              "  <button class=\"colab-df-quickchart\" onclick=\"quickchart('df-2d4616a0-f441-4cc0-a1f8-f78285d10ea9')\"\n",
              "            title=\"Suggest charts\"\n",
              "            style=\"display:none;\">\n",
              "\n",
              "<svg xmlns=\"http://www.w3.org/2000/svg\" height=\"24px\"viewBox=\"0 0 24 24\"\n",
              "     width=\"24px\">\n",
              "    <g>\n",
              "        <path d=\"M19 3H5c-1.1 0-2 .9-2 2v14c0 1.1.9 2 2 2h14c1.1 0 2-.9 2-2V5c0-1.1-.9-2-2-2zM9 17H7v-7h2v7zm4 0h-2V7h2v10zm4 0h-2v-4h2v4z\"/>\n",
              "    </g>\n",
              "</svg>\n",
              "  </button>\n",
              "\n",
              "<style>\n",
              "  .colab-df-quickchart {\n",
              "      --bg-color: #E8F0FE;\n",
              "      --fill-color: #1967D2;\n",
              "      --hover-bg-color: #E2EBFA;\n",
              "      --hover-fill-color: #174EA6;\n",
              "      --disabled-fill-color: #AAA;\n",
              "      --disabled-bg-color: #DDD;\n",
              "  }\n",
              "\n",
              "  [theme=dark] .colab-df-quickchart {\n",
              "      --bg-color: #3B4455;\n",
              "      --fill-color: #D2E3FC;\n",
              "      --hover-bg-color: #434B5C;\n",
              "      --hover-fill-color: #FFFFFF;\n",
              "      --disabled-bg-color: #3B4455;\n",
              "      --disabled-fill-color: #666;\n",
              "  }\n",
              "\n",
              "  .colab-df-quickchart {\n",
              "    background-color: var(--bg-color);\n",
              "    border: none;\n",
              "    border-radius: 50%;\n",
              "    cursor: pointer;\n",
              "    display: none;\n",
              "    fill: var(--fill-color);\n",
              "    height: 32px;\n",
              "    padding: 0;\n",
              "    width: 32px;\n",
              "  }\n",
              "\n",
              "  .colab-df-quickchart:hover {\n",
              "    background-color: var(--hover-bg-color);\n",
              "    box-shadow: 0 1px 2px rgba(60, 64, 67, 0.3), 0 1px 3px 1px rgba(60, 64, 67, 0.15);\n",
              "    fill: var(--button-hover-fill-color);\n",
              "  }\n",
              "\n",
              "  .colab-df-quickchart-complete:disabled,\n",
              "  .colab-df-quickchart-complete:disabled:hover {\n",
              "    background-color: var(--disabled-bg-color);\n",
              "    fill: var(--disabled-fill-color);\n",
              "    box-shadow: none;\n",
              "  }\n",
              "\n",
              "  .colab-df-spinner {\n",
              "    border: 2px solid var(--fill-color);\n",
              "    border-color: transparent;\n",
              "    border-bottom-color: var(--fill-color);\n",
              "    animation:\n",
              "      spin 1s steps(1) infinite;\n",
              "  }\n",
              "\n",
              "  @keyframes spin {\n",
              "    0% {\n",
              "      border-color: transparent;\n",
              "      border-bottom-color: var(--fill-color);\n",
              "      border-left-color: var(--fill-color);\n",
              "    }\n",
              "    20% {\n",
              "      border-color: transparent;\n",
              "      border-left-color: var(--fill-color);\n",
              "      border-top-color: var(--fill-color);\n",
              "    }\n",
              "    30% {\n",
              "      border-color: transparent;\n",
              "      border-left-color: var(--fill-color);\n",
              "      border-top-color: var(--fill-color);\n",
              "      border-right-color: var(--fill-color);\n",
              "    }\n",
              "    40% {\n",
              "      border-color: transparent;\n",
              "      border-right-color: var(--fill-color);\n",
              "      border-top-color: var(--fill-color);\n",
              "    }\n",
              "    60% {\n",
              "      border-color: transparent;\n",
              "      border-right-color: var(--fill-color);\n",
              "    }\n",
              "    80% {\n",
              "      border-color: transparent;\n",
              "      border-right-color: var(--fill-color);\n",
              "      border-bottom-color: var(--fill-color);\n",
              "    }\n",
              "    90% {\n",
              "      border-color: transparent;\n",
              "      border-bottom-color: var(--fill-color);\n",
              "    }\n",
              "  }\n",
              "</style>\n",
              "\n",
              "  <script>\n",
              "    async function quickchart(key) {\n",
              "      const quickchartButtonEl =\n",
              "        document.querySelector('#' + key + ' button');\n",
              "      quickchartButtonEl.disabled = true;  // To prevent multiple clicks.\n",
              "      quickchartButtonEl.classList.add('colab-df-spinner');\n",
              "      try {\n",
              "        const charts = await google.colab.kernel.invokeFunction(\n",
              "            'suggestCharts', [key], {});\n",
              "      } catch (error) {\n",
              "        console.error('Error during call to suggestCharts:', error);\n",
              "      }\n",
              "      quickchartButtonEl.classList.remove('colab-df-spinner');\n",
              "      quickchartButtonEl.classList.add('colab-df-quickchart-complete');\n",
              "    }\n",
              "    (() => {\n",
              "      let quickchartButtonEl =\n",
              "        document.querySelector('#df-2d4616a0-f441-4cc0-a1f8-f78285d10ea9 button');\n",
              "      quickchartButtonEl.style.display =\n",
              "        google.colab.kernel.accessAllowed ? 'block' : 'none';\n",
              "    })();\n",
              "  </script>\n",
              "</div>\n",
              "\n",
              "    </div>\n",
              "  </div>\n"
            ],
            "application/vnd.google.colaboratory.intrinsic+json": {
              "type": "dataframe",
              "summary": "{\n  \"name\": \"train_data\",\n  \"rows\": 8,\n  \"fields\": [\n    {\n      \"column\": \"ID\",\n      \"properties\": {\n        \"dtype\": \"number\",\n        \"std\": 288.0191378976687,\n        \"min\": 1.0,\n        \"max\": 800.0,\n        \"num_unique_values\": 6,\n        \"samples\": [\n          800.0,\n          400.5,\n          600.25\n        ],\n        \"semantic_type\": \"\",\n        \"description\": \"\"\n      }\n    },\n    {\n      \"column\": \"A1_Score\",\n      \"properties\": {\n        \"dtype\": \"number\",\n        \"std\": 282.63812393571743,\n        \"min\": 0.0,\n        \"max\": 800.0,\n        \"num_unique_values\": 5,\n        \"samples\": [\n          0.56,\n          1.0,\n          0.4966974788358124\n        ],\n        \"semantic_type\": \"\",\n        \"description\": \"\"\n      }\n    },\n    {\n      \"column\": \"A2_Score\",\n      \"properties\": {\n        \"dtype\": \"number\",\n        \"std\": 282.63950247332025,\n        \"min\": 0.0,\n        \"max\": 800.0,\n        \"num_unique_values\": 5,\n        \"samples\": [\n          0.53,\n          1.0,\n          0.4994114182774381\n        ],\n        \"semantic_type\": \"\",\n        \"description\": \"\"\n      }\n    },\n    {\n      \"column\": \"A3_Score\",\n      \"properties\": {\n        \"dtype\": \"number\",\n        \"std\": 282.6941313066948,\n        \"min\": 0.0,\n        \"max\": 800.0,\n        \"num_unique_values\": 5,\n        \"samples\": [\n          0.45,\n          1.0,\n          0.4978049439316102\n        ],\n        \"semantic_type\": \"\",\n        \"description\": \"\"\n      }\n    },\n    {\n      \"column\": \"A4_Score\",\n      \"properties\": {\n        \"dtype\": \"number\",\n        \"std\": 282.6961397911071,\n        \"min\": 0.0,\n        \"max\": 800.0,\n        \"num_unique_values\": 5,\n        \"samples\": [\n          0.415,\n          1.0,\n          0.4930302714445644\n        ],\n        \"semantic_type\": \"\",\n        \"description\": \"\"\n      }\n    },\n    {\n      \"column\": \"A5_Score\",\n      \"properties\": {\n        \"dtype\": \"number\",\n        \"std\": 282.6973455335407,\n        \"min\": 0.0,\n        \"max\": 800.0,\n        \"num_unique_values\": 5,\n        \"samples\": [\n          0.395,\n          1.0,\n          0.489156511370103\n        ],\n        \"semantic_type\": \"\",\n        \"description\": \"\"\n      }\n    },\n    {\n      \"column\": \"A6_Score\",\n      \"properties\": {\n        \"dtype\": \"number\",\n        \"std\": 282.70342015552376,\n        \"min\": 0.0,\n        \"max\": 800.0,\n        \"num_unique_values\": 5,\n        \"samples\": [\n          0.30375,\n          1.0,\n          0.46016369455034994\n        ],\n        \"semantic_type\": \"\",\n        \"description\": \"\"\n      }\n    },\n    {\n      \"column\": \"A7_Score\",\n      \"properties\": {\n        \"dtype\": \"number\",\n        \"std\": 282.69719246450745,\n        \"min\": 0.0,\n        \"max\": 800.0,\n        \"num_unique_values\": 5,\n        \"samples\": [\n          0.3975,\n          1.0,\n          0.4896871367157107\n        ],\n        \"semantic_type\": \"\",\n        \"description\": \"\"\n      }\n    },\n    {\n      \"column\": \"A8_Score\",\n      \"properties\": {\n        \"dtype\": \"number\",\n        \"std\": 282.64053466022426,\n        \"min\": 0.0,\n        \"max\": 800.0,\n        \"num_unique_values\": 5,\n        \"samples\": [\n          0.50875,\n          1.0,\n          0.5002361770114079\n        ],\n        \"semantic_type\": \"\",\n        \"description\": \"\"\n      }\n    },\n    {\n      \"column\": \"A9_Score\",\n      \"properties\": {\n        \"dtype\": \"number\",\n        \"std\": 282.69173424897446,\n        \"min\": 0.0,\n        \"max\": 800.0,\n        \"num_unique_values\": 5,\n        \"samples\": [\n          0.495,\n          1.0,\n          0.500287777009174\n        ],\n        \"semantic_type\": \"\",\n        \"description\": \"\"\n      }\n    },\n    {\n      \"column\": \"A10_Score\",\n      \"properties\": {\n        \"dtype\": \"number\",\n        \"std\": 282.6357454653514,\n        \"min\": 0.0,\n        \"max\": 800.0,\n        \"num_unique_values\": 5,\n        \"samples\": [\n          0.6175,\n          1.0,\n          0.48630171879413264\n        ],\n        \"semantic_type\": \"\",\n        \"description\": \"\"\n      }\n    },\n    {\n      \"column\": \"age\",\n      \"properties\": {\n        \"dtype\": \"number\",\n        \"std\": 273.22008401470515,\n        \"min\": 2.718549681,\n        \"max\": 800.0,\n        \"num_unique_values\": 8,\n        \"samples\": [\n          28.452117626575,\n          24.848350449999998,\n          800.0\n        ],\n        \"semantic_type\": \"\",\n        \"description\": \"\"\n      }\n    },\n    {\n      \"column\": \"result\",\n      \"properties\": {\n        \"dtype\": \"number\",\n        \"std\": 280.3686527518332,\n        \"min\": -6.137748048,\n        \"max\": 800.0,\n        \"num_unique_values\": 8,\n        \"samples\": [\n          8.537303106501248,\n          9.605299308,\n          800.0\n        ],\n        \"semantic_type\": \"\",\n        \"description\": \"\"\n      }\n    },\n    {\n      \"column\": \"Class/ASD\",\n      \"properties\": {\n        \"dtype\": \"number\",\n        \"std\": 282.7619881054489,\n        \"min\": 0.0,\n        \"max\": 800.0,\n        \"num_unique_values\": 5,\n        \"samples\": [\n          0.20125,\n          1.0,\n          0.40118527456857545\n        ],\n        \"semantic_type\": \"\",\n        \"description\": \"\"\n      }\n    }\n  ]\n}"
            }
          },
          "metadata": {},
          "execution_count": 9
        }
      ]
    },
    {
      "cell_type": "code",
      "source": [
        "train_data.info()"
      ],
      "metadata": {
        "id": "BPl6Faa1B92O",
        "colab": {
          "base_uri": "https://localhost:8080/"
        },
        "outputId": "439f2bab-85af-49b4-bdf8-f4f5fedc974b"
      },
      "execution_count": null,
      "outputs": [
        {
          "output_type": "stream",
          "name": "stdout",
          "text": [
            "<class 'pandas.core.frame.DataFrame'>\n",
            "RangeIndex: 800 entries, 0 to 799\n",
            "Data columns (total 22 columns):\n",
            " #   Column           Non-Null Count  Dtype  \n",
            "---  ------           --------------  -----  \n",
            " 0   ID               800 non-null    int64  \n",
            " 1   A1_Score         800 non-null    int64  \n",
            " 2   A2_Score         800 non-null    int64  \n",
            " 3   A3_Score         800 non-null    int64  \n",
            " 4   A4_Score         800 non-null    int64  \n",
            " 5   A5_Score         800 non-null    int64  \n",
            " 6   A6_Score         800 non-null    int64  \n",
            " 7   A7_Score         800 non-null    int64  \n",
            " 8   A8_Score         800 non-null    int64  \n",
            " 9   A9_Score         800 non-null    int64  \n",
            " 10  A10_Score        800 non-null    int64  \n",
            " 11  age              800 non-null    float64\n",
            " 12  gender           800 non-null    object \n",
            " 13  ethnicity        800 non-null    object \n",
            " 14  jaundice         800 non-null    object \n",
            " 15  austim           800 non-null    object \n",
            " 16  contry_of_res    800 non-null    object \n",
            " 17  used_app_before  800 non-null    object \n",
            " 18  result           800 non-null    float64\n",
            " 19  age_desc         800 non-null    object \n",
            " 20  relation         800 non-null    object \n",
            " 21  Class/ASD        800 non-null    int64  \n",
            "dtypes: float64(2), int64(12), object(8)\n",
            "memory usage: 137.6+ KB\n"
          ]
        }
      ]
    },
    {
      "cell_type": "code",
      "source": [
        "train_data.dtypes"
      ],
      "metadata": {
        "id": "N0wOfZ4dCRCi",
        "colab": {
          "base_uri": "https://localhost:8080/"
        },
        "outputId": "49f848e7-43ae-4301-912c-e516f2682735"
      },
      "execution_count": null,
      "outputs": [
        {
          "output_type": "execute_result",
          "data": {
            "text/plain": [
              "ID                   int64\n",
              "A1_Score             int64\n",
              "A2_Score             int64\n",
              "A3_Score             int64\n",
              "A4_Score             int64\n",
              "A5_Score             int64\n",
              "A6_Score             int64\n",
              "A7_Score             int64\n",
              "A8_Score             int64\n",
              "A9_Score             int64\n",
              "A10_Score            int64\n",
              "age                float64\n",
              "gender              object\n",
              "ethnicity           object\n",
              "jaundice            object\n",
              "austim              object\n",
              "contry_of_res       object\n",
              "used_app_before     object\n",
              "result             float64\n",
              "age_desc            object\n",
              "relation            object\n",
              "Class/ASD            int64\n",
              "dtype: object"
            ]
          },
          "metadata": {},
          "execution_count": 11
        }
      ]
    },
    {
      "cell_type": "code",
      "source": [
        "train_data[\"ethnicity\"].unique()"
      ],
      "metadata": {
        "id": "0qhzBCMyJvlU",
        "colab": {
          "base_uri": "https://localhost:8080/"
        },
        "outputId": "58ef7189-f664-4721-8d01-392880897ea8"
      },
      "execution_count": null,
      "outputs": [
        {
          "output_type": "execute_result",
          "data": {
            "text/plain": [
              "array(['?', 'White-European', 'Middle Eastern ', 'Pasifika', 'Black',\n",
              "       'Others', 'Hispanic', 'Asian', 'Turkish', 'South Asian', 'Latino',\n",
              "       'others'], dtype=object)"
            ]
          },
          "metadata": {},
          "execution_count": 12
        }
      ]
    },
    {
      "cell_type": "code",
      "source": [
        "train_data[\"ethnicity\"].value_counts()"
      ],
      "metadata": {
        "id": "Ss2k7RnWKbpX",
        "colab": {
          "base_uri": "https://localhost:8080/"
        },
        "outputId": "035ca0fb-0a6a-4a17-9488-6cb0a2ca4762"
      },
      "execution_count": null,
      "outputs": [
        {
          "output_type": "execute_result",
          "data": {
            "text/plain": [
              "ethnicity\n",
              "White-European     257\n",
              "?                  203\n",
              "Middle Eastern      97\n",
              "Asian               67\n",
              "Black               47\n",
              "South Asian         34\n",
              "Pasifika            32\n",
              "Others              29\n",
              "Latino              17\n",
              "Hispanic             9\n",
              "Turkish              5\n",
              "others               3\n",
              "Name: count, dtype: int64"
            ]
          },
          "metadata": {},
          "execution_count": 13
        }
      ]
    },
    {
      "cell_type": "code",
      "execution_count": null,
      "metadata": {
        "execution": {
          "iopub.execute_input": "2021-10-30T13:03:18.353396Z",
          "iopub.status.busy": "2021-10-30T13:03:18.352733Z",
          "iopub.status.idle": "2021-10-30T13:03:18.355677Z",
          "shell.execute_reply": "2021-10-30T13:03:18.355155Z",
          "shell.execute_reply.started": "2021-10-30T12:07:22.679303Z"
        },
        "papermill": {
          "duration": 0.07283,
          "end_time": "2021-10-30T13:03:18.355819",
          "exception": false,
          "start_time": "2021-10-30T13:03:18.282989",
          "status": "completed"
        },
        "tags": [],
        "id": "9b192f5a"
      },
      "outputs": [],
      "source": [
        "train_data['ethnicity'] = train_data['ethnicity'].replace('?', 'Others')\n",
        "train_data['ethnicity'] = train_data['ethnicity'].replace('others', 'Others')"
      ]
    },
    {
      "cell_type": "code",
      "source": [
        "train_data[\"ethnicity\"].value_counts()"
      ],
      "metadata": {
        "id": "4qAosh9sLGHz",
        "colab": {
          "base_uri": "https://localhost:8080/"
        },
        "outputId": "09a47e43-88c3-43be-bb0c-b38902684e2f"
      },
      "execution_count": null,
      "outputs": [
        {
          "output_type": "execute_result",
          "data": {
            "text/plain": [
              "ethnicity\n",
              "White-European     257\n",
              "Others             235\n",
              "Middle Eastern      97\n",
              "Asian               67\n",
              "Black               47\n",
              "South Asian         34\n",
              "Pasifika            32\n",
              "Latino              17\n",
              "Hispanic             9\n",
              "Turkish              5\n",
              "Name: count, dtype: int64"
            ]
          },
          "metadata": {},
          "execution_count": 15
        }
      ]
    },
    {
      "cell_type": "code",
      "source": [
        "train_data[\"jaundice\"].value_counts()"
      ],
      "metadata": {
        "id": "9Enkr-SAKjVb",
        "colab": {
          "base_uri": "https://localhost:8080/"
        },
        "outputId": "f4a4dcd2-4e74-4c64-8310-bc3248b20704"
      },
      "execution_count": null,
      "outputs": [
        {
          "output_type": "execute_result",
          "data": {
            "text/plain": [
              "jaundice\n",
              "no     615\n",
              "yes    185\n",
              "Name: count, dtype: int64"
            ]
          },
          "metadata": {},
          "execution_count": 16
        }
      ]
    },
    {
      "cell_type": "code",
      "source": [
        "train_data[\"austim\"].value_counts()"
      ],
      "metadata": {
        "id": "w3UPtVXxKWlD",
        "colab": {
          "base_uri": "https://localhost:8080/"
        },
        "outputId": "96eb4690-2285-4f9d-e13c-bfd0a49eb82d"
      },
      "execution_count": null,
      "outputs": [
        {
          "output_type": "execute_result",
          "data": {
            "text/plain": [
              "austim\n",
              "no     669\n",
              "yes    131\n",
              "Name: count, dtype: int64"
            ]
          },
          "metadata": {},
          "execution_count": 17
        }
      ]
    },
    {
      "cell_type": "markdown",
      "source": [
        "**Exploratory Data Analysis**"
      ],
      "metadata": {
        "id": "0F3JVp0ZLkY1"
      }
    },
    {
      "cell_type": "code",
      "source": [
        "# Histogram of numerical features\n",
        "numerical_features = ['age', 'result']\n",
        "for feature in numerical_features:\n",
        "    plt.figure(figsize=(8, 5))\n",
        "    sns.histplot(data=train_data, x=feature)\n",
        "    plt.title(f'Histogram of {feature}')\n",
        "    plt.show()"
      ],
      "metadata": {
        "id": "TOKi95n3MiDc",
        "colab": {
          "base_uri": "https://localhost:8080/",
          "height": 957
        },
        "outputId": "5629582c-81f5-4aa9-f45c-4767b0647d7f"
      },
      "execution_count": null,
      "outputs": [
        {
          "output_type": "display_data",
          "data": {
            "text/plain": [
              "<Figure size 800x500 with 1 Axes>"
            ],
            "image/png": "[encoded data removed]"
          },
          "metadata": {}
        },
        {
          "output_type": "display_data",
          "data": {
            "text/plain": [
              "<Figure size 800x500 with 1 Axes>"
            ],
            "image/png": "[encoded data removed]"
          },
          "metadata": {}
        }
      ]
    },
    {
      "cell_type": "code",
      "source": [
        "# Bar plot of categorical features\n",
        "categorical_features = ['gender', 'ethnicity', 'jaundice', 'austim', 'contry_of_res', 'used_app_before', 'Class/ASD']\n",
        "for feature in categorical_features:\n",
        "    plt.figure(figsize=(8, 5))\n",
        "    sns.countplot(data=train_data, x=feature)\n",
        "    plt.title(f'Bar Plot of {feature}')\n",
        "    plt.xticks(rotation=45)\n",
        "    plt.show()"
      ],
      "metadata": {
        "id": "9H3RyUxqMmdH",
        "colab": {
          "base_uri": "https://localhost:8080/",
          "height": 1000
        },
        "outputId": "f61669dc-0449-492f-ea28-1ef3d574da6f"
      },
      "execution_count": null,
      "outputs": [
        {
          "output_type": "display_data",
          "data": {
            "text/plain": [
              "<Figure size 800x500 with 1 Axes>"
            ],
            "image/png": "[encoded data removed]"
          },
          "metadata": {}
        },
        {
          "output_type": "display_data",
          "data": {
            "text/plain": [
              "<Figure size 800x500 with 1 Axes>"
            ],
            "image/png": "[encoded data removed]"
          },
          "metadata": {}
        },
        {
          "output_type": "display_data",
          "data": {
            "text/plain": [
              "<Figure size 800x500 with 1 Axes>"
            ],
            "image/png": "[encoded data removed]"
          },
          "metadata": {}
        },
        {
          "output_type": "display_data",
          "data": {
            "text/plain": [
              "<Figure size 800x500 with 1 Axes>"
            ],
            "image/png": "[encoded data removed]"
          },
          "metadata": {}
        },
        {
          "output_type": "display_data",
          "data": {
            "text/plain": [
              "<Figure size 800x500 with 1 Axes>"
            ],
            "image/png": "[encoded data removed]"
          },
          "metadata": {}
        },
        {
          "output_type": "display_data",
          "data": {
            "text/plain": [
              "<Figure size 800x500 with 1 Axes>"
            ],
            "image/png": "[encoded data removed]"
          },
          "metadata": {}
        },
        {
          "output_type": "display_data",
          "data": {
            "text/plain": [
              "<Figure size 800x500 with 1 Axes>"
            ],
            "image/png": "[encoded data removed]"
          },
          "metadata": {}
        }
      ]
    },
    {
      "cell_type": "code",
      "source": [
        "# Pairplot of numerical features with hue as target variable\n",
        "sns.pairplot(train_data, vars=numerical_features, hue='Class/ASD', diag_kind='kde')\n",
        "plt.suptitle('Pairplot of Numerical Features with Class/ASD')\n",
        "plt.show()"
      ],
      "metadata": {
        "id": "xaBteJt5Mph-",
        "colab": {
          "base_uri": "https://localhost:8080/",
          "height": 515
        },
        "outputId": "4c6509f0-f511-437e-f4a0-5b14bb427903"
      },
      "execution_count": null,
      "outputs": [
        {
          "output_type": "display_data",
          "data": {
            "text/plain": [
              "<Figure size 581.236x500 with 6 Axes>"
            ],
            "image/png": "[encoded data removed]"
          },
          "metadata": {}
        }
      ]
    },
    {
      "cell_type": "code",
      "source": [
        "import plotly.express as px\n",
        "\n",
        "# Assuming 'train_data' is your DataFrame\n",
        "colors = ['black', 'purple']\n",
        "\n",
        "# Grouping data to get counts\n",
        "autism_counts = train_data['Class/ASD'].value_counts().reset_index()\n",
        "autism_counts.columns = ['Class/ASD', 'Count']\n",
        "\n",
        "# Plotting donut chart\n",
        "fig = px.pie(autism_counts, names='Class/ASD', values='Count', hole=0.7, color_discrete_sequence=colors,\n",
        "             title='TOTAL AUTISM SPECTRUM DISORDER (ASD) %')\n",
        "\n",
        "fig.show()"
      ],
      "metadata": {
        "id": "iL_QE8o5OOHQ",
        "colab": {
          "base_uri": "https://localhost:8080/",
          "height": 542
        },
        "outputId": "f9b7adb0-050d-48f9-b68b-6260a9a21a7b"
      },
      "execution_count": null,
      "outputs": [
        {
          "output_type": "display_data",
          "data": {
            "text/html": [
              "<html>\n",
              "<head><meta charset=\"utf-8\" /></head>\n",
              "<body>\n",
              "    <div>            <script src=\"https://cdnjs.cloudflare.com/ajax/libs/mathjax/2.7.5/MathJax.js?config=TeX-AMS-MML_SVG\"></script><script type=\"text/javascript\">if (window.MathJax && window.MathJax.Hub && window.MathJax.Hub.Config) {window.MathJax.Hub.Config({SVG: {font: \"STIX-Web\"}});}</script>                <script type=\"text/javascript\">window.PlotlyConfig = {MathJaxConfig: 'local'};</script>\n",
              "        <script charset=\"utf-8\" src=\"https://cdn.plot.ly/plotly-2.24.1.min.js\"></script>                <div id=\"b90ed642-4e69-43d8-aff5-5558dfdea8dd\" class=\"plotly-graph-div\" style=\"height:525px; width:100%;\"></div>            <script type=\"text/javascript\">                                    window.PLOTLYENV=window.PLOTLYENV || {};                                    if (document.getElementById(\"b90ed642-4e69-43d8-aff5-5558dfdea8dd\")) {                    Plotly.newPlot(                        \"b90ed642-4e69-43d8-aff5-5558dfdea8dd\",                        [{\"domain\":{\"x\":[0.0,1.0],\"y\":[0.0,1.0]},\"hole\":0.7,\"hovertemplate\":\"Class\\u002fASD=%{label}\\u003cbr\\u003eCount=%{value}\\u003cextra\\u003e\\u003c\\u002fextra\\u003e\",\"labels\":[0,1],\"legendgroup\":\"\",\"name\":\"\",\"showlegend\":true,\"values\":[639,161],\"type\":\"pie\"}],                        {\"template\":{\"data\":{\"histogram2dcontour\":[{\"type\":\"histogram2dcontour\",\"colorbar\":{\"outlinewidth\":0,\"ticks\":\"\"},\"colorscale\":[[0.0,\"#0d0887\"],[0.1111111111111111,\"#46039f\"],[0.2222222222222222,\"#7201a8\"],[0.3333333333333333,\"#9c179e\"],[0.4444444444444444,\"#bd3786\"],[0.5555555555555556,\"#d8576b\"],[0.6666666666666666,\"#ed7953\"],[0.7777777777777778,\"#fb9f3a\"],[0.8888888888888888,\"#fdca26\"],[1.0,\"#f0f921\"]]}],\"choropleth\":[{\"type\":\"choropleth\",\"colorbar\":{\"outlinewidth\":0,\"ticks\":\"\"}}],\"histogram2d\":[{\"type\":\"histogram2d\",\"colorbar\":{\"outlinewidth\":0,\"ticks\":\"\"},\"colorscale\":[[0.0,\"#0d0887\"],[0.1111111111111111,\"#46039f\"],[0.2222222222222222,\"#7201a8\"],[0.3333333333333333,\"#9c179e\"],[0.4444444444444444,\"#bd3786\"],[0.5555555555555556,\"#d8576b\"],[0.6666666666666666,\"#ed7953\"],[0.7777777777777778,\"#fb9f3a\"],[0.8888888888888888,\"#fdca26\"],[1.0,\"#f0f921\"]]}],\"heatmap\":[{\"type\":\"heatmap\",\"colorbar\":{\"outlinewidth\":0,\"ticks\":\"\"},\"colorscale\":[[0.0,\"#0d0887\"],[0.1111111111111111,\"#46039f\"],[0.2222222222222222,\"#7201a8\"],[0.3333333333333333,\"#9c179e\"],[0.4444444444444444,\"#bd3786\"],[0.5555555555555556,\"#d8576b\"],[0.6666666666666666,\"#ed7953\"],[0.7777777777777778,\"#fb9f3a\"],[0.8888888888888888,\"#fdca26\"],[1.0,\"#f0f921\"]]}],\"heatmapgl\":[{\"type\":\"heatmapgl\",\"colorbar\":{\"outlinewidth\":0,\"ticks\":\"\"},\"colorscale\":[[0.0,\"#0d0887\"],[0.1111111111111111,\"#46039f\"],[0.2222222222222222,\"#7201a8\"],[0.3333333333333333,\"#9c179e\"],[0.4444444444444444,\"#bd3786\"],[0.5555555555555556,\"#d8576b\"],[0.6666666666666666,\"#ed7953\"],[0.7777777777777778,\"#fb9f3a\"],[0.8888888888888888,\"#fdca26\"],[1.0,\"#f0f921\"]]}],\"contourcarpet\":[{\"type\":\"contourcarpet\",\"colorbar\":{\"outlinewidth\":0,\"ticks\":\"\"}}],\"contour\":[{\"type\":\"contour\",\"colorbar\":{\"outlinewidth\":0,\"ticks\":\"\"},\"colorscale\":[[0.0,\"#0d0887\"],[0.1111111111111111,\"#46039f\"],[0.2222222222222222,\"#7201a8\"],[0.3333333333333333,\"#9c179e\"],[0.4444444444444444,\"#bd3786\"],[0.5555555555555556,\"#d8576b\"],[0.6666666666666666,\"#ed7953\"],[0.7777777777777778,\"#fb9f3a\"],[0.8888888888888888,\"#fdca26\"],[1.0,\"#f0f921\"]]}],\"surface\":[{\"type\":\"surface\",\"colorbar\":{\"outlinewidth\":0,\"ticks\":\"\"},\"colorscale\":[[0.0,\"#0d0887\"],[0.1111111111111111,\"#46039f\"],[0.2222222222222222,\"#7201a8\"],[0.3333333333333333,\"#9c179e\"],[0.4444444444444444,\"#bd3786\"],[0.5555555555555556,\"#d8576b\"],[0.6666666666666666,\"#ed7953\"],[0.7777777777777778,\"#fb9f3a\"],[0.8888888888888888,\"#fdca26\"],[1.0,\"#f0f921\"]]}],\"mesh3d\":[{\"type\":\"mesh3d\",\"colorbar\":{\"outlinewidth\":0,\"ticks\":\"\"}}],\"scatter\":[{\"fillpattern\":{\"fillmode\":\"overlay\",\"size\":10,\"solidity\":0.2},\"type\":\"scatter\"}],\"parcoords\":[{\"type\":\"parcoords\",\"line\":{\"colorbar\":{\"outlinewidth\":0,\"ticks\":\"\"}}}],\"scatterpolargl\":[{\"type\":\"scatterpolargl\",\"marker\":{\"colorbar\":{\"outlinewidth\":0,\"ticks\":\"\"}}}],\"bar\":[{\"error_x\":{\"color\":\"#2a3f5f\"},\"error_y\":{\"color\":\"#2a3f5f\"},\"marker\":{\"line\":{\"color\":\"#E5ECF6\",\"width\":0.5},\"pattern\":{\"fillmode\":\"overlay\",\"size\":10,\"solidity\":0.2}},\"type\":\"bar\"}],\"scattergeo\":[{\"type\":\"scattergeo\",\"marker\":{\"colorbar\":{\"outlinewidth\":0,\"ticks\":\"\"}}}],\"scatterpolar\":[{\"type\":\"scatterpolar\",\"marker\":{\"colorbar\":{\"outlinewidth\":0,\"ticks\":\"\"}}}],\"histogram\":[{\"marker\":{\"pattern\":{\"fillmode\":\"overlay\",\"size\":10,\"solidity\":0.2}},\"type\":\"histogram\"}],\"scattergl\":[{\"type\":\"scattergl\",\"marker\":{\"colorbar\":{\"outlinewidth\":0,\"ticks\":\"\"}}}],\"scatter3d\":[{\"type\":\"scatter3d\",\"line\":{\"colorbar\":{\"outlinewidth\":0,\"ticks\":\"\"}},\"marker\":{\"colorbar\":{\"outlinewidth\":0,\"ticks\":\"\"}}}],\"scattermapbox\":[{\"type\":\"scattermapbox\",\"marker\":{\"colorbar\":{\"outlinewidth\":0,\"ticks\":\"\"}}}],\"scatterternary\":[{\"type\":\"scatterternary\",\"marker\":{\"colorbar\":{\"outlinewidth\":0,\"ticks\":\"\"}}}],\"scattercarpet\":[{\"type\":\"scattercarpet\",\"marker\":{\"colorbar\":{\"outlinewidth\":0,\"ticks\":\"\"}}}],\"carpet\":[{\"aaxis\":{\"endlinecolor\":\"#2a3f5f\",\"gridcolor\":\"white\",\"linecolor\":\"white\",\"minorgridcolor\":\"white\",\"startlinecolor\":\"#2a3f5f\"},\"baxis\":{\"endlinecolor\":\"#2a3f5f\",\"gridcolor\":\"white\",\"linecolor\":\"white\",\"minorgridcolor\":\"white\",\"startlinecolor\":\"#2a3f5f\"},\"type\":\"carpet\"}],\"table\":[{\"cells\":{\"fill\":{\"color\":\"#EBF0F8\"},\"line\":{\"color\":\"white\"}},\"header\":{\"fill\":{\"color\":\"#C8D4E3\"},\"line\":{\"color\":\"white\"}},\"type\":\"table\"}],\"barpolar\":[{\"marker\":{\"line\":{\"color\":\"#E5ECF6\",\"width\":0.5},\"pattern\":{\"fillmode\":\"overlay\",\"size\":10,\"solidity\":0.2}},\"type\":\"barpolar\"}],\"pie\":[{\"automargin\":true,\"type\":\"pie\"}]},\"layout\":{\"autotypenumbers\":\"strict\",\"colorway\":[\"#636efa\",\"#EF553B\",\"#00cc96\",\"#ab63fa\",\"#FFA15A\",\"#19d3f3\",\"#FF6692\",\"#B6E880\",\"#FF97FF\",\"#FECB52\"],\"font\":{\"color\":\"#2a3f5f\"},\"hovermode\":\"closest\",\"hoverlabel\":{\"align\":\"left\"},\"paper_bgcolor\":\"white\",\"plot_bgcolor\":\"#E5ECF6\",\"polar\":{\"bgcolor\":\"#E5ECF6\",\"angularaxis\":{\"gridcolor\":\"white\",\"linecolor\":\"white\",\"ticks\":\"\"},\"radialaxis\":{\"gridcolor\":\"white\",\"linecolor\":\"white\",\"ticks\":\"\"}},\"ternary\":{\"bgcolor\":\"#E5ECF6\",\"aaxis\":{\"gridcolor\":\"white\",\"linecolor\":\"white\",\"ticks\":\"\"},\"baxis\":{\"gridcolor\":\"white\",\"linecolor\":\"white\",\"ticks\":\"\"},\"caxis\":{\"gridcolor\":\"white\",\"linecolor\":\"white\",\"ticks\":\"\"}},\"coloraxis\":{\"colorbar\":{\"outlinewidth\":0,\"ticks\":\"\"}},\"colorscale\":{\"sequential\":[[0.0,\"#0d0887\"],[0.1111111111111111,\"#46039f\"],[0.2222222222222222,\"#7201a8\"],[0.3333333333333333,\"#9c179e\"],[0.4444444444444444,\"#bd3786\"],[0.5555555555555556,\"#d8576b\"],[0.6666666666666666,\"#ed7953\"],[0.7777777777777778,\"#fb9f3a\"],[0.8888888888888888,\"#fdca26\"],[1.0,\"#f0f921\"]],\"sequentialminus\":[[0.0,\"#0d0887\"],[0.1111111111111111,\"#46039f\"],[0.2222222222222222,\"#7201a8\"],[0.3333333333333333,\"#9c179e\"],[0.4444444444444444,\"#bd3786\"],[0.5555555555555556,\"#d8576b\"],[0.6666666666666666,\"#ed7953\"],[0.7777777777777778,\"#fb9f3a\"],[0.8888888888888888,\"#fdca26\"],[1.0,\"#f0f921\"]],\"diverging\":[[0,\"#8e0152\"],[0.1,\"#c51b7d\"],[0.2,\"#de77ae\"],[0.3,\"#f1b6da\"],[0.4,\"#fde0ef\"],[0.5,\"#f7f7f7\"],[0.6,\"#e6f5d0\"],[0.7,\"#b8e186\"],[0.8,\"#7fbc41\"],[0.9,\"#4d9221\"],[1,\"#276419\"]]},\"xaxis\":{\"gridcolor\":\"white\",\"linecolor\":\"white\",\"ticks\":\"\",\"title\":{\"standoff\":15},\"zerolinecolor\":\"white\",\"automargin\":true,\"zerolinewidth\":2},\"yaxis\":{\"gridcolor\":\"white\",\"linecolor\":\"white\",\"ticks\":\"\",\"title\":{\"standoff\":15},\"zerolinecolor\":\"white\",\"automargin\":true,\"zerolinewidth\":2},\"scene\":{\"xaxis\":{\"backgroundcolor\":\"#E5ECF6\",\"gridcolor\":\"white\",\"linecolor\":\"white\",\"showbackground\":true,\"ticks\":\"\",\"zerolinecolor\":\"white\",\"gridwidth\":2},\"yaxis\":{\"backgroundcolor\":\"#E5ECF6\",\"gridcolor\":\"white\",\"linecolor\":\"white\",\"showbackground\":true,\"ticks\":\"\",\"zerolinecolor\":\"white\",\"gridwidth\":2},\"zaxis\":{\"backgroundcolor\":\"#E5ECF6\",\"gridcolor\":\"white\",\"linecolor\":\"white\",\"showbackground\":true,\"ticks\":\"\",\"zerolinecolor\":\"white\",\"gridwidth\":2}},\"shapedefaults\":{\"line\":{\"color\":\"#2a3f5f\"}},\"annotationdefaults\":{\"arrowcolor\":\"#2a3f5f\",\"arrowhead\":0,\"arrowwidth\":1},\"geo\":{\"bgcolor\":\"white\",\"landcolor\":\"#E5ECF6\",\"subunitcolor\":\"white\",\"showland\":true,\"showlakes\":true,\"lakecolor\":\"white\"},\"title\":{\"x\":0.05},\"mapbox\":{\"style\":\"light\"}}},\"legend\":{\"tracegroupgap\":0},\"title\":{\"text\":\"TOTAL AUTISM SPECTRUM DISORDER (ASD) %\"},\"piecolorway\":[\"black\",\"purple\"]},                        {\"responsive\": true}                    ).then(function(){\n",
              "                            \n",
              "var gd = document.getElementById('b90ed642-4e69-43d8-aff5-5558dfdea8dd');\n",
              "var x = new MutationObserver(function (mutations, observer) {{\n",
              "        var display = window.getComputedStyle(gd).display;\n",
              "        if (!display || display === 'none') {{\n",
              "            console.log([gd, 'removed!']);\n",
              "            Plotly.purge(gd);\n",
              "            observer.disconnect();\n",
              "        }}\n",
              "}});\n",
              "\n",
              "// Listen for the removal of the full notebook cells\n",
              "var notebookContainer = gd.closest('#notebook-container');\n",
              "if (notebookContainer) {{\n",
              "    x.observe(notebookContainer, {childList: true});\n",
              "}}\n",
              "\n",
              "// Listen for the clearing of the current output cell\n",
              "var outputEl = gd.closest('.output');\n",
              "if (outputEl) {{\n",
              "    x.observe(outputEl, {childList: true});\n",
              "}}\n",
              "\n",
              "                        })                };                            </script>        </div>\n",
              "</body>\n",
              "</html>"
            ]
          },
          "metadata": {}
        }
      ]
    },
    {
      "cell_type": "code",
      "source": [
        "fig = px.histogram(train_data, x=\"gender\",\n",
        "                   template='plotly_dark',\n",
        "                   color_discrete_sequence = [\"#84A9AC\"])\n",
        "\n",
        "fig.update_layout(title = \"<b>Counts of Male and Female</b>\",\n",
        "                  title_x = 0.5,\n",
        "                  title_font = dict(size = 20),\n",
        "                  uniformtext_minsize = 15)\n",
        "\n",
        "fig.show()"
      ],
      "metadata": {
        "id": "sRuUXLiYTA3k",
        "colab": {
          "base_uri": "https://localhost:8080/",
          "height": 542
        },
        "outputId": "dd2f9d47-880e-4334-b586-98da62846e95"
      },
      "execution_count": null,
      "outputs": [
        {
          "output_type": "display_data",
          "data": {
            "text/html": [
              "<html>\n",
              "<head><meta charset=\"utf-8\" /></head>\n",
              "<body>\n",
              "    <div>            <script src=\"https://cdnjs.cloudflare.com/ajax/libs/mathjax/2.7.5/MathJax.js?config=TeX-AMS-MML_SVG\"></script><script type=\"text/javascript\">if (window.MathJax && window.MathJax.Hub && window.MathJax.Hub.Config) {window.MathJax.Hub.Config({SVG: {font: \"STIX-Web\"}});}</script>                <script type=\"text/javascript\">window.PlotlyConfig = {MathJaxConfig: 'local'};</script>\n",
              "        <script charset=\"utf-8\" src=\"https://cdn.plot.ly/plotly-2.24.1.min.js\"></script>                <div id=\"bf7abfb1-175b-4534-9e09-2e107dcb567b\" class=\"plotly-graph-div\" style=\"height:525px; width:100%;\"></div>            <script type=\"text/javascript\">                                    window.PLOTLYENV=window.PLOTLYENV || {};                                    if (document.getElementById(\"bf7abfb1-175b-4534-9e09-2e107dcb567b\")) {                    Plotly.newPlot(                        \"bf7abfb1-175b-4534-9e09-2e107dcb567b\",                        [{\"alignmentgroup\":\"True\",\"bingroup\":\"x\",\"hovertemplate\":\"gender=%{x}\\u003cbr\\u003ecount=%{y}\\u003cextra\\u003e\\u003c\\u002fextra\\u003e\",\"legendgroup\":\"\",\"marker\":{\"color\":\"#84A9AC\",\"pattern\":{\"shape\":\"\"}},\"name\":\"\",\"offsetgroup\":\"\",\"orientation\":\"v\",\"showlegend\":false,\"x\":[\"f\",\"m\",\"m\",\"f\",\"m\",\"m\",\"f\",\"m\",\"m\",\"f\",\"f\",\"m\",\"m\",\"f\",\"m\",\"f\",\"m\",\"f\",\"f\",\"m\",\"m\",\"f\",\"m\",\"m\",\"m\",\"m\",\"m\",\"m\",\"m\",\"m\",\"m\",\"f\",\"m\",\"m\",\"m\",\"f\",\"m\",\"m\",\"m\",\"m\",\"f\",\"m\",\"m\",\"m\",\"m\",\"m\",\"m\",\"f\",\"m\",\"m\",\"m\",\"f\",\"m\",\"m\",\"m\",\"m\",\"m\",\"f\",\"f\",\"m\",\"m\",\"m\",\"m\",\"m\",\"m\",\"f\",\"f\",\"m\",\"f\",\"f\",\"m\",\"m\",\"m\",\"m\",\"m\",\"m\",\"m\",\"f\",\"m\",\"m\",\"f\",\"m\",\"m\",\"m\",\"m\",\"m\",\"m\",\"m\",\"f\",\"m\",\"m\",\"f\",\"m\",\"m\",\"f\",\"f\",\"m\",\"f\",\"m\",\"m\",\"f\",\"m\",\"f\",\"f\",\"f\",\"m\",\"m\",\"m\",\"f\",\"m\",\"f\",\"m\",\"f\",\"m\",\"m\",\"f\",\"m\",\"m\",\"m\",\"m\",\"f\",\"f\",\"f\",\"f\",\"f\",\"f\",\"f\",\"f\",\"m\",\"m\",\"m\",\"m\",\"m\",\"m\",\"m\",\"m\",\"f\",\"m\",\"f\",\"m\",\"m\",\"f\",\"m\",\"m\",\"m\",\"f\",\"m\",\"m\",\"m\",\"f\",\"m\",\"m\",\"f\",\"m\",\"m\",\"m\",\"m\",\"m\",\"m\",\"f\",\"f\",\"f\",\"m\",\"f\",\"f\",\"m\",\"m\",\"m\",\"f\",\"m\",\"f\",\"m\",\"m\",\"m\",\"m\",\"m\",\"f\",\"m\",\"f\",\"m\",\"f\",\"f\",\"f\",\"m\",\"m\",\"m\",\"f\",\"m\",\"m\",\"m\",\"m\",\"f\",\"m\",\"f\",\"m\",\"m\",\"m\",\"f\",\"m\",\"m\",\"m\",\"f\",\"m\",\"m\",\"f\",\"m\",\"f\",\"m\",\"m\",\"m\",\"m\",\"m\",\"f\",\"m\",\"m\",\"m\",\"m\",\"m\",\"m\",\"m\",\"m\",\"m\",\"m\",\"f\",\"m\",\"m\",\"m\",\"m\",\"m\",\"m\",\"m\",\"f\",\"m\",\"m\",\"m\",\"m\",\"m\",\"m\",\"f\",\"f\",\"f\",\"f\",\"m\",\"m\",\"m\",\"m\",\"m\",\"m\",\"f\",\"m\",\"m\",\"m\",\"m\",\"f\",\"m\",\"f\",\"m\",\"f\",\"f\",\"f\",\"m\",\"m\",\"f\",\"m\",\"m\",\"f\",\"m\",\"m\",\"m\",\"m\",\"f\",\"f\",\"f\",\"m\",\"f\",\"m\",\"m\",\"m\",\"m\",\"m\",\"f\",\"m\",\"f\",\"m\",\"f\",\"m\",\"m\",\"f\",\"f\",\"m\",\"f\",\"f\",\"m\",\"f\",\"m\",\"f\",\"m\",\"f\",\"m\",\"f\",\"f\",\"m\",\"m\",\"m\",\"m\",\"m\",\"m\",\"m\",\"m\",\"m\",\"f\",\"m\",\"f\",\"f\",\"m\",\"m\",\"m\",\"f\",\"m\",\"m\",\"m\",\"m\",\"f\",\"f\",\"m\",\"m\",\"m\",\"f\",\"m\",\"m\",\"f\",\"m\",\"f\",\"m\",\"m\",\"m\",\"f\",\"f\",\"m\",\"m\",\"f\",\"f\",\"m\",\"f\",\"m\",\"f\",\"f\",\"f\",\"m\",\"m\",\"m\",\"f\",\"m\",\"f\",\"m\",\"f\",\"m\",\"m\",\"f\",\"m\",\"m\",\"m\",\"f\",\"f\",\"m\",\"m\",\"m\",\"f\",\"m\",\"m\",\"m\",\"m\",\"m\",\"m\",\"m\",\"m\",\"m\",\"f\",\"m\",\"m\",\"f\",\"f\",\"m\",\"m\",\"m\",\"m\",\"m\",\"m\",\"f\",\"f\",\"f\",\"m\",\"m\",\"f\",\"f\",\"m\",\"f\",\"m\",\"m\",\"m\",\"f\",\"f\",\"f\",\"m\",\"f\",\"f\",\"f\",\"m\",\"m\",\"f\",\"m\",\"m\",\"m\",\"m\",\"f\",\"f\",\"m\",\"m\",\"m\",\"f\",\"m\",\"m\",\"m\",\"m\",\"m\",\"f\",\"f\",\"m\",\"m\",\"m\",\"f\",\"m\",\"m\",\"m\",\"f\",\"m\",\"f\",\"m\",\"m\",\"f\",\"m\",\"m\",\"f\",\"m\",\"m\",\"m\",\"m\",\"m\",\"m\",\"m\",\"m\",\"m\",\"f\",\"m\",\"m\",\"m\",\"f\",\"f\",\"f\",\"f\",\"m\",\"f\",\"m\",\"m\",\"f\",\"m\",\"m\",\"m\",\"m\",\"m\",\"f\",\"m\",\"f\",\"m\",\"m\",\"m\",\"m\",\"m\",\"f\",\"m\",\"m\",\"m\",\"m\",\"m\",\"f\",\"f\",\"m\",\"m\",\"m\",\"m\",\"m\",\"m\",\"f\",\"f\",\"m\",\"m\",\"m\",\"m\",\"m\",\"m\",\"m\",\"m\",\"m\",\"m\",\"m\",\"m\",\"f\",\"m\",\"m\",\"m\",\"f\",\"m\",\"m\",\"f\",\"m\",\"m\",\"m\",\"f\",\"m\",\"m\",\"m\",\"f\",\"m\",\"f\",\"f\",\"m\",\"f\",\"m\",\"f\",\"f\",\"m\",\"f\",\"m\",\"m\",\"m\",\"m\",\"m\",\"f\",\"m\",\"f\",\"m\",\"m\",\"f\",\"m\",\"m\",\"f\",\"f\",\"m\",\"f\",\"m\",\"f\",\"f\",\"f\",\"f\",\"f\",\"f\",\"f\",\"f\",\"m\",\"m\",\"f\",\"f\",\"f\",\"m\",\"m\",\"m\",\"m\",\"m\",\"f\",\"f\",\"f\",\"m\",\"f\",\"f\",\"f\",\"m\",\"m\",\"m\",\"m\",\"m\",\"m\",\"f\",\"f\",\"m\",\"m\",\"f\",\"m\",\"m\",\"m\",\"m\",\"f\",\"m\",\"m\",\"f\",\"f\",\"f\",\"f\",\"m\",\"m\",\"f\",\"f\",\"f\",\"m\",\"m\",\"f\",\"m\",\"m\",\"m\",\"m\",\"m\",\"f\",\"f\",\"m\",\"f\",\"m\",\"m\",\"m\",\"m\",\"m\",\"f\",\"m\",\"m\",\"m\",\"m\",\"f\",\"m\",\"m\",\"f\",\"f\",\"m\",\"m\",\"m\",\"m\",\"f\",\"m\",\"f\",\"f\",\"m\",\"m\",\"m\",\"m\",\"m\",\"m\",\"m\",\"m\",\"f\",\"f\",\"f\",\"m\",\"m\",\"m\",\"m\",\"f\",\"m\",\"m\",\"m\",\"m\",\"m\",\"m\",\"m\",\"f\",\"m\",\"m\",\"m\",\"f\",\"f\",\"m\",\"m\",\"m\",\"m\",\"m\",\"f\",\"m\",\"m\",\"f\",\"m\",\"f\",\"m\",\"m\",\"m\",\"m\",\"f\",\"f\",\"m\",\"f\",\"m\",\"f\",\"f\",\"m\",\"m\",\"m\",\"m\",\"m\",\"m\",\"m\",\"m\",\"f\",\"m\",\"f\",\"m\",\"m\",\"f\",\"m\",\"m\",\"f\",\"m\",\"m\",\"f\",\"m\",\"m\",\"m\",\"m\",\"m\",\"m\",\"f\",\"f\",\"f\",\"f\",\"m\",\"m\",\"m\",\"m\",\"m\",\"m\",\"f\",\"m\",\"m\",\"m\",\"m\",\"m\",\"f\",\"m\",\"m\",\"m\",\"f\",\"m\",\"m\",\"m\",\"f\",\"m\",\"f\",\"f\",\"f\",\"m\",\"f\",\"m\",\"m\",\"m\",\"f\",\"m\",\"m\",\"f\",\"m\",\"f\",\"m\",\"m\",\"f\",\"f\",\"m\",\"m\",\"m\",\"m\",\"f\",\"f\",\"m\",\"m\",\"m\",\"m\",\"m\",\"m\",\"m\",\"m\",\"f\",\"m\",\"m\",\"m\",\"f\",\"f\",\"f\",\"f\",\"m\",\"f\",\"m\",\"f\",\"m\",\"m\",\"f\",\"m\",\"f\",\"m\",\"m\",\"m\",\"m\",\"m\",\"m\",\"m\",\"m\",\"m\",\"f\",\"f\"],\"xaxis\":\"x\",\"yaxis\":\"y\",\"type\":\"histogram\"}],                        {\"template\":{\"data\":{\"barpolar\":[{\"marker\":{\"line\":{\"color\":\"rgb(17,17,17)\",\"width\":0.5},\"pattern\":{\"fillmode\":\"overlay\",\"size\":10,\"solidity\":0.2}},\"type\":\"barpolar\"}],\"bar\":[{\"error_x\":{\"color\":\"#f2f5fa\"},\"error_y\":{\"color\":\"#f2f5fa\"},\"marker\":{\"line\":{\"color\":\"rgb(17,17,17)\",\"width\":0.5},\"pattern\":{\"fillmode\":\"overlay\",\"size\":10,\"solidity\":0.2}},\"type\":\"bar\"}],\"carpet\":[{\"aaxis\":{\"endlinecolor\":\"#A2B1C6\",\"gridcolor\":\"#506784\",\"linecolor\":\"#506784\",\"minorgridcolor\":\"#506784\",\"startlinecolor\":\"#A2B1C6\"},\"baxis\":{\"endlinecolor\":\"#A2B1C6\",\"gridcolor\":\"#506784\",\"linecolor\":\"#506784\",\"minorgridcolor\":\"#506784\",\"startlinecolor\":\"#A2B1C6\"},\"type\":\"carpet\"}],\"choropleth\":[{\"colorbar\":{\"outlinewidth\":0,\"ticks\":\"\"},\"type\":\"choropleth\"}],\"contourcarpet\":[{\"colorbar\":{\"outlinewidth\":0,\"ticks\":\"\"},\"type\":\"contourcarpet\"}],\"contour\":[{\"colorbar\":{\"outlinewidth\":0,\"ticks\":\"\"},\"colorscale\":[[0.0,\"#0d0887\"],[0.1111111111111111,\"#46039f\"],[0.2222222222222222,\"#7201a8\"],[0.3333333333333333,\"#9c179e\"],[0.4444444444444444,\"#bd3786\"],[0.5555555555555556,\"#d8576b\"],[0.6666666666666666,\"#ed7953\"],[0.7777777777777778,\"#fb9f3a\"],[0.8888888888888888,\"#fdca26\"],[1.0,\"#f0f921\"]],\"type\":\"contour\"}],\"heatmapgl\":[{\"colorbar\":{\"outlinewidth\":0,\"ticks\":\"\"},\"colorscale\":[[0.0,\"#0d0887\"],[0.1111111111111111,\"#46039f\"],[0.2222222222222222,\"#7201a8\"],[0.3333333333333333,\"#9c179e\"],[0.4444444444444444,\"#bd3786\"],[0.5555555555555556,\"#d8576b\"],[0.6666666666666666,\"#ed7953\"],[0.7777777777777778,\"#fb9f3a\"],[0.8888888888888888,\"#fdca26\"],[1.0,\"#f0f921\"]],\"type\":\"heatmapgl\"}],\"heatmap\":[{\"colorbar\":{\"outlinewidth\":0,\"ticks\":\"\"},\"colorscale\":[[0.0,\"#0d0887\"],[0.1111111111111111,\"#46039f\"],[0.2222222222222222,\"#7201a8\"],[0.3333333333333333,\"#9c179e\"],[0.4444444444444444,\"#bd3786\"],[0.5555555555555556,\"#d8576b\"],[0.6666666666666666,\"#ed7953\"],[0.7777777777777778,\"#fb9f3a\"],[0.8888888888888888,\"#fdca26\"],[1.0,\"#f0f921\"]],\"type\":\"heatmap\"}],\"histogram2dcontour\":[{\"colorbar\":{\"outlinewidth\":0,\"ticks\":\"\"},\"colorscale\":[[0.0,\"#0d0887\"],[0.1111111111111111,\"#46039f\"],[0.2222222222222222,\"#7201a8\"],[0.3333333333333333,\"#9c179e\"],[0.4444444444444444,\"#bd3786\"],[0.5555555555555556,\"#d8576b\"],[0.6666666666666666,\"#ed7953\"],[0.7777777777777778,\"#fb9f3a\"],[0.8888888888888888,\"#fdca26\"],[1.0,\"#f0f921\"]],\"type\":\"histogram2dcontour\"}],\"histogram2d\":[{\"colorbar\":{\"outlinewidth\":0,\"ticks\":\"\"},\"colorscale\":[[0.0,\"#0d0887\"],[0.1111111111111111,\"#46039f\"],[0.2222222222222222,\"#7201a8\"],[0.3333333333333333,\"#9c179e\"],[0.4444444444444444,\"#bd3786\"],[0.5555555555555556,\"#d8576b\"],[0.6666666666666666,\"#ed7953\"],[0.7777777777777778,\"#fb9f3a\"],[0.8888888888888888,\"#fdca26\"],[1.0,\"#f0f921\"]],\"type\":\"histogram2d\"}],\"histogram\":[{\"marker\":{\"pattern\":{\"fillmode\":\"overlay\",\"size\":10,\"solidity\":0.2}},\"type\":\"histogram\"}],\"mesh3d\":[{\"colorbar\":{\"outlinewidth\":0,\"ticks\":\"\"},\"type\":\"mesh3d\"}],\"parcoords\":[{\"line\":{\"colorbar\":{\"outlinewidth\":0,\"ticks\":\"\"}},\"type\":\"parcoords\"}],\"pie\":[{\"automargin\":true,\"type\":\"pie\"}],\"scatter3d\":[{\"line\":{\"colorbar\":{\"outlinewidth\":0,\"ticks\":\"\"}},\"marker\":{\"colorbar\":{\"outlinewidth\":0,\"ticks\":\"\"}},\"type\":\"scatter3d\"}],\"scattercarpet\":[{\"marker\":{\"colorbar\":{\"outlinewidth\":0,\"ticks\":\"\"}},\"type\":\"scattercarpet\"}],\"scattergeo\":[{\"marker\":{\"colorbar\":{\"outlinewidth\":0,\"ticks\":\"\"}},\"type\":\"scattergeo\"}],\"scattergl\":[{\"marker\":{\"line\":{\"color\":\"#283442\"}},\"type\":\"scattergl\"}],\"scattermapbox\":[{\"marker\":{\"colorbar\":{\"outlinewidth\":0,\"ticks\":\"\"}},\"type\":\"scattermapbox\"}],\"scatterpolargl\":[{\"marker\":{\"colorbar\":{\"outlinewidth\":0,\"ticks\":\"\"}},\"type\":\"scatterpolargl\"}],\"scatterpolar\":[{\"marker\":{\"colorbar\":{\"outlinewidth\":0,\"ticks\":\"\"}},\"type\":\"scatterpolar\"}],\"scatter\":[{\"marker\":{\"line\":{\"color\":\"#283442\"}},\"type\":\"scatter\"}],\"scatterternary\":[{\"marker\":{\"colorbar\":{\"outlinewidth\":0,\"ticks\":\"\"}},\"type\":\"scatterternary\"}],\"surface\":[{\"colorbar\":{\"outlinewidth\":0,\"ticks\":\"\"},\"colorscale\":[[0.0,\"#0d0887\"],[0.1111111111111111,\"#46039f\"],[0.2222222222222222,\"#7201a8\"],[0.3333333333333333,\"#9c179e\"],[0.4444444444444444,\"#bd3786\"],[0.5555555555555556,\"#d8576b\"],[0.6666666666666666,\"#ed7953\"],[0.7777777777777778,\"#fb9f3a\"],[0.8888888888888888,\"#fdca26\"],[1.0,\"#f0f921\"]],\"type\":\"surface\"}],\"table\":[{\"cells\":{\"fill\":{\"color\":\"#506784\"},\"line\":{\"color\":\"rgb(17,17,17)\"}},\"header\":{\"fill\":{\"color\":\"#2a3f5f\"},\"line\":{\"color\":\"rgb(17,17,17)\"}},\"type\":\"table\"}]},\"layout\":{\"annotationdefaults\":{\"arrowcolor\":\"#f2f5fa\",\"arrowhead\":0,\"arrowwidth\":1},\"autotypenumbers\":\"strict\",\"coloraxis\":{\"colorbar\":{\"outlinewidth\":0,\"ticks\":\"\"}},\"colorscale\":{\"diverging\":[[0,\"#8e0152\"],[0.1,\"#c51b7d\"],[0.2,\"#de77ae\"],[0.3,\"#f1b6da\"],[0.4,\"#fde0ef\"],[0.5,\"#f7f7f7\"],[0.6,\"#e6f5d0\"],[0.7,\"#b8e186\"],[0.8,\"#7fbc41\"],[0.9,\"#4d9221\"],[1,\"#276419\"]],\"sequential\":[[0.0,\"#0d0887\"],[0.1111111111111111,\"#46039f\"],[0.2222222222222222,\"#7201a8\"],[0.3333333333333333,\"#9c179e\"],[0.4444444444444444,\"#bd3786\"],[0.5555555555555556,\"#d8576b\"],[0.6666666666666666,\"#ed7953\"],[0.7777777777777778,\"#fb9f3a\"],[0.8888888888888888,\"#fdca26\"],[1.0,\"#f0f921\"]],\"sequentialminus\":[[0.0,\"#0d0887\"],[0.1111111111111111,\"#46039f\"],[0.2222222222222222,\"#7201a8\"],[0.3333333333333333,\"#9c179e\"],[0.4444444444444444,\"#bd3786\"],[0.5555555555555556,\"#d8576b\"],[0.6666666666666666,\"#ed7953\"],[0.7777777777777778,\"#fb9f3a\"],[0.8888888888888888,\"#fdca26\"],[1.0,\"#f0f921\"]]},\"colorway\":[\"#636efa\",\"#EF553B\",\"#00cc96\",\"#ab63fa\",\"#FFA15A\",\"#19d3f3\",\"#FF6692\",\"#B6E880\",\"#FF97FF\",\"#FECB52\"],\"font\":{\"color\":\"#f2f5fa\"},\"geo\":{\"bgcolor\":\"rgb(17,17,17)\",\"lakecolor\":\"rgb(17,17,17)\",\"landcolor\":\"rgb(17,17,17)\",\"showlakes\":true,\"showland\":true,\"subunitcolor\":\"#506784\"},\"hoverlabel\":{\"align\":\"left\"},\"hovermode\":\"closest\",\"mapbox\":{\"style\":\"dark\"},\"paper_bgcolor\":\"rgb(17,17,17)\",\"plot_bgcolor\":\"rgb(17,17,17)\",\"polar\":{\"angularaxis\":{\"gridcolor\":\"#506784\",\"linecolor\":\"#506784\",\"ticks\":\"\"},\"bgcolor\":\"rgb(17,17,17)\",\"radialaxis\":{\"gridcolor\":\"#506784\",\"linecolor\":\"#506784\",\"ticks\":\"\"}},\"scene\":{\"xaxis\":{\"backgroundcolor\":\"rgb(17,17,17)\",\"gridcolor\":\"#506784\",\"gridwidth\":2,\"linecolor\":\"#506784\",\"showbackground\":true,\"ticks\":\"\",\"zerolinecolor\":\"#C8D4E3\"},\"yaxis\":{\"backgroundcolor\":\"rgb(17,17,17)\",\"gridcolor\":\"#506784\",\"gridwidth\":2,\"linecolor\":\"#506784\",\"showbackground\":true,\"ticks\":\"\",\"zerolinecolor\":\"#C8D4E3\"},\"zaxis\":{\"backgroundcolor\":\"rgb(17,17,17)\",\"gridcolor\":\"#506784\",\"gridwidth\":2,\"linecolor\":\"#506784\",\"showbackground\":true,\"ticks\":\"\",\"zerolinecolor\":\"#C8D4E3\"}},\"shapedefaults\":{\"line\":{\"color\":\"#f2f5fa\"}},\"sliderdefaults\":{\"bgcolor\":\"#C8D4E3\",\"bordercolor\":\"rgb(17,17,17)\",\"borderwidth\":1,\"tickwidth\":0},\"ternary\":{\"aaxis\":{\"gridcolor\":\"#506784\",\"linecolor\":\"#506784\",\"ticks\":\"\"},\"baxis\":{\"gridcolor\":\"#506784\",\"linecolor\":\"#506784\",\"ticks\":\"\"},\"bgcolor\":\"rgb(17,17,17)\",\"caxis\":{\"gridcolor\":\"#506784\",\"linecolor\":\"#506784\",\"ticks\":\"\"}},\"title\":{\"x\":0.05},\"updatemenudefaults\":{\"bgcolor\":\"#506784\",\"borderwidth\":0},\"xaxis\":{\"automargin\":true,\"gridcolor\":\"#283442\",\"linecolor\":\"#506784\",\"ticks\":\"\",\"title\":{\"standoff\":15},\"zerolinecolor\":\"#283442\",\"zerolinewidth\":2},\"yaxis\":{\"automargin\":true,\"gridcolor\":\"#283442\",\"linecolor\":\"#506784\",\"ticks\":\"\",\"title\":{\"standoff\":15},\"zerolinecolor\":\"#283442\",\"zerolinewidth\":2}}},\"xaxis\":{\"anchor\":\"y\",\"domain\":[0.0,1.0],\"title\":{\"text\":\"gender\"}},\"yaxis\":{\"anchor\":\"x\",\"domain\":[0.0,1.0],\"title\":{\"text\":\"count\"}},\"legend\":{\"tracegroupgap\":0},\"margin\":{\"t\":60},\"barmode\":\"relative\",\"title\":{\"text\":\"\\u003cb\\u003eCounts of Male and Female\\u003c\\u002fb\\u003e\",\"x\":0.5,\"font\":{\"size\":20}},\"uniformtext\":{\"minsize\":15}},                        {\"responsive\": true}                    ).then(function(){\n",
              "                            \n",
              "var gd = document.getElementById('bf7abfb1-175b-4534-9e09-2e107dcb567b');\n",
              "var x = new MutationObserver(function (mutations, observer) {{\n",
              "        var display = window.getComputedStyle(gd).display;\n",
              "        if (!display || display === 'none') {{\n",
              "            console.log([gd, 'removed!']);\n",
              "            Plotly.purge(gd);\n",
              "            observer.disconnect();\n",
              "        }}\n",
              "}});\n",
              "\n",
              "// Listen for the removal of the full notebook cells\n",
              "var notebookContainer = gd.closest('#notebook-container');\n",
              "if (notebookContainer) {{\n",
              "    x.observe(notebookContainer, {childList: true});\n",
              "}}\n",
              "\n",
              "// Listen for the clearing of the current output cell\n",
              "var outputEl = gd.closest('.output');\n",
              "if (outputEl) {{\n",
              "    x.observe(outputEl, {childList: true});\n",
              "}}\n",
              "\n",
              "                        })                };                            </script>        </div>\n",
              "</body>\n",
              "</html>"
            ]
          },
          "metadata": {}
        }
      ]
    },
    {
      "cell_type": "code",
      "source": [
        "fig = px.pie(train_data, names = \"Class/ASD\",\n",
        "             title = \"<b>Autism Spectrum Disorder Counts</b>\",\n",
        "             template = \"plotly_dark\")\n",
        "\n",
        "fig.update_traces(textposition='inside',\n",
        "                  textinfo = 'percent+label',\n",
        "                  marker = dict(line = dict(color = '#000000', width = 1.5)))\n",
        "\n",
        "fig.update_layout(title_x = 0.5,\n",
        "                  title_font = dict(size = 20),\n",
        "                  uniformtext_minsize = 15)\n",
        "\n",
        "\n",
        "fig.show()"
      ],
      "metadata": {
        "id": "0_4REgh3TPn5",
        "colab": {
          "base_uri": "https://localhost:8080/",
          "height": 542
        },
        "outputId": "4410da10-8b22-4ba8-ec39-401042086955"
      },
      "execution_count": null,
      "outputs": [
        {
          "output_type": "display_data",
          "data": {
            "text/html": [
              "<html>\n",
              "<head><meta charset=\"utf-8\" /></head>\n",
              "<body>\n",
              "    <div>            <script src=\"https://cdnjs.cloudflare.com/ajax/libs/mathjax/2.7.5/MathJax.js?config=TeX-AMS-MML_SVG\"></script><script type=\"text/javascript\">if (window.MathJax && window.MathJax.Hub && window.MathJax.Hub.Config) {window.MathJax.Hub.Config({SVG: {font: \"STIX-Web\"}});}</script>                <script type=\"text/javascript\">window.PlotlyConfig = {MathJaxConfig: 'local'};</script>\n",
              "        <script charset=\"utf-8\" src=\"https://cdn.plot.ly/plotly-2.24.1.min.js\"></script>                <div id=\"14b2b1ee-fce3-4aba-8292-4e9726048131\" class=\"plotly-graph-div\" style=\"height:525px; width:100%;\"></div>            <script type=\"text/javascript\">                                    window.PLOTLYENV=window.PLOTLYENV || {};                                    if (document.getElementById(\"14b2b1ee-fce3-4aba-8292-4e9726048131\")) {                    Plotly.newPlot(                        \"14b2b1ee-fce3-4aba-8292-4e9726048131\",                        [{\"domain\":{\"x\":[0.0,1.0],\"y\":[0.0,1.0]},\"hovertemplate\":\"Class\\u002fASD=%{label}\\u003cextra\\u003e\\u003c\\u002fextra\\u003e\",\"labels\":[0,0,1,0,0,0,0,1,0,0,0,0,0,0,0,0,0,0,0,1,1,0,0,0,0,0,0,0,1,1,1,0,0,0,0,1,0,0,0,0,0,0,1,1,1,0,0,1,0,0,0,0,0,0,0,0,0,0,0,0,0,0,1,0,1,1,0,1,0,0,0,0,0,0,0,1,0,0,0,0,0,0,0,0,1,0,0,0,0,0,0,1,0,0,0,0,0,0,0,0,0,0,0,1,0,0,0,0,0,1,0,0,0,0,0,0,0,0,0,0,0,0,0,0,1,0,0,1,0,0,0,0,0,0,0,0,0,1,0,1,1,0,0,0,0,1,0,0,0,1,0,0,1,1,0,0,0,0,1,1,0,0,0,0,0,0,1,0,1,0,0,0,0,0,1,1,0,0,0,0,0,0,0,1,1,0,0,0,0,0,0,0,0,1,0,0,0,0,0,0,0,0,0,0,0,0,0,0,0,0,0,1,0,0,0,0,0,0,0,0,0,0,0,0,0,0,0,0,0,0,0,1,0,0,0,0,0,0,1,0,0,0,0,0,0,0,1,0,0,0,0,0,0,0,0,0,0,1,1,0,1,1,1,0,1,1,0,0,0,0,0,0,0,0,0,0,0,0,1,0,0,0,1,0,0,0,0,0,1,0,0,0,0,0,0,0,1,1,0,0,0,0,0,0,0,1,1,1,0,0,0,0,0,0,0,1,0,0,0,0,0,0,0,0,1,1,1,1,0,0,0,1,1,0,0,0,0,0,0,0,1,0,0,0,1,0,0,0,1,1,1,0,0,1,0,0,0,0,0,0,0,0,1,0,1,0,0,0,1,0,0,0,0,0,0,1,0,1,0,1,0,0,1,0,1,0,1,0,0,0,0,0,0,0,0,0,0,0,0,1,0,0,0,0,0,0,0,0,0,0,1,0,0,1,0,0,0,0,0,0,0,1,0,1,0,0,0,0,0,0,1,1,0,0,0,0,0,0,0,0,0,0,0,0,1,0,0,1,0,0,0,0,0,0,0,0,0,0,0,0,0,0,0,1,0,0,0,0,0,0,0,0,0,0,0,0,0,0,0,0,0,1,0,0,0,0,0,0,0,0,0,0,0,0,0,0,0,1,1,1,0,0,0,0,0,0,0,0,0,0,0,0,0,0,0,0,0,1,0,0,0,0,0,0,0,0,1,0,0,0,0,0,0,0,0,0,0,0,0,0,0,1,0,0,0,0,1,1,0,0,0,0,0,0,0,0,0,0,0,0,0,1,1,0,1,0,1,0,0,0,0,0,0,1,0,0,0,1,0,0,0,1,0,0,0,0,0,0,0,0,0,0,0,0,0,0,0,0,0,0,1,0,0,0,1,0,0,0,1,0,0,1,0,0,0,0,0,1,0,1,0,0,0,0,0,0,0,0,0,0,0,1,1,0,0,0,0,0,0,1,1,0,0,1,0,0,1,0,1,0,0,0,0,0,0,1,0,0,0,1,0,1,1,0,0,0,0,0,1,1,0,0,0,0,1,0,1,0,1,1,0,1,0,0,0,0,1,1,0,0,1,0,0,0,0,0,0,1,0,0,1,0,0,0,0,1,0,0,1,1,0,0,1,0,0,1,0,1,0,0,1,1,0,0,1,0,1,0,0,1,1,1,0,1,0,0,0,1,0,1,0,0,1,0,0,0,0,0,0,0,0,1,0,0,0,0,1,1,0,0,1,1,0,0,0,0,1,0,0,0,0,0,0,0,0,0,1,0,0,0,1,0,0,0,0,1,0,0,0,0,0,0,0,0,0,0,0,0,0,0],\"legendgroup\":\"\",\"name\":\"\",\"showlegend\":true,\"type\":\"pie\",\"marker\":{\"line\":{\"color\":\"#000000\",\"width\":1.5}},\"textinfo\":\"percent+label\",\"textposition\":\"inside\"}],                        {\"template\":{\"data\":{\"barpolar\":[{\"marker\":{\"line\":{\"color\":\"rgb(17,17,17)\",\"width\":0.5},\"pattern\":{\"fillmode\":\"overlay\",\"size\":10,\"solidity\":0.2}},\"type\":\"barpolar\"}],\"bar\":[{\"error_x\":{\"color\":\"#f2f5fa\"},\"error_y\":{\"color\":\"#f2f5fa\"},\"marker\":{\"line\":{\"color\":\"rgb(17,17,17)\",\"width\":0.5},\"pattern\":{\"fillmode\":\"overlay\",\"size\":10,\"solidity\":0.2}},\"type\":\"bar\"}],\"carpet\":[{\"aaxis\":{\"endlinecolor\":\"#A2B1C6\",\"gridcolor\":\"#506784\",\"linecolor\":\"#506784\",\"minorgridcolor\":\"#506784\",\"startlinecolor\":\"#A2B1C6\"},\"baxis\":{\"endlinecolor\":\"#A2B1C6\",\"gridcolor\":\"#506784\",\"linecolor\":\"#506784\",\"minorgridcolor\":\"#506784\",\"startlinecolor\":\"#A2B1C6\"},\"type\":\"carpet\"}],\"choropleth\":[{\"colorbar\":{\"outlinewidth\":0,\"ticks\":\"\"},\"type\":\"choropleth\"}],\"contourcarpet\":[{\"colorbar\":{\"outlinewidth\":0,\"ticks\":\"\"},\"type\":\"contourcarpet\"}],\"contour\":[{\"colorbar\":{\"outlinewidth\":0,\"ticks\":\"\"},\"colorscale\":[[0.0,\"#0d0887\"],[0.1111111111111111,\"#46039f\"],[0.2222222222222222,\"#7201a8\"],[0.3333333333333333,\"#9c179e\"],[0.4444444444444444,\"#bd3786\"],[0.5555555555555556,\"#d8576b\"],[0.6666666666666666,\"#ed7953\"],[0.7777777777777778,\"#fb9f3a\"],[0.8888888888888888,\"#fdca26\"],[1.0,\"#f0f921\"]],\"type\":\"contour\"}],\"heatmapgl\":[{\"colorbar\":{\"outlinewidth\":0,\"ticks\":\"\"},\"colorscale\":[[0.0,\"#0d0887\"],[0.1111111111111111,\"#46039f\"],[0.2222222222222222,\"#7201a8\"],[0.3333333333333333,\"#9c179e\"],[0.4444444444444444,\"#bd3786\"],[0.5555555555555556,\"#d8576b\"],[0.6666666666666666,\"#ed7953\"],[0.7777777777777778,\"#fb9f3a\"],[0.8888888888888888,\"#fdca26\"],[1.0,\"#f0f921\"]],\"type\":\"heatmapgl\"}],\"heatmap\":[{\"colorbar\":{\"outlinewidth\":0,\"ticks\":\"\"},\"colorscale\":[[0.0,\"#0d0887\"],[0.1111111111111111,\"#46039f\"],[0.2222222222222222,\"#7201a8\"],[0.3333333333333333,\"#9c179e\"],[0.4444444444444444,\"#bd3786\"],[0.5555555555555556,\"#d8576b\"],[0.6666666666666666,\"#ed7953\"],[0.7777777777777778,\"#fb9f3a\"],[0.8888888888888888,\"#fdca26\"],[1.0,\"#f0f921\"]],\"type\":\"heatmap\"}],\"histogram2dcontour\":[{\"colorbar\":{\"outlinewidth\":0,\"ticks\":\"\"},\"colorscale\":[[0.0,\"#0d0887\"],[0.1111111111111111,\"#46039f\"],[0.2222222222222222,\"#7201a8\"],[0.3333333333333333,\"#9c179e\"],[0.4444444444444444,\"#bd3786\"],[0.5555555555555556,\"#d8576b\"],[0.6666666666666666,\"#ed7953\"],[0.7777777777777778,\"#fb9f3a\"],[0.8888888888888888,\"#fdca26\"],[1.0,\"#f0f921\"]],\"type\":\"histogram2dcontour\"}],\"histogram2d\":[{\"colorbar\":{\"outlinewidth\":0,\"ticks\":\"\"},\"colorscale\":[[0.0,\"#0d0887\"],[0.1111111111111111,\"#46039f\"],[0.2222222222222222,\"#7201a8\"],[0.3333333333333333,\"#9c179e\"],[0.4444444444444444,\"#bd3786\"],[0.5555555555555556,\"#d8576b\"],[0.6666666666666666,\"#ed7953\"],[0.7777777777777778,\"#fb9f3a\"],[0.8888888888888888,\"#fdca26\"],[1.0,\"#f0f921\"]],\"type\":\"histogram2d\"}],\"histogram\":[{\"marker\":{\"pattern\":{\"fillmode\":\"overlay\",\"size\":10,\"solidity\":0.2}},\"type\":\"histogram\"}],\"mesh3d\":[{\"colorbar\":{\"outlinewidth\":0,\"ticks\":\"\"},\"type\":\"mesh3d\"}],\"parcoords\":[{\"line\":{\"colorbar\":{\"outlinewidth\":0,\"ticks\":\"\"}},\"type\":\"parcoords\"}],\"pie\":[{\"automargin\":true,\"type\":\"pie\"}],\"scatter3d\":[{\"line\":{\"colorbar\":{\"outlinewidth\":0,\"ticks\":\"\"}},\"marker\":{\"colorbar\":{\"outlinewidth\":0,\"ticks\":\"\"}},\"type\":\"scatter3d\"}],\"scattercarpet\":[{\"marker\":{\"colorbar\":{\"outlinewidth\":0,\"ticks\":\"\"}},\"type\":\"scattercarpet\"}],\"scattergeo\":[{\"marker\":{\"colorbar\":{\"outlinewidth\":0,\"ticks\":\"\"}},\"type\":\"scattergeo\"}],\"scattergl\":[{\"marker\":{\"line\":{\"color\":\"#283442\"}},\"type\":\"scattergl\"}],\"scattermapbox\":[{\"marker\":{\"colorbar\":{\"outlinewidth\":0,\"ticks\":\"\"}},\"type\":\"scattermapbox\"}],\"scatterpolargl\":[{\"marker\":{\"colorbar\":{\"outlinewidth\":0,\"ticks\":\"\"}},\"type\":\"scatterpolargl\"}],\"scatterpolar\":[{\"marker\":{\"colorbar\":{\"outlinewidth\":0,\"ticks\":\"\"}},\"type\":\"scatterpolar\"}],\"scatter\":[{\"marker\":{\"line\":{\"color\":\"#283442\"}},\"type\":\"scatter\"}],\"scatterternary\":[{\"marker\":{\"colorbar\":{\"outlinewidth\":0,\"ticks\":\"\"}},\"type\":\"scatterternary\"}],\"surface\":[{\"colorbar\":{\"outlinewidth\":0,\"ticks\":\"\"},\"colorscale\":[[0.0,\"#0d0887\"],[0.1111111111111111,\"#46039f\"],[0.2222222222222222,\"#7201a8\"],[0.3333333333333333,\"#9c179e\"],[0.4444444444444444,\"#bd3786\"],[0.5555555555555556,\"#d8576b\"],[0.6666666666666666,\"#ed7953\"],[0.7777777777777778,\"#fb9f3a\"],[0.8888888888888888,\"#fdca26\"],[1.0,\"#f0f921\"]],\"type\":\"surface\"}],\"table\":[{\"cells\":{\"fill\":{\"color\":\"#506784\"},\"line\":{\"color\":\"rgb(17,17,17)\"}},\"header\":{\"fill\":{\"color\":\"#2a3f5f\"},\"line\":{\"color\":\"rgb(17,17,17)\"}},\"type\":\"table\"}]},\"layout\":{\"annotationdefaults\":{\"arrowcolor\":\"#f2f5fa\",\"arrowhead\":0,\"arrowwidth\":1},\"autotypenumbers\":\"strict\",\"coloraxis\":{\"colorbar\":{\"outlinewidth\":0,\"ticks\":\"\"}},\"colorscale\":{\"diverging\":[[0,\"#8e0152\"],[0.1,\"#c51b7d\"],[0.2,\"#de77ae\"],[0.3,\"#f1b6da\"],[0.4,\"#fde0ef\"],[0.5,\"#f7f7f7\"],[0.6,\"#e6f5d0\"],[0.7,\"#b8e186\"],[0.8,\"#7fbc41\"],[0.9,\"#4d9221\"],[1,\"#276419\"]],\"sequential\":[[0.0,\"#0d0887\"],[0.1111111111111111,\"#46039f\"],[0.2222222222222222,\"#7201a8\"],[0.3333333333333333,\"#9c179e\"],[0.4444444444444444,\"#bd3786\"],[0.5555555555555556,\"#d8576b\"],[0.6666666666666666,\"#ed7953\"],[0.7777777777777778,\"#fb9f3a\"],[0.8888888888888888,\"#fdca26\"],[1.0,\"#f0f921\"]],\"sequentialminus\":[[0.0,\"#0d0887\"],[0.1111111111111111,\"#46039f\"],[0.2222222222222222,\"#7201a8\"],[0.3333333333333333,\"#9c179e\"],[0.4444444444444444,\"#bd3786\"],[0.5555555555555556,\"#d8576b\"],[0.6666666666666666,\"#ed7953\"],[0.7777777777777778,\"#fb9f3a\"],[0.8888888888888888,\"#fdca26\"],[1.0,\"#f0f921\"]]},\"colorway\":[\"#636efa\",\"#EF553B\",\"#00cc96\",\"#ab63fa\",\"#FFA15A\",\"#19d3f3\",\"#FF6692\",\"#B6E880\",\"#FF97FF\",\"#FECB52\"],\"font\":{\"color\":\"#f2f5fa\"},\"geo\":{\"bgcolor\":\"rgb(17,17,17)\",\"lakecolor\":\"rgb(17,17,17)\",\"landcolor\":\"rgb(17,17,17)\",\"showlakes\":true,\"showland\":true,\"subunitcolor\":\"#506784\"},\"hoverlabel\":{\"align\":\"left\"},\"hovermode\":\"closest\",\"mapbox\":{\"style\":\"dark\"},\"paper_bgcolor\":\"rgb(17,17,17)\",\"plot_bgcolor\":\"rgb(17,17,17)\",\"polar\":{\"angularaxis\":{\"gridcolor\":\"#506784\",\"linecolor\":\"#506784\",\"ticks\":\"\"},\"bgcolor\":\"rgb(17,17,17)\",\"radialaxis\":{\"gridcolor\":\"#506784\",\"linecolor\":\"#506784\",\"ticks\":\"\"}},\"scene\":{\"xaxis\":{\"backgroundcolor\":\"rgb(17,17,17)\",\"gridcolor\":\"#506784\",\"gridwidth\":2,\"linecolor\":\"#506784\",\"showbackground\":true,\"ticks\":\"\",\"zerolinecolor\":\"#C8D4E3\"},\"yaxis\":{\"backgroundcolor\":\"rgb(17,17,17)\",\"gridcolor\":\"#506784\",\"gridwidth\":2,\"linecolor\":\"#506784\",\"showbackground\":true,\"ticks\":\"\",\"zerolinecolor\":\"#C8D4E3\"},\"zaxis\":{\"backgroundcolor\":\"rgb(17,17,17)\",\"gridcolor\":\"#506784\",\"gridwidth\":2,\"linecolor\":\"#506784\",\"showbackground\":true,\"ticks\":\"\",\"zerolinecolor\":\"#C8D4E3\"}},\"shapedefaults\":{\"line\":{\"color\":\"#f2f5fa\"}},\"sliderdefaults\":{\"bgcolor\":\"#C8D4E3\",\"bordercolor\":\"rgb(17,17,17)\",\"borderwidth\":1,\"tickwidth\":0},\"ternary\":{\"aaxis\":{\"gridcolor\":\"#506784\",\"linecolor\":\"#506784\",\"ticks\":\"\"},\"baxis\":{\"gridcolor\":\"#506784\",\"linecolor\":\"#506784\",\"ticks\":\"\"},\"bgcolor\":\"rgb(17,17,17)\",\"caxis\":{\"gridcolor\":\"#506784\",\"linecolor\":\"#506784\",\"ticks\":\"\"}},\"title\":{\"x\":0.05},\"updatemenudefaults\":{\"bgcolor\":\"#506784\",\"borderwidth\":0},\"xaxis\":{\"automargin\":true,\"gridcolor\":\"#283442\",\"linecolor\":\"#506784\",\"ticks\":\"\",\"title\":{\"standoff\":15},\"zerolinecolor\":\"#283442\",\"zerolinewidth\":2},\"yaxis\":{\"automargin\":true,\"gridcolor\":\"#283442\",\"linecolor\":\"#506784\",\"ticks\":\"\",\"title\":{\"standoff\":15},\"zerolinecolor\":\"#283442\",\"zerolinewidth\":2}}},\"legend\":{\"tracegroupgap\":0},\"title\":{\"text\":\"\\u003cb\\u003eAutism Spectrum Disorder Counts\\u003c\\u002fb\\u003e\",\"font\":{\"size\":20},\"x\":0.5},\"uniformtext\":{\"minsize\":15}},                        {\"responsive\": true}                    ).then(function(){\n",
              "                            \n",
              "var gd = document.getElementById('14b2b1ee-fce3-4aba-8292-4e9726048131');\n",
              "var x = new MutationObserver(function (mutations, observer) {{\n",
              "        var display = window.getComputedStyle(gd).display;\n",
              "        if (!display || display === 'none') {{\n",
              "            console.log([gd, 'removed!']);\n",
              "            Plotly.purge(gd);\n",
              "            observer.disconnect();\n",
              "        }}\n",
              "}});\n",
              "\n",
              "// Listen for the removal of the full notebook cells\n",
              "var notebookContainer = gd.closest('#notebook-container');\n",
              "if (notebookContainer) {{\n",
              "    x.observe(notebookContainer, {childList: true});\n",
              "}}\n",
              "\n",
              "// Listen for the clearing of the current output cell\n",
              "var outputEl = gd.closest('.output');\n",
              "if (outputEl) {{\n",
              "    x.observe(outputEl, {childList: true});\n",
              "}}\n",
              "\n",
              "                        })                };                            </script>        </div>\n",
              "</body>\n",
              "</html>"
            ]
          },
          "metadata": {}
        }
      ]
    },
    {
      "cell_type": "code",
      "source": [
        "train_data.columns"
      ],
      "metadata": {
        "id": "1Tk9uJx4PXFj",
        "colab": {
          "base_uri": "https://localhost:8080/"
        },
        "outputId": "c9ef3591-09fc-4715-a3c4-d681614dcafc"
      },
      "execution_count": null,
      "outputs": [
        {
          "output_type": "execute_result",
          "data": {
            "text/plain": [
              "Index(['ID', 'A1_Score', 'A2_Score', 'A3_Score', 'A4_Score', 'A5_Score',\n",
              "       'A6_Score', 'A7_Score', 'A8_Score', 'A9_Score', 'A10_Score', 'age',\n",
              "       'gender', 'ethnicity', 'jaundice', 'austim', 'contry_of_res',\n",
              "       'used_app_before', 'result', 'age_desc', 'relation', 'Class/ASD'],\n",
              "      dtype='object')"
            ]
          },
          "metadata": {},
          "execution_count": 24
        }
      ]
    },
    {
      "cell_type": "code",
      "source": [
        "train_data.drop(columns=['relation','ID','age_desc','used_app_before'], inplace=True)\n"
      ],
      "metadata": {
        "id": "CFUkhee4Oj9q"
      },
      "execution_count": null,
      "outputs": []
    },
    {
      "cell_type": "code",
      "source": [
        "train_data.columns"
      ],
      "metadata": {
        "id": "axmqVB9UPt3s",
        "colab": {
          "base_uri": "https://localhost:8080/"
        },
        "outputId": "28fa0bdf-16c0-4859-a108-570ea1c46ebb"
      },
      "execution_count": null,
      "outputs": [
        {
          "output_type": "execute_result",
          "data": {
            "text/plain": [
              "Index(['A1_Score', 'A2_Score', 'A3_Score', 'A4_Score', 'A5_Score', 'A6_Score',\n",
              "       'A7_Score', 'A8_Score', 'A9_Score', 'A10_Score', 'age', 'gender',\n",
              "       'ethnicity', 'jaundice', 'austim', 'contry_of_res', 'result',\n",
              "       'Class/ASD'],\n",
              "      dtype='object')"
            ]
          },
          "metadata": {},
          "execution_count": 26
        }
      ]
    },
    {
      "cell_type": "code",
      "source": [
        "train_data.dtypes"
      ],
      "metadata": {
        "id": "lvuqkQGNp9NH",
        "colab": {
          "base_uri": "https://localhost:8080/"
        },
        "outputId": "06c2fe3d-5a8b-4099-fff8-5adf584de2d1"
      },
      "execution_count": null,
      "outputs": [
        {
          "output_type": "execute_result",
          "data": {
            "text/plain": [
              "A1_Score           int64\n",
              "A2_Score           int64\n",
              "A3_Score           int64\n",
              "A4_Score           int64\n",
              "A5_Score           int64\n",
              "A6_Score           int64\n",
              "A7_Score           int64\n",
              "A8_Score           int64\n",
              "A9_Score           int64\n",
              "A10_Score          int64\n",
              "age              float64\n",
              "gender            object\n",
              "ethnicity         object\n",
              "jaundice          object\n",
              "austim            object\n",
              "contry_of_res     object\n",
              "result           float64\n",
              "Class/ASD          int64\n",
              "dtype: object"
            ]
          },
          "metadata": {},
          "execution_count": 27
        }
      ]
    },
    {
      "cell_type": "code",
      "source": [
        "categorical_columns = train_data.select_dtypes(include=['object']).columns.tolist()\n",
        "\n",
        "#Initialize OneHotEncoder\n",
        "encoder = OneHotEncoder(sparse_output=False)\n",
        "\n",
        "# Apply one-hot encoding to the categorical columns\n",
        "one_hot_encoded = encoder.fit_transform(train_data[categorical_columns])\n",
        "\n",
        "#Create a DataFrame with the one-hot encoded columns\n",
        "#We use get_feature_names_out() to get the column names for the encoded data\n",
        "one_hot_df = pd.DataFrame(one_hot_encoded, columns=encoder.get_feature_names_out(categorical_columns))\n",
        "\n",
        "# Concatenate the one-hot encoded dataframe with the original dataframe\n",
        "final_data = pd.concat([train_data, one_hot_df], axis=1)\n",
        "\n",
        "# Drop the original categorical columns\n",
        "final_data = final_data.drop(categorical_columns, axis=1)\n",
        "\n",
        "# Display the resulting dataframe\n",
        "print(f\"Encoded Employee data : \\n{final_data}\")"
      ],
      "metadata": {
        "id": "A0ng0-uCqleX",
        "colab": {
          "base_uri": "https://localhost:8080/"
        },
        "outputId": "5c1d9596-fd0c-4dab-dd91-39befd74d11b"
      },
      "execution_count": null,
      "outputs": [
        {
          "output_type": "stream",
          "name": "stdout",
          "text": [
            "Encoded Employee data : \n",
            "     A1_Score  A2_Score  A3_Score  A4_Score  A5_Score  A6_Score  A7_Score  \\\n",
            "0           1         0         1         0         1         0         1   \n",
            "1           0         0         0         0         0         0         0   \n",
            "2           1         1         1         1         1         1         1   \n",
            "3           0         0         0         0         0         0         0   \n",
            "4           0         0         0         0         0         0         0   \n",
            "..        ...       ...       ...       ...       ...       ...       ...   \n",
            "795         0         1         0         0         0         0         0   \n",
            "796         0         1         1         0         0         1         0   \n",
            "797         0         0         0         0         0         0         0   \n",
            "798         0         0         0         0         0         0         0   \n",
            "799         0         1         0         0         0         0         0   \n",
            "\n",
            "     A8_Score  A9_Score  A10_Score        age     result  Class/ASD  gender_f  \\\n",
            "0           0         1          1  38.172746   6.351166          0       1.0   \n",
            "1           0         0          0  47.750517   2.255185          0       0.0   \n",
            "2           1         1          1   7.380373  14.851484          1       0.0   \n",
            "3           0         0          0  23.561927   2.276617          0       1.0   \n",
            "4           0         0          0  43.205790  -4.777286          0       0.0   \n",
            "..        ...       ...        ...        ...        ...        ...       ...   \n",
            "795         0         1          1  16.597187  12.999501          0       0.0   \n",
            "796         1         1          1  20.703001  13.561518          0       0.0   \n",
            "797         0         0          0   5.711481   2.653177          0       0.0   \n",
            "798         0         0          0  16.414305   9.069342          0       1.0   \n",
            "799         0         0          0  46.966113   2.243304          0       1.0   \n",
            "\n",
            "     gender_m  ethnicity_Asian  ethnicity_Black  ethnicity_Hispanic  \\\n",
            "0         0.0              0.0              0.0                 0.0   \n",
            "1         1.0              0.0              0.0                 0.0   \n",
            "2         1.0              0.0              0.0                 0.0   \n",
            "3         0.0              0.0              0.0                 0.0   \n",
            "4         1.0              0.0              0.0                 0.0   \n",
            "..        ...              ...              ...                 ...   \n",
            "795       1.0              0.0              0.0                 1.0   \n",
            "796       1.0              0.0              0.0                 0.0   \n",
            "797       1.0              0.0              0.0                 0.0   \n",
            "798       0.0              0.0              0.0                 0.0   \n",
            "799       0.0              0.0              0.0                 0.0   \n",
            "\n",
            "     ethnicity_Latino  ethnicity_Middle Eastern   ethnicity_Others  \\\n",
            "0                 0.0                        0.0               1.0   \n",
            "1                 0.0                        0.0               1.0   \n",
            "2                 0.0                        0.0               0.0   \n",
            "3                 0.0                        0.0               1.0   \n",
            "4                 0.0                        0.0               1.0   \n",
            "..                ...                        ...               ...   \n",
            "795               0.0                        0.0               0.0   \n",
            "796               0.0                        0.0               0.0   \n",
            "797               0.0                        0.0               0.0   \n",
            "798               0.0                        0.0               1.0   \n",
            "799               0.0                        0.0               1.0   \n",
            "\n",
            "     ethnicity_Pasifika  ethnicity_South Asian  ethnicity_Turkish  \\\n",
            "0                   0.0                    0.0                0.0   \n",
            "1                   0.0                    0.0                0.0   \n",
            "2                   0.0                    0.0                0.0   \n",
            "3                   0.0                    0.0                0.0   \n",
            "4                   0.0                    0.0                0.0   \n",
            "..                  ...                    ...                ...   \n",
            "795                 0.0                    0.0                0.0   \n",
            "796                 0.0                    0.0                0.0   \n",
            "797                 0.0                    1.0                0.0   \n",
            "798                 0.0                    0.0                0.0   \n",
            "799                 0.0                    0.0                0.0   \n",
            "\n",
            "     ethnicity_White-European  jaundice_no  jaundice_yes  austim_no  \\\n",
            "0                         0.0          1.0           0.0        1.0   \n",
            "1                         0.0          1.0           0.0        1.0   \n",
            "2                         1.0          1.0           0.0        0.0   \n",
            "3                         0.0          1.0           0.0        1.0   \n",
            "4                         0.0          1.0           0.0        1.0   \n",
            "..                        ...          ...           ...        ...   \n",
            "795                       0.0          1.0           0.0        1.0   \n",
            "796                       1.0          1.0           0.0        1.0   \n",
            "797                       0.0          0.0           1.0        1.0   \n",
            "798                       0.0          1.0           0.0        1.0   \n",
            "799                       0.0          1.0           0.0        1.0   \n",
            "\n",
            "     austim_yes  contry_of_res_Afghanistan  contry_of_res_AmericanSamoa  \\\n",
            "0           0.0                        0.0                          0.0   \n",
            "1           0.0                        0.0                          0.0   \n",
            "2           1.0                        0.0                          0.0   \n",
            "3           0.0                        0.0                          0.0   \n",
            "4           0.0                        0.0                          0.0   \n",
            "..          ...                        ...                          ...   \n",
            "795         0.0                        0.0                          0.0   \n",
            "796         0.0                        0.0                          0.0   \n",
            "797         0.0                        0.0                          0.0   \n",
            "798         0.0                        0.0                          0.0   \n",
            "799         0.0                        0.0                          0.0   \n",
            "\n",
            "     contry_of_res_Angola  contry_of_res_Argentina  contry_of_res_Armenia  \\\n",
            "0                     0.0                      0.0                    0.0   \n",
            "1                     0.0                      0.0                    0.0   \n",
            "2                     0.0                      0.0                    0.0   \n",
            "3                     0.0                      0.0                    0.0   \n",
            "4                     0.0                      0.0                    0.0   \n",
            "..                    ...                      ...                    ...   \n",
            "795                   0.0                      0.0                    0.0   \n",
            "796                   0.0                      0.0                    0.0   \n",
            "797                   0.0                      0.0                    0.0   \n",
            "798                   0.0                      0.0                    0.0   \n",
            "799                   0.0                      0.0                    0.0   \n",
            "\n",
            "     contry_of_res_Aruba  contry_of_res_Australia  contry_of_res_Austria  \\\n",
            "0                    0.0                      0.0                    1.0   \n",
            "1                    0.0                      0.0                    0.0   \n",
            "2                    0.0                      0.0                    0.0   \n",
            "3                    0.0                      0.0                    0.0   \n",
            "4                    0.0                      0.0                    0.0   \n",
            "..                   ...                      ...                    ...   \n",
            "795                  0.0                      0.0                    0.0   \n",
            "796                  0.0                      0.0                    0.0   \n",
            "797                  0.0                      0.0                    0.0   \n",
            "798                  0.0                      0.0                    0.0   \n",
            "799                  0.0                      0.0                    0.0   \n",
            "\n",
            "     contry_of_res_Azerbaijan  contry_of_res_Bahamas  \\\n",
            "0                         0.0                    0.0   \n",
            "1                         0.0                    0.0   \n",
            "2                         0.0                    0.0   \n",
            "3                         0.0                    0.0   \n",
            "4                         0.0                    0.0   \n",
            "..                        ...                    ...   \n",
            "795                       0.0                    0.0   \n",
            "796                       0.0                    0.0   \n",
            "797                       0.0                    0.0   \n",
            "798                       0.0                    0.0   \n",
            "799                       0.0                    0.0   \n",
            "\n",
            "     contry_of_res_Bangladesh  contry_of_res_Belgium  contry_of_res_Bolivia  \\\n",
            "0                         0.0                    0.0                    0.0   \n",
            "1                         0.0                    0.0                    0.0   \n",
            "2                         0.0                    0.0                    0.0   \n",
            "3                         0.0                    0.0                    0.0   \n",
            "4                         0.0                    0.0                    0.0   \n",
            "..                        ...                    ...                    ...   \n",
            "795                       0.0                    0.0                    0.0   \n",
            "796                       0.0                    0.0                    0.0   \n",
            "797                       0.0                    0.0                    0.0   \n",
            "798                       0.0                    0.0                    0.0   \n",
            "799                       0.0                    0.0                    0.0   \n",
            "\n",
            "     contry_of_res_Brazil  contry_of_res_Burundi  contry_of_res_Canada  \\\n",
            "0                     0.0                    0.0                   0.0   \n",
            "1                     0.0                    0.0                   0.0   \n",
            "2                     0.0                    0.0                   0.0   \n",
            "3                     0.0                    0.0                   0.0   \n",
            "4                     0.0                    0.0                   0.0   \n",
            "..                    ...                    ...                   ...   \n",
            "795                   0.0                    0.0                   0.0   \n",
            "796                   0.0                    0.0                   0.0   \n",
            "797                   0.0                    0.0                   0.0   \n",
            "798                   0.0                    0.0                   1.0   \n",
            "799                   0.0                    0.0                   0.0   \n",
            "\n",
            "     contry_of_res_China  contry_of_res_Cyprus  contry_of_res_Czech Republic  \\\n",
            "0                    0.0                   0.0                           0.0   \n",
            "1                    0.0                   0.0                           0.0   \n",
            "2                    0.0                   0.0                           0.0   \n",
            "3                    0.0                   0.0                           0.0   \n",
            "4                    0.0                   0.0                           0.0   \n",
            "..                   ...                   ...                           ...   \n",
            "795                  0.0                   0.0                           0.0   \n",
            "796                  0.0                   1.0                           0.0   \n",
            "797                  0.0                   0.0                           0.0   \n",
            "798                  0.0                   0.0                           0.0   \n",
            "799                  0.0                   0.0                           0.0   \n",
            "\n",
            "     contry_of_res_Egypt  contry_of_res_Ethiopia  contry_of_res_France  \\\n",
            "0                    0.0                     0.0                   0.0   \n",
            "1                    0.0                     0.0                   0.0   \n",
            "2                    0.0                     0.0                   0.0   \n",
            "3                    0.0                     0.0                   0.0   \n",
            "4                    0.0                     0.0                   0.0   \n",
            "..                   ...                     ...                   ...   \n",
            "795                  0.0                     0.0                   0.0   \n",
            "796                  0.0                     0.0                   0.0   \n",
            "797                  0.0                     0.0                   0.0   \n",
            "798                  0.0                     0.0                   0.0   \n",
            "799                  0.0                     0.0                   0.0   \n",
            "\n",
            "     contry_of_res_Germany  contry_of_res_Hong Kong  contry_of_res_Iceland  \\\n",
            "0                      0.0                      0.0                    0.0   \n",
            "1                      0.0                      0.0                    0.0   \n",
            "2                      0.0                      0.0                    0.0   \n",
            "3                      0.0                      0.0                    0.0   \n",
            "4                      0.0                      0.0                    0.0   \n",
            "..                     ...                      ...                    ...   \n",
            "795                    0.0                      0.0                    0.0   \n",
            "796                    0.0                      0.0                    0.0   \n",
            "797                    0.0                      0.0                    0.0   \n",
            "798                    0.0                      0.0                    0.0   \n",
            "799                    0.0                      0.0                    0.0   \n",
            "\n",
            "     contry_of_res_India  contry_of_res_Iran  contry_of_res_Iraq  \\\n",
            "0                    0.0                 0.0                 0.0   \n",
            "1                    1.0                 0.0                 0.0   \n",
            "2                    0.0                 0.0                 0.0   \n",
            "3                    0.0                 0.0                 0.0   \n",
            "4                    0.0                 0.0                 0.0   \n",
            "..                   ...                 ...                 ...   \n",
            "795                  0.0                 0.0                 0.0   \n",
            "796                  0.0                 0.0                 0.0   \n",
            "797                  0.0                 0.0                 0.0   \n",
            "798                  0.0                 0.0                 0.0   \n",
            "799                  0.0                 0.0                 0.0   \n",
            "\n",
            "     contry_of_res_Ireland  contry_of_res_Italy  contry_of_res_Japan  \\\n",
            "0                      0.0                  0.0                  0.0   \n",
            "1                      0.0                  0.0                  0.0   \n",
            "2                      0.0                  0.0                  0.0   \n",
            "3                      0.0                  0.0                  0.0   \n",
            "4                      0.0                  0.0                  0.0   \n",
            "..                     ...                  ...                  ...   \n",
            "795                    0.0                  0.0                  0.0   \n",
            "796                    0.0                  0.0                  0.0   \n",
            "797                    0.0                  0.0                  0.0   \n",
            "798                    0.0                  0.0                  0.0   \n",
            "799                    0.0                  0.0                  0.0   \n",
            "\n",
            "     contry_of_res_Jordan  contry_of_res_Kazakhstan  contry_of_res_Malaysia  \\\n",
            "0                     0.0                       0.0                     0.0   \n",
            "1                     0.0                       0.0                     0.0   \n",
            "2                     0.0                       0.0                     0.0   \n",
            "3                     0.0                       0.0                     0.0   \n",
            "4                     0.0                       0.0                     0.0   \n",
            "..                    ...                       ...                     ...   \n",
            "795                   0.0                       0.0                     0.0   \n",
            "796                   0.0                       0.0                     0.0   \n",
            "797                   0.0                       0.0                     0.0   \n",
            "798                   0.0                       0.0                     0.0   \n",
            "799                   0.0                       0.0                     0.0   \n",
            "\n",
            "     contry_of_res_Mexico  contry_of_res_Netherlands  \\\n",
            "0                     0.0                        0.0   \n",
            "1                     0.0                        0.0   \n",
            "2                     0.0                        0.0   \n",
            "3                     0.0                        0.0   \n",
            "4                     0.0                        0.0   \n",
            "..                    ...                        ...   \n",
            "795                   0.0                        0.0   \n",
            "796                   0.0                        0.0   \n",
            "797                   0.0                        0.0   \n",
            "798                   0.0                        0.0   \n",
            "799                   0.0                        0.0   \n",
            "\n",
            "     contry_of_res_New Zealand  contry_of_res_Nicaragua  contry_of_res_Niger  \\\n",
            "0                          0.0                      0.0                  0.0   \n",
            "1                          0.0                      0.0                  0.0   \n",
            "2                          0.0                      0.0                  0.0   \n",
            "3                          0.0                      0.0                  0.0   \n",
            "4                          0.0                      0.0                  0.0   \n",
            "..                         ...                      ...                  ...   \n",
            "795                        1.0                      0.0                  0.0   \n",
            "796                        0.0                      0.0                  0.0   \n",
            "797                        1.0                      0.0                  0.0   \n",
            "798                        0.0                      0.0                  0.0   \n",
            "799                        0.0                      0.0                  0.0   \n",
            "\n",
            "     contry_of_res_Oman  contry_of_res_Pakistan  contry_of_res_Romania  \\\n",
            "0                   0.0                     0.0                    0.0   \n",
            "1                   0.0                     0.0                    0.0   \n",
            "2                   0.0                     0.0                    0.0   \n",
            "3                   0.0                     0.0                    0.0   \n",
            "4                   0.0                     0.0                    0.0   \n",
            "..                  ...                     ...                    ...   \n",
            "795                 0.0                     0.0                    0.0   \n",
            "796                 0.0                     0.0                    0.0   \n",
            "797                 0.0                     0.0                    0.0   \n",
            "798                 0.0                     0.0                    0.0   \n",
            "799                 0.0                     0.0                    0.0   \n",
            "\n",
            "     contry_of_res_Russia  contry_of_res_Saudi Arabia  contry_of_res_Serbia  \\\n",
            "0                     0.0                         0.0                   0.0   \n",
            "1                     0.0                         0.0                   0.0   \n",
            "2                     0.0                         0.0                   0.0   \n",
            "3                     0.0                         0.0                   0.0   \n",
            "4                     0.0                         0.0                   0.0   \n",
            "..                    ...                         ...                   ...   \n",
            "795                   0.0                         0.0                   0.0   \n",
            "796                   0.0                         0.0                   0.0   \n",
            "797                   0.0                         0.0                   0.0   \n",
            "798                   0.0                         0.0                   0.0   \n",
            "799                   0.0                         0.0                   0.0   \n",
            "\n",
            "     contry_of_res_Sierra Leone  contry_of_res_South Africa  \\\n",
            "0                           0.0                         0.0   \n",
            "1                           0.0                         0.0   \n",
            "2                           0.0                         0.0   \n",
            "3                           0.0                         0.0   \n",
            "4                           0.0                         1.0   \n",
            "..                          ...                         ...   \n",
            "795                         0.0                         0.0   \n",
            "796                         0.0                         0.0   \n",
            "797                         0.0                         0.0   \n",
            "798                         0.0                         0.0   \n",
            "799                         0.0                         0.0   \n",
            "\n",
            "     contry_of_res_Spain  contry_of_res_Sri Lanka  contry_of_res_Sweden  \\\n",
            "0                    0.0                      0.0                   0.0   \n",
            "1                    0.0                      0.0                   0.0   \n",
            "2                    0.0                      0.0                   0.0   \n",
            "3                    0.0                      0.0                   0.0   \n",
            "4                    0.0                      0.0                   0.0   \n",
            "..                   ...                      ...                   ...   \n",
            "795                  0.0                      0.0                   0.0   \n",
            "796                  0.0                      0.0                   0.0   \n",
            "797                  0.0                      0.0                   0.0   \n",
            "798                  0.0                      0.0                   0.0   \n",
            "799                  0.0                      0.0                   0.0   \n",
            "\n",
            "     contry_of_res_Tonga  contry_of_res_Ukraine  \\\n",
            "0                    0.0                    0.0   \n",
            "1                    0.0                    0.0   \n",
            "2                    0.0                    0.0   \n",
            "3                    0.0                    0.0   \n",
            "4                    0.0                    0.0   \n",
            "..                   ...                    ...   \n",
            "795                  0.0                    0.0   \n",
            "796                  0.0                    0.0   \n",
            "797                  0.0                    0.0   \n",
            "798                  0.0                    0.0   \n",
            "799                  0.0                    0.0   \n",
            "\n",
            "     contry_of_res_United Arab Emirates  contry_of_res_United Kingdom  \\\n",
            "0                                   0.0                           0.0   \n",
            "1                                   0.0                           0.0   \n",
            "2                                   0.0                           0.0   \n",
            "3                                   0.0                           0.0   \n",
            "4                                   0.0                           0.0   \n",
            "..                                  ...                           ...   \n",
            "795                                 0.0                           0.0   \n",
            "796                                 0.0                           0.0   \n",
            "797                                 0.0                           0.0   \n",
            "798                                 0.0                           0.0   \n",
            "799                                 1.0                           0.0   \n",
            "\n",
            "     contry_of_res_United States  contry_of_res_Viet Nam  \n",
            "0                            0.0                     0.0  \n",
            "1                            0.0                     0.0  \n",
            "2                            1.0                     0.0  \n",
            "3                            1.0                     0.0  \n",
            "4                            0.0                     0.0  \n",
            "..                           ...                     ...  \n",
            "795                          0.0                     0.0  \n",
            "796                          0.0                     0.0  \n",
            "797                          0.0                     0.0  \n",
            "798                          0.0                     0.0  \n",
            "799                          0.0                     0.0  \n",
            "\n",
            "[800 rows x 85 columns]\n"
          ]
        }
      ]
    },
    {
      "cell_type": "code",
      "source": [
        "X=final_data.drop('Class/ASD',axis=1)\n",
        "Y=final_data['Class/ASD']"
      ],
      "metadata": {
        "id": "eL1D7S2g1nJi"
      },
      "execution_count": null,
      "outputs": []
    },
    {
      "cell_type": "code",
      "source": [
        "X_train, X_test, Y_train, Y_test = train_test_split(X, Y, test_size = 0.25)"
      ],
      "metadata": {
        "id": "svrXGBJn1xUQ"
      },
      "execution_count": null,
      "outputs": []
    },
    {
      "cell_type": "code",
      "source": [
        "print(f\"Shape of X_train is: {X_train.shape}\")\n",
        "print(f\"Shape of Y_train is: {Y_train.shape}\\n\")\n",
        "print(f\"Shape of X_test is: {X_test.shape}\")\n",
        "print(f\"Shape of Y_test is: {Y_test.shape}\")"
      ],
      "metadata": {
        "id": "nbDEOsNf14lq",
        "colab": {
          "base_uri": "https://localhost:8080/"
        },
        "outputId": "d0ba65e7-de7c-4b7a-d7d1-57e8a5a14d1d"
      },
      "execution_count": null,
      "outputs": [
        {
          "output_type": "stream",
          "name": "stdout",
          "text": [
            "Shape of X_train is: (600, 84)\n",
            "Shape of Y_train is: (600,)\n",
            "\n",
            "Shape of X_test is: (200, 84)\n",
            "Shape of Y_test is: (200,)\n"
          ]
        }
      ]
    },
    {
      "cell_type": "code",
      "source": [
        "input_dim = X.shape[1]"
      ],
      "metadata": {
        "id": "owfAEsIo2JUx"
      },
      "execution_count": null,
      "outputs": []
    },
    {
      "cell_type": "code",
      "source": [
        "model = Sequential()\n",
        "model.add(Dense(8, input_dim = input_dim, kernel_initializer='normal', activation='relu'))\n",
        "model.add(Dense(5, activation = \"relu\", kernel_initializer='normal'))\n",
        "model.add(Dense(2, activation = 'sigmoid'))"
      ],
      "metadata": {
        "id": "ZSZ_sJjX2MzZ"
      },
      "execution_count": null,
      "outputs": []
    },
    {
      "cell_type": "code",
      "source": [
        "# compiling model\n",
        "model.compile(optimizer = Adam(learning_rate = 0.001),\n",
        "              loss = 'binary_crossentropy',\n",
        "              metrics = ['accuracy'])"
      ],
      "metadata": {
        "id": "SONSVM0j5aF7"
      },
      "execution_count": null,
      "outputs": []
    },
    {
      "cell_type": "code",
      "source": [
        "model.summary()"
      ],
      "metadata": {
        "id": "wqZERZz45fa_",
        "colab": {
          "base_uri": "https://localhost:8080/"
        },
        "outputId": "75f6d18a-dbc5-4700-cf71-b3498dcbc108"
      },
      "execution_count": null,
      "outputs": [
        {
          "output_type": "stream",
          "name": "stdout",
          "text": [
            "Model: \"sequential\"\n",
            "_________________________________________________________________\n",
            " Layer (type)                Output Shape              Param #   \n",
            "=================================================================\n",
            " dense (Dense)               (None, 8)                 680       \n",
            "                                                                 \n",
            " dense_1 (Dense)             (None, 5)                 45        \n",
            "                                                                 \n",
            " dense_2 (Dense)             (None, 2)                 12        \n",
            "                                                                 \n",
            "=================================================================\n",
            "Total params: 737 (2.88 KB)\n",
            "Trainable params: 737 (2.88 KB)\n",
            "Non-trainable params: 0 (0.00 Byte)\n",
            "_________________________________________________________________\n"
          ]
        }
      ]
    },
    {
      "cell_type": "code",
      "source": [
        "plot_model(model,\n",
        "           show_dtype = True,\n",
        "           show_layer_names = True,\n",
        "           show_shapes = True)"
      ],
      "metadata": {
        "id": "iwck63Gb5hDp",
        "colab": {
          "base_uri": "https://localhost:8080/",
          "height": 545
        },
        "outputId": "3c8c4d96-1b75-4d9a-de17-b49253599358"
      },
      "execution_count": null,
      "outputs": [
        {
          "output_type": "execute_result",
          "data": {
            "image/png": "[encoded data removed]",
            "text/plain": [
              "<IPython.core.display.Image object>"
            ]
          },
          "metadata": {},
          "execution_count": 37
        }
      ]
    },
    {
      "cell_type": "code",
      "source": [
        "from sklearn.model_selection import train_test_split\n",
        "from sklearn.linear_model import LogisticRegression\n",
        "from sklearn.metrics import accuracy_score, classification_report\n",
        "\n",
        "# Assuming X_train, X_test, y_train, y_test are your training and testing data\n",
        "# Replace X_train, X_test, y_train, y_test with your actual data\n",
        "\n",
        "# Initialize the Logistic Regression model\n",
        "lr_model = LogisticRegression()\n",
        "\n",
        "# Train the model\n",
        "lr_model.fit(X_train, Y_train)\n",
        "\n",
        "# Make predictions on the testing set\n",
        "y_pred = lr_model.predict(X_test)\n",
        "\n",
        "# Evaluate the model\n",
        "accuracy = accuracy_score(Y_test, y_pred)\n",
        "print(\"Accuracy:\", accuracy)\n",
        "print(\"Classification Report:\")\n",
        "print(classification_report(Y_test, y_pred))\n"
      ],
      "metadata": {
        "id": "SEcdPm1w6I9Y",
        "colab": {
          "base_uri": "https://localhost:8080/"
        },
        "outputId": "8918e4f0-3a4a-4fa0-ae79-b88427aef9b6"
      },
      "execution_count": null,
      "outputs": [
        {
          "output_type": "stream",
          "name": "stdout",
          "text": [
            "Accuracy: 0.875\n",
            "Classification Report:\n",
            "              precision    recall  f1-score   support\n",
            "\n",
            "           0       0.93      0.92      0.92       167\n",
            "           1       0.61      0.67      0.64        33\n",
            "\n",
            "    accuracy                           0.88       200\n",
            "   macro avg       0.77      0.79      0.78       200\n",
            "weighted avg       0.88      0.88      0.88       200\n",
            "\n"
          ]
        },
        {
          "output_type": "stream",
          "name": "stderr",
          "text": [
            "/usr/local/lib/python3.10/dist-packages/sklearn/linear_model/_logistic.py:458: ConvergenceWarning:\n",
            "\n",
            "lbfgs failed to converge (status=1):\n",
            "STOP: TOTAL NO. of ITERATIONS REACHED LIMIT.\n",
            "\n",
            "Increase the number of iterations (max_iter) or scale the data as shown in:\n",
            "    https://scikit-learn.org/stable/modules/preprocessing.html\n",
            "Please also refer to the documentation for alternative solver options:\n",
            "    https://scikit-learn.org/stable/modules/linear_model.html#logistic-regression\n",
            "\n"
          ]
        }
      ]
    },
    {
      "cell_type": "code",
      "source": [
        "from sklearn.ensemble import RandomForestClassifier\n",
        "from sklearn.metrics import accuracy_score, classification_report\n",
        "\n",
        "rf_model = RandomForestClassifier(n_estimators=100, random_state=42)\n",
        "rf_model.fit(X_train, Y_train)\n",
        "y_pred = rf_model.predict(X_test)\n",
        "\n",
        "accuracy = accuracy_score(Y_test, y_pred)\n",
        "print(\"Accuracy:\", accuracy)\n",
        "print(\"Classification Report:\")\n",
        "print(classification_report(Y_test, y_pred))\n",
        "\n"
      ],
      "metadata": {
        "id": "CTzztkDKFCXw",
        "colab": {
          "base_uri": "https://localhost:8080/"
        },
        "outputId": "9dfa65cd-7898-4fdd-aed0-9d351351a746"
      },
      "execution_count": null,
      "outputs": [
        {
          "output_type": "stream",
          "name": "stdout",
          "text": [
            "Accuracy: 0.87\n",
            "Classification Report:\n",
            "              precision    recall  f1-score   support\n",
            "\n",
            "           0       0.93      0.92      0.92       167\n",
            "           1       0.60      0.64      0.62        33\n",
            "\n",
            "    accuracy                           0.87       200\n",
            "   macro avg       0.76      0.78      0.77       200\n",
            "weighted avg       0.87      0.87      0.87       200\n",
            "\n"
          ]
        }
      ]
    },
    {
      "cell_type": "code",
      "source": [
        "from sklearn.ensemble import GradientBoostingClassifier\n",
        "from sklearn.metrics import accuracy_score, classification_report\n",
        "\n",
        "gbm_model = GradientBoostingClassifier(n_estimators=100, learning_rate=0.1, random_state=42)\n",
        "gbm_model.fit(X_train, Y_train)\n",
        "y_pred = gbm_model.predict(X_test)\n",
        "\n",
        "accuracy = accuracy_score(Y_test, y_pred)\n",
        "print(\"Accuracy:\", accuracy)\n",
        "print(\"Classification Report:\")\n",
        "print(classification_report(Y_test, y_pred))\n"
      ],
      "metadata": {
        "id": "2lYKk49lFaXe",
        "colab": {
          "base_uri": "https://localhost:8080/"
        },
        "outputId": "3b33371c-c15e-4722-fc4b-7e792ac57bc6"
      },
      "execution_count": null,
      "outputs": [
        {
          "output_type": "stream",
          "name": "stdout",
          "text": [
            "Accuracy: 0.875\n",
            "Classification Report:\n",
            "              precision    recall  f1-score   support\n",
            "\n",
            "           0       0.93      0.92      0.92       167\n",
            "           1       0.61      0.67      0.64        33\n",
            "\n",
            "    accuracy                           0.88       200\n",
            "   macro avg       0.77      0.79      0.78       200\n",
            "weighted avg       0.88      0.88      0.88       200\n",
            "\n"
          ]
        }
      ]
    },
    {
      "cell_type": "code",
      "source": [
        "from sklearn.svm import SVC\n",
        "from sklearn.metrics import accuracy_score, classification_report\n",
        "\n",
        "svc_model = SVC(kernel='rbf', C=1.0, gamma='scale', random_state=42)\n",
        "svc_model.fit(X_train, Y_train)\n",
        "y_pred = svc_model.predict(X_test)\n",
        "\n",
        "accuracy = accuracy_score(Y_test, y_pred)\n",
        "print(\"Accuracy:\", accuracy)\n",
        "print(\"Classification Report:\")\n",
        "print(classification_report(Y_test, y_pred))\n"
      ],
      "metadata": {
        "id": "U281v1BDFlZr",
        "colab": {
          "base_uri": "https://localhost:8080/"
        },
        "outputId": "9cdddaf2-bc12-45a1-8abd-a9417cde9cb4"
      },
      "execution_count": null,
      "outputs": [
        {
          "output_type": "stream",
          "name": "stdout",
          "text": [
            "Accuracy: 0.835\n",
            "Classification Report:\n",
            "              precision    recall  f1-score   support\n",
            "\n",
            "           0       0.83      1.00      0.91       167\n",
            "           1       0.00      0.00      0.00        33\n",
            "\n",
            "    accuracy                           0.83       200\n",
            "   macro avg       0.42      0.50      0.46       200\n",
            "weighted avg       0.70      0.83      0.76       200\n",
            "\n"
          ]
        },
        {
          "output_type": "stream",
          "name": "stderr",
          "text": [
            "/usr/local/lib/python3.10/dist-packages/sklearn/metrics/_classification.py:1344: UndefinedMetricWarning:\n",
            "\n",
            "Precision and F-score are ill-defined and being set to 0.0 in labels with no predicted samples. Use `zero_division` parameter to control this behavior.\n",
            "\n",
            "/usr/local/lib/python3.10/dist-packages/sklearn/metrics/_classification.py:1344: UndefinedMetricWarning:\n",
            "\n",
            "Precision and F-score are ill-defined and being set to 0.0 in labels with no predicted samples. Use `zero_division` parameter to control this behavior.\n",
            "\n",
            "/usr/local/lib/python3.10/dist-packages/sklearn/metrics/_classification.py:1344: UndefinedMetricWarning:\n",
            "\n",
            "Precision and F-score are ill-defined and being set to 0.0 in labels with no predicted samples. Use `zero_division` parameter to control this behavior.\n",
            "\n"
          ]
        }
      ]
    },
    {
      "cell_type": "code",
      "source": [
        "from sklearn.neighbors import KNeighborsClassifier\n",
        "from sklearn.metrics import accuracy_score, classification_report\n",
        "\n",
        "knn_model = KNeighborsClassifier(n_neighbors=5)\n",
        "knn_model.fit(X_train, Y_train)\n",
        "y_pred = knn_model.predict(X_test)\n",
        "\n",
        "accuracy = accuracy_score(Y_test, y_pred)\n",
        "print(\"Accuracy:\", accuracy)\n",
        "print(\"Classification Report:\")\n",
        "print(classification_report(Y_test, y_pred))\n"
      ],
      "metadata": {
        "id": "rGdA8qkSSzXs",
        "colab": {
          "base_uri": "https://localhost:8080/"
        },
        "outputId": "6881b51a-accc-4156-a454-575062299ca1"
      },
      "execution_count": null,
      "outputs": [
        {
          "output_type": "stream",
          "name": "stdout",
          "text": [
            "Accuracy: 0.855\n",
            "Classification Report:\n",
            "              precision    recall  f1-score   support\n",
            "\n",
            "           0       0.91      0.92      0.91       167\n",
            "           1       0.57      0.52      0.54        33\n",
            "\n",
            "    accuracy                           0.85       200\n",
            "   macro avg       0.74      0.72      0.73       200\n",
            "weighted avg       0.85      0.85      0.85       200\n",
            "\n"
          ]
        }
      ]
    },
    {
      "cell_type": "code",
      "source": [
        "from sklearn.neural_network import MLPClassifier\n",
        "from sklearn.metrics import accuracy_score, classification_report\n",
        "\n",
        "mlp_model = MLPClassifier(hidden_layer_sizes=(100,), max_iter=1000, random_state=42)\n",
        "mlp_model.fit(X_train, Y_train)\n",
        "y_pred = mlp_model.predict(X_test)\n",
        "\n",
        "accuracy = accuracy_score(Y_test, y_pred)\n",
        "print(\"Accuracy:\", accuracy)\n",
        "print(\"Classification Report:\")\n",
        "print(classification_report(Y_test, y_pred))\n"
      ],
      "metadata": {
        "id": "RAndlL53S53F",
        "colab": {
          "base_uri": "https://localhost:8080/"
        },
        "outputId": "71bcb4e7-b089-406a-f75d-c1d7210ca87c"
      },
      "execution_count": null,
      "outputs": [
        {
          "output_type": "stream",
          "name": "stdout",
          "text": [
            "Accuracy: 0.84\n",
            "Classification Report:\n",
            "              precision    recall  f1-score   support\n",
            "\n",
            "           0       0.91      0.90      0.90       167\n",
            "           1       0.51      0.55      0.53        33\n",
            "\n",
            "    accuracy                           0.84       200\n",
            "   macro avg       0.71      0.72      0.72       200\n",
            "weighted avg       0.84      0.84      0.84       200\n",
            "\n"
          ]
        }
      ]
    },
    {
      "cell_type": "code",
      "source": [
        "from sklearn.ensemble import StackingClassifier\n",
        "from sklearn.linear_model import LogisticRegression\n",
        "from sklearn.metrics import accuracy_score\n",
        "\n",
        "# Define the base models and their predictions\n",
        "base_models = [\n",
        "    ('lr', lr_model),\n",
        "    ('rf', rf_model),\n",
        "    ('gb', gbm_model),\n",
        "    ('svc', svc_model),\n",
        "    ('knn', knn_model),\n",
        "    ('mlp', mlp_model)\n",
        "]\n",
        "\n",
        "# Extract predictions from base models\n",
        "X_train_pred = np.column_stack([model.predict(X_train) for _, model in base_models])\n",
        "X_test_pred = np.column_stack([model.predict(X_test) for _, model in base_models])\n",
        "\n",
        "# Initialize the meta-model (final estimator)\n",
        "meta_model = LogisticRegression()\n",
        "\n",
        "# Initialize the StackingClassifier with base models and meta-model\n",
        "stacking_clf = StackingClassifier(estimators=base_models, final_estimator=meta_model)\n",
        "\n",
        "# Train the StackingClassifier on the training data\n",
        "stacking_clf.fit(X_train_pred, Y_train)\n",
        "\n",
        "# Make predictions on the testing set using stacked predictions\n",
        "y_pred = stacking_clf.predict(X_test_pred)\n",
        "\n",
        "# Evaluate the model\n",
        "accuracy = accuracy_score(Y_test, y_pred)\n",
        "print(\"Accuracy:\", accuracy)\n"
      ],
      "metadata": {
        "id": "fN7i5iecXaPF",
        "colab": {
          "base_uri": "https://localhost:8080/"
        },
        "outputId": "063be045-a7cf-49a1-fd31-ee990e6dc087"
      },
      "execution_count": null,
      "outputs": [
        {
          "output_type": "stream",
          "name": "stdout",
          "text": [
            "Accuracy: 0.875\n"
          ]
        }
      ]
    },
    {
      "cell_type": "code",
      "source": [
        "import matplotlib.pyplot as plt\n",
        "from sklearn.model_selection import GridSearchCV\n",
        "from sklearn.ensemble import RandomForestClassifier, GradientBoostingClassifier\n",
        "from sklearn.svm import SVC\n",
        "from sklearn.neighbors import KNeighborsClassifier\n",
        "from sklearn.neural_network import MLPClassifier\n",
        "from sklearn.linear_model import LogisticRegression\n",
        "\n",
        "# Define hyperparameter grids for each model\n",
        "lr_param_grid = {'C': [0.1, 1, 10], 'penalty': ['l1', 'l2']}\n",
        "rf_param_grid = {'n_estimators': [50, 100, 200], 'max_depth': [None, 10, 20]}\n",
        "gbm_param_grid = {'n_estimators': [50, 100, 200], 'learning_rate': [0.05, 0.1, 0.2]}\n",
        "svc_param_grid = {'C': [0.1, 1, 10], 'kernel': ['linear', 'rbf']}\n",
        "knn_param_grid = {'n_neighbors': [3, 5, 7], 'weights': ['uniform', 'distance']}\n",
        "mlp_param_grid = {'hidden_layer_sizes': [(50,), (100,), (200,)], 'alpha': [0.0001, 0.001, 0.01]}\n",
        "\n",
        "# Define a dictionary of models and their corresponding hyperparameter grids\n",
        "models = {\n",
        "    'Logistic Regression': (LogisticRegression(), lr_param_grid),\n",
        "    'Random Forest': (RandomForestClassifier(), rf_param_grid),\n",
        "    'Gradient Boosting': (GradientBoostingClassifier(), gbm_param_grid),\n",
        "    'Support Vector Classifier': (SVC(), svc_param_grid),\n",
        "    'K-Nearest Neighbors': (KNeighborsClassifier(), knn_param_grid),\n",
        "    'MLPClassifier': (MLPClassifier(), mlp_param_grid)\n",
        "}\n",
        "\n",
        "# Perform GridSearchCV for each model\n",
        "best_scores = {}\n",
        "for model_name, (model, param_grid) in models.items():\n",
        "    grid_search = GridSearchCV(model, param_grid, cv=5, scoring='accuracy', n_jobs=-1)\n",
        "    grid_search.fit(X_train, Y_train)\n",
        "    best_scores[model_name] = grid_search.best_score_\n",
        "\n",
        "# Plot the accuracy for each model\n",
        "plt.figure(figsize=(10, 6))\n",
        "plt.bar(best_scores.keys(), best_scores.values(), color='skyblue')\n",
        "plt.xlabel('Model')\n",
        "plt.ylabel('Accuracy')\n",
        "plt.title('Model Accuracy')\n",
        "plt.xticks(rotation=45, ha='right')\n",
        "plt.ylim(0, 1)\n",
        "plt.show()\n"
      ],
      "metadata": {
        "id": "nDQ1pqr91NOV",
        "colab": {
          "base_uri": "https://localhost:8080/",
          "height": 1000
        },
        "outputId": "efe1c698-52ae-40b7-b0ab-50ba94646397"
      },
      "execution_count": null,
      "outputs": [
        {
          "output_type": "stream",
          "name": "stderr",
          "text": [
            "/usr/local/lib/python3.10/dist-packages/sklearn/model_selection/_validation.py:378: FitFailedWarning:\n",
            "\n",
            "\n",
            "15 fits failed out of a total of 30.\n",
            "The score on these train-test partitions for these parameters will be set to nan.\n",
            "If these failures are not expected, you can try to debug them by setting error_score='raise'.\n",
            "\n",
            "Below are more details about the failures:\n",
            "--------------------------------------------------------------------------------\n",
            "15 fits failed with the following error:\n",
            "Traceback (most recent call last):\n",
            "  File \"/usr/local/lib/python3.10/dist-packages/sklearn/model_selection/_validation.py\", line 686, in _fit_and_score\n",
            "    estimator.fit(X_train, y_train, **fit_params)\n",
            "  File \"/usr/local/lib/python3.10/dist-packages/sklearn/linear_model/_logistic.py\", line 1162, in fit\n",
            "    solver = _check_solver(self.solver, self.penalty, self.dual)\n",
            "  File \"/usr/local/lib/python3.10/dist-packages/sklearn/linear_model/_logistic.py\", line 54, in _check_solver\n",
            "    raise ValueError(\n",
            "ValueError: Solver lbfgs supports only 'l2' or 'none' penalties, got l1 penalty.\n",
            "\n",
            "\n",
            "/usr/local/lib/python3.10/dist-packages/sklearn/model_selection/_search.py:952: UserWarning:\n",
            "\n",
            "One or more of the test scores are non-finite: [       nan 0.86333333        nan 0.85              nan 0.84333333]\n",
            "\n",
            "/usr/local/lib/python3.10/dist-packages/sklearn/linear_model/_logistic.py:458: ConvergenceWarning:\n",
            "\n",
            "lbfgs failed to converge (status=1):\n",
            "STOP: TOTAL NO. of ITERATIONS REACHED LIMIT.\n",
            "\n",
            "Increase the number of iterations (max_iter) or scale the data as shown in:\n",
            "    https://scikit-learn.org/stable/modules/preprocessing.html\n",
            "Please also refer to the documentation for alternative solver options:\n",
            "    https://scikit-learn.org/stable/modules/linear_model.html#logistic-regression\n",
            "\n",
            "/usr/local/lib/python3.10/dist-packages/sklearn/neural_network/_multilayer_perceptron.py:686: ConvergenceWarning:\n",
            "\n",
            "Stochastic Optimizer: Maximum iterations (200) reached and the optimization hasn't converged yet.\n",
            "\n"
          ]
        },
        {
          "output_type": "display_data",
          "data": {
            "text/plain": [
              "<Figure size 1000x600 with 1 Axes>"
            ],
            "image/png": "[encoded data removed]"
          },
          "metadata": {}
        }
      ]
    },
    {
      "cell_type": "markdown",
      "source": [
        "**Voting Classifier:the best hyperparameters for each individual model, we use ensemble methods to combine the predictions of these model**"
      ],
      "metadata": {
        "id": "FBx2mcujrqJh"
      }
    },
    {
      "cell_type": "code",
      "source": [
        "from sklearn.ensemble import VotingClassifier\n",
        "from sklearn.metrics import accuracy_score\n",
        "\n",
        "# Define the individual models with their best hyperparameters\n",
        "lr_model = LogisticRegression(C=0.1, penalty='l2')\n",
        "rf_model = RandomForestClassifier(max_depth=10, n_estimators=50)\n",
        "gbm_model = GradientBoostingClassifier(learning_rate=0.05, n_estimators=50)\n",
        "svc_model = SVC(C=0.1, kernel='linear')\n",
        "knn_model = KNeighborsClassifier(n_neighbors=3, weights='uniform')\n",
        "mlp_model = MLPClassifier(alpha=0.001, hidden_layer_sizes=(100,))\n",
        "\n",
        "# Initialize the VotingClassifier\n",
        "voting_clf = VotingClassifier(estimators=[\n",
        "    ('lr', lr_model), ('rf', rf_model), ('gbm', gbm_model),\n",
        "    ('svc', svc_model), ('knn', knn_model), ('mlp', mlp_model)],\n",
        "    voting='hard')\n",
        "\n",
        "# Train the VotingClassifier\n",
        "voting_clf.fit(X_train, Y_train)\n",
        "\n",
        "# Make predictions\n",
        "y_pred = voting_clf.predict(X_test)\n",
        "\n",
        "# Evaluate the model\n",
        "accuracy = accuracy_score(Y_test, y_pred)\n",
        "print(\"Voting Classifier Accuracy:\", accuracy)\n"
      ],
      "metadata": {
        "id": "FXhnzzUDqvk-",
        "colab": {
          "base_uri": "https://localhost:8080/"
        },
        "outputId": "ee5252fc-15da-488a-e644-e10d5f7e6689"
      },
      "execution_count": null,
      "outputs": [
        {
          "output_type": "stream",
          "name": "stderr",
          "text": [
            "/usr/local/lib/python3.10/dist-packages/sklearn/linear_model/_logistic.py:458: ConvergenceWarning:\n",
            "\n",
            "lbfgs failed to converge (status=1):\n",
            "STOP: TOTAL NO. of ITERATIONS REACHED LIMIT.\n",
            "\n",
            "Increase the number of iterations (max_iter) or scale the data as shown in:\n",
            "    https://scikit-learn.org/stable/modules/preprocessing.html\n",
            "Please also refer to the documentation for alternative solver options:\n",
            "    https://scikit-learn.org/stable/modules/linear_model.html#logistic-regression\n",
            "\n",
            "/usr/local/lib/python3.10/dist-packages/sklearn/neural_network/_multilayer_perceptron.py:686: ConvergenceWarning:\n",
            "\n",
            "Stochastic Optimizer: Maximum iterations (200) reached and the optimization hasn't converged yet.\n",
            "\n"
          ]
        },
        {
          "output_type": "stream",
          "name": "stdout",
          "text": [
            "Voting Classifier Accuracy: 0.885\n"
          ]
        }
      ]
    },
    {
      "cell_type": "markdown",
      "source": [
        "**Stacking Classifier: With best hyperparameters for each individual model , create ensemble methods to combine the predictions of these models.**"
      ],
      "metadata": {
        "id": "ikVvqhC9rHUO"
      }
    },
    {
      "cell_type": "code",
      "source": [
        "from sklearn.ensemble import StackingClassifier\n",
        "from sklearn.linear_model import LogisticRegression\n",
        "from sklearn.metrics import accuracy_score\n",
        "\n",
        "# Define the base models with their best hyperparameters\n",
        "base_models = [\n",
        "    ('lr', lr_model), ('rf', rf_model), ('gbm', gbm_model),\n",
        "    ('svc', svc_model), ('knn', knn_model), ('mlp', mlp_model)\n",
        "]\n",
        "\n",
        "# Initialize the StackingClassifier with the best hyperparameters\n",
        "stacking_clf = StackingClassifier(estimators=base_models, final_estimator=LogisticRegression())\n",
        "\n",
        "# Train the StackingClassifier\n",
        "stacking_clf.fit(X_train, Y_train)\n",
        "\n",
        "# Make predictions\n",
        "y_pred = stacking_clf.predict(X_test)\n",
        "\n",
        "# Evaluate the model\n",
        "accuracy = accuracy_score(Y_test, y_pred)\n",
        "print(\"Stacking Classifier Accuracy:\", accuracy)\n"
      ],
      "metadata": {
        "id": "Yww07ReVq6Ip",
        "colab": {
          "base_uri": "https://localhost:8080/"
        },
        "outputId": "9d96b6fc-fb43-4aed-e97a-25cc411b7bec"
      },
      "execution_count": null,
      "outputs": [
        {
          "output_type": "stream",
          "name": "stderr",
          "text": [
            "/usr/local/lib/python3.10/dist-packages/sklearn/linear_model/_logistic.py:458: ConvergenceWarning:\n",
            "\n",
            "lbfgs failed to converge (status=1):\n",
            "STOP: TOTAL NO. of ITERATIONS REACHED LIMIT.\n",
            "\n",
            "Increase the number of iterations (max_iter) or scale the data as shown in:\n",
            "    https://scikit-learn.org/stable/modules/preprocessing.html\n",
            "Please also refer to the documentation for alternative solver options:\n",
            "    https://scikit-learn.org/stable/modules/linear_model.html#logistic-regression\n",
            "\n",
            "/usr/local/lib/python3.10/dist-packages/sklearn/neural_network/_multilayer_perceptron.py:686: ConvergenceWarning:\n",
            "\n",
            "Stochastic Optimizer: Maximum iterations (200) reached and the optimization hasn't converged yet.\n",
            "\n",
            "/usr/local/lib/python3.10/dist-packages/sklearn/linear_model/_logistic.py:458: ConvergenceWarning:\n",
            "\n",
            "lbfgs failed to converge (status=1):\n",
            "STOP: TOTAL NO. of ITERATIONS REACHED LIMIT.\n",
            "\n",
            "Increase the number of iterations (max_iter) or scale the data as shown in:\n",
            "    https://scikit-learn.org/stable/modules/preprocessing.html\n",
            "Please also refer to the documentation for alternative solver options:\n",
            "    https://scikit-learn.org/stable/modules/linear_model.html#logistic-regression\n",
            "\n",
            "/usr/local/lib/python3.10/dist-packages/sklearn/linear_model/_logistic.py:458: ConvergenceWarning:\n",
            "\n",
            "lbfgs failed to converge (status=1):\n",
            "STOP: TOTAL NO. of ITERATIONS REACHED LIMIT.\n",
            "\n",
            "Increase the number of iterations (max_iter) or scale the data as shown in:\n",
            "    https://scikit-learn.org/stable/modules/preprocessing.html\n",
            "Please also refer to the documentation for alternative solver options:\n",
            "    https://scikit-learn.org/stable/modules/linear_model.html#logistic-regression\n",
            "\n",
            "/usr/local/lib/python3.10/dist-packages/sklearn/linear_model/_logistic.py:458: ConvergenceWarning:\n",
            "\n",
            "lbfgs failed to converge (status=1):\n",
            "STOP: TOTAL NO. of ITERATIONS REACHED LIMIT.\n",
            "\n",
            "Increase the number of iterations (max_iter) or scale the data as shown in:\n",
            "    https://scikit-learn.org/stable/modules/preprocessing.html\n",
            "Please also refer to the documentation for alternative solver options:\n",
            "    https://scikit-learn.org/stable/modules/linear_model.html#logistic-regression\n",
            "\n",
            "/usr/local/lib/python3.10/dist-packages/sklearn/linear_model/_logistic.py:458: ConvergenceWarning:\n",
            "\n",
            "lbfgs failed to converge (status=1):\n",
            "STOP: TOTAL NO. of ITERATIONS REACHED LIMIT.\n",
            "\n",
            "Increase the number of iterations (max_iter) or scale the data as shown in:\n",
            "    https://scikit-learn.org/stable/modules/preprocessing.html\n",
            "Please also refer to the documentation for alternative solver options:\n",
            "    https://scikit-learn.org/stable/modules/linear_model.html#logistic-regression\n",
            "\n",
            "/usr/local/lib/python3.10/dist-packages/sklearn/neural_network/_multilayer_perceptron.py:686: ConvergenceWarning:\n",
            "\n",
            "Stochastic Optimizer: Maximum iterations (200) reached and the optimization hasn't converged yet.\n",
            "\n",
            "/usr/local/lib/python3.10/dist-packages/sklearn/neural_network/_multilayer_perceptron.py:686: ConvergenceWarning:\n",
            "\n",
            "Stochastic Optimizer: Maximum iterations (200) reached and the optimization hasn't converged yet.\n",
            "\n",
            "/usr/local/lib/python3.10/dist-packages/sklearn/neural_network/_multilayer_perceptron.py:686: ConvergenceWarning:\n",
            "\n",
            "Stochastic Optimizer: Maximum iterations (200) reached and the optimization hasn't converged yet.\n",
            "\n",
            "/usr/local/lib/python3.10/dist-packages/sklearn/neural_network/_multilayer_perceptron.py:686: ConvergenceWarning:\n",
            "\n",
            "Stochastic Optimizer: Maximum iterations (200) reached and the optimization hasn't converged yet.\n",
            "\n"
          ]
        },
        {
          "output_type": "stream",
          "name": "stdout",
          "text": [
            "Stacking Classifier Accuracy: 0.88\n"
          ]
        },
        {
          "output_type": "stream",
          "name": "stderr",
          "text": [
            "/usr/local/lib/python3.10/dist-packages/sklearn/neural_network/_multilayer_perceptron.py:686: ConvergenceWarning:\n",
            "\n",
            "Stochastic Optimizer: Maximum iterations (200) reached and the optimization hasn't converged yet.\n",
            "\n"
          ]
        }
      ]
    },
    {
      "cell_type": "markdown",
      "source": [
        "**IMAGES**"
      ],
      "metadata": {
        "id": "JZLApvTl1Oxy"
      }
    },
    {
      "cell_type": "markdown",
      "source": [
        "**CONVOLUTIONAL NEURAL NETWORK**"
      ],
      "metadata": {
        "id": "jyuRsY3Bw9Pv"
      }
    },
    {
      "cell_type": "code",
      "source": [
        "import os\n",
        "import numpy as np\n",
        "import cv2\n",
        "from sklearn.model_selection import train_test_split\n",
        "from keras.utils import to_categorical\n",
        "from keras.models import Sequential\n",
        "from keras.layers import Conv2D, MaxPooling2D, Flatten, Dense\n",
        "import matplotlib.pyplot as plt\n",
        "\n",
        "# Function to load and preprocess images\n",
        "def preprocess_images(folder_path, image_size=(150, 150)):\n",
        "    images = []\n",
        "    labels = []\n",
        "    for label, category in enumerate(['Non_Autistic', 'Autistic']):\n",
        "        category_folder = os.path.join(folder_path, category)\n",
        "        for image_name in os.listdir(category_folder):\n",
        "            image_path = os.path.join(category_folder, image_name)\n",
        "            image = cv2.imread(image_path)\n",
        "            image = cv2.resize(image, image_size)\n",
        "            image = image.astype('float32') / 255.0  # Normalizing pixel values\n",
        "            images.append(image)\n",
        "            labels.append(label)\n",
        "    return np.array(images), np.array(labels)\n",
        "\n",
        "# Path to the folder containing images\n",
        "folder_path = \"/content/drive/MyDrive/HF-Project/images\"\n",
        "\n",
        "# Preprocess images\n",
        "images, labels = preprocess_images(folder_path)\n",
        "\n",
        "# Split data into training and testing sets\n",
        "X_train, X_test, y_train, y_test = train_test_split(images, labels, test_size=0.2, random_state=42)\n",
        "\n",
        "# Convert labels to one-hot encoding\n",
        "y_train = to_categorical(y_train)\n",
        "y_test = to_categorical(y_test)\n",
        "\n",
        "# Define the CNN model\n",
        "model = Sequential()\n",
        "model.add(Conv2D(32, (3, 3), activation='relu', input_shape=(150, 150, 3)))\n",
        "model.add(MaxPooling2D((2, 2)))\n",
        "model.add(Conv2D(64, (3, 3), activation='relu'))\n",
        "model.add(MaxPooling2D((2, 2)))\n",
        "model.add(Conv2D(128, (3, 3), activation='relu'))\n",
        "model.add(MaxPooling2D((2, 2)))\n",
        "model.add(Conv2D(128, (3, 3), activation='relu'))\n",
        "model.add(MaxPooling2D((2, 2)))\n",
        "model.add(Flatten())\n",
        "model.add(Dense(512, activation='relu'))\n",
        "model.add(Dense(2, activation='softmax'))  # Output layer with 2 neurons for binary classification\n",
        "\n",
        "# Compile the model\n",
        "model.compile(optimizer='adam',\n",
        "              loss='categorical_crossentropy',\n",
        "              metrics=['accuracy'])\n",
        "\n",
        "# Train the model\n",
        "history = model.fit(X_train, y_train, epochs=50, batch_size=32, validation_data=(X_test, y_test))\n",
        "\n",
        "# Plot training and validation accuracy\n",
        "plt.plot(history.history['accuracy'], label='Training Accuracy')\n",
        "plt.plot(history.history['val_accuracy'], label='Validation Accuracy')\n",
        "plt.xlabel('Epoch')\n",
        "plt.ylabel('Accuracy')\n",
        "plt.title('Training and Validation Accuracy')\n",
        "plt.legend()\n",
        "plt.show()\n",
        "\n",
        "# Plot training and validation loss\n",
        "plt.plot(history.history['loss'], label='Training Loss')\n",
        "plt.plot(history.history['val_loss'], label='Validation Loss')\n",
        "plt.xlabel('Epoch')\n",
        "plt.ylabel('Loss')\n",
        "plt.title('Training and Validation Loss')\n",
        "plt.legend()\n",
        "plt.show()\n",
        "\n",
        "# Evaluate the model\n",
        "loss, accuracy = model.evaluate(X_test, y_test)\n",
        "print(\"Test Accuracy:\", accuracy)\n",
        "\n",
        "# Predict on test data and display true and predicted labels\n",
        "class_labels = ['Non_Autistic', 'Autistic']\n",
        "\n",
        "num_images_to_display = 10\n",
        "for i in range(num_images_to_display):\n",
        "    test_image = X_test[i]\n",
        "    true_label = class_labels[np.argmax(y_test[i])]\n",
        "    predicted_label = class_labels[np.argmax(model.predict(np.expand_dims(test_image, axis=0)))]\n",
        "\n",
        "    plt.imshow(test_image)\n",
        "    plt.title(f\"True Label: {true_label}, Predicted Label: {predicted_label}\")\n",
        "    plt.axis('off')\n",
        "    plt.show()\n"
      ],
      "metadata": {
        "id": "kVNBkiRww4zR"
      },
      "execution_count": null,
      "outputs": []
    },
    {
      "cell_type": "code",
      "source": [
        "y_pred = np.argmax(model.predict(X_test), axis=1)\n",
        "y_true = np.argmax(y_test, axis=1)\n",
        "\n",
        "# Generate classification report\n",
        "print(classification_report(y_true, y_pred, target_names=['Non_Autistic', 'Autistic']))"
      ],
      "metadata": {
        "id": "uaXW-mjoxFPw"
      },
      "execution_count": null,
      "outputs": []
    },
    {
      "cell_type": "markdown",
      "source": [
        "**RESNET50 (TRANSFER LEARNING)**"
      ],
      "metadata": {
        "id": "IOXsnlS8xGO6"
      }
    },
    {
      "cell_type": "code",
      "source": [
        "import os\n",
        "import numpy as np\n",
        "import cv2\n",
        "from sklearn.model_selection import train_test_split\n",
        "from keras.utils import to_categorical\n",
        "from keras.models import Sequential\n",
        "from keras.layers import Flatten, Dense\n",
        "from keras.applications import ResNet50\n",
        "from keras.optimizers import Adam\n",
        "import matplotlib.pyplot as plt\n",
        "from sklearn.metrics import classification_report\n",
        "\n",
        "# Function to load and preprocess images\n",
        "def preprocess_images(folder_path, image_size=(224, 224)):\n",
        "    images = []\n",
        "    labels = []\n",
        "    for label, category in enumerate(['Non_Autistic', 'Autistic']):\n",
        "        category_folder = os.path.join(folder_path, category)\n",
        "        for image_name in os.listdir(category_folder):\n",
        "            image_path = os.path.join(category_folder, image_name)\n",
        "            image = cv2.imread(image_path)\n",
        "            image = cv2.resize(image, image_size)\n",
        "            image = image.astype('float32') / 255.0  # Normalizing pixel values\n",
        "            images.append(image)\n",
        "            labels.append(label)\n",
        "    return np.array(images), np.array(labels)\n",
        "\n",
        "# Path to the folder containing images\n",
        "folder_path = \"/content/drive/MyDrive/HF-Project/images\"\n",
        "\n",
        "# Preprocess images\n",
        "images, labels = preprocess_images(folder_path)\n",
        "\n",
        "# Split data into training and testing sets\n",
        "X_train, X_test, y_train, y_test = train_test_split(images, labels, test_size=0.2, random_state=42)\n",
        "\n",
        "# Convert labels to one-hot encoding\n",
        "y_train = to_categorical(y_train)\n",
        "y_test = to_categorical(y_test)\n",
        "\n",
        "# Load pre-trained ResNet50 model without top layers\n",
        "resnet_model = ResNet50(weights='imagenet', include_top=False, input_shape=(224, 224, 3))\n",
        "\n",
        "# Freeze the layers in the pre-trained model\n",
        "for layer in resnet_model.layers:\n",
        "    layer.trainable = False\n",
        "\n",
        "# Add custom top layers for binary classification\n",
        "model = Sequential()\n",
        "model.add(resnet_model)\n",
        "model.add(Flatten())\n",
        "model.add(Dense(256, activation='relu'))\n",
        "model.add(Dense(2, activation='softmax'))  # Output layer with 2 neurons for binary classification\n",
        "\n",
        "# Compile the model\n",
        "model.compile(optimizer=Adam(lr=0.0001),\n",
        "              loss='categorical_crossentropy',\n",
        "              metrics=['accuracy'])\n",
        "\n",
        "# Train the model\n",
        "history = model.fit(X_train, y_train, epochs=50, batch_size=32, validation_data=(X_test, y_test))\n",
        "\n",
        "# Plot training and validation accuracy\n",
        "plt.plot(history.history['accuracy'], label='Training Accuracy')\n",
        "plt.plot(history.history['val_accuracy'], label='Validation Accuracy')\n",
        "plt.xlabel('Epoch')\n",
        "plt.ylabel('Accuracy')\n",
        "plt.title('Training and Validation Accuracy')\n",
        "plt.legend()\n",
        "plt.show()\n",
        "\n",
        "# Plot training and validation loss\n",
        "plt.plot(history.history['loss'], label='Training Loss')\n",
        "plt.plot(history.history['val_loss'], label='Validation Loss')\n",
        "plt.xlabel('Epoch')\n",
        "plt.ylabel('Loss')\n",
        "plt.title('Training and Validation Loss')\n",
        "plt.legend()\n",
        "plt.show()\n",
        "\n",
        "# Evaluate the model\n",
        "loss, accuracy = model.evaluate(X_test, y_test)\n",
        "print(\"Test Accuracy:\", accuracy)\n",
        "\n",
        "# Predict on test data\n",
        "y_pred = np.argmax(model.predict(X_test), axis=1)\n",
        "y_true = np.argmax(y_test, axis=1)\n",
        "\n",
        "# Generate classification report\n",
        "print(classification_report(y_true, y_pred, target_names=['Non_Autistic', 'Autistic']))\n",
        "\n",
        "# Predict on test data and display true and predicted labels\n",
        "class_labels = ['Non_Autistic', 'Autistic']\n",
        "\n",
        "num_images_to_display = 10\n",
        "for i in range(num_images_to_display):\n",
        "    test_image = X_test[i]\n",
        "    true_label = class_labels[np.argmax(y_test[i])]\n",
        "    predicted_label = class_labels[np.argmax(model.predict(np.expand_dims(test_image, axis=0)))]\n",
        "\n",
        "    plt.imshow(test_image)\n",
        "    plt.title(f\"True Label: {true_label}, Predicted Label: {predicted_label}\")\n",
        "    plt.axis('off')\n",
        "    plt.show()\n"
      ],
      "metadata": {
        "id": "DbHc42FdxLkv"
      },
      "execution_count": null,
      "outputs": []
    },
    {
      "cell_type": "markdown",
      "source": [
        "**RESNEXT**"
      ],
      "metadata": {
        "id": "8fjLTFskxVlr"
      }
    },
    {
      "cell_type": "code",
      "source": [
        "import os\n",
        "import numpy as np\n",
        "import cv2\n",
        "from sklearn.model_selection import train_test_split\n",
        "from keras.utils import to_categorical\n",
        "from tensorflow.keras import layers, models\n",
        "from tensorflow.keras.applications import ResNet101\n",
        "from tensorflow.keras.optimizers import Adam\n",
        "import matplotlib.pyplot as plt\n",
        "from sklearn.metrics import classification_report\n",
        "\n",
        "def squeeze_excite_block(input_tensor, ratio=16):\n",
        "    \"\"\"\n",
        "    Squeeze-and-Excitation block\n",
        "    \"\"\"\n",
        "    filters = input_tensor.shape[-1]\n",
        "\n",
        "    se = layers.GlobalAveragePooling2D()(input_tensor)\n",
        "    se = layers.Reshape((1, 1, filters))(se)\n",
        "    se = layers.Dense(filters // ratio, activation='relu', kernel_initializer='he_normal')(se)\n",
        "    se = layers.Dense(filters, activation='sigmoid', kernel_initializer='he_normal')(se)\n",
        "\n",
        "    return layers.multiply([input_tensor, se])\n",
        "\n",
        "def ResNeXt(input_shape=(224, 224, 3), num_classes=2):\n",
        "    \"\"\"\n",
        "    ResNeXt Network with ResNet101 base\n",
        "    \"\"\"\n",
        "    # Load pre-trained ResNet101 model (excluding top layers)\n",
        "    base_model = ResNet101(weights='imagenet', include_top=False, input_shape=input_shape)\n",
        "\n",
        "    # Squeeze-and-Excitation blocks\n",
        "    se1 = squeeze_excite_block(base_model.layers[-64].output)  # Adjust based on the ResNet101 architecture\n",
        "    se2 = squeeze_excite_block(base_model.layers[-66].output)  # Adjust based on the ResNet101 architecture\n",
        "\n",
        "    # Top layers for classification\n",
        "    x = layers.GlobalAveragePooling2D()(se2)\n",
        "    x = layers.Dense(128, activation='relu')(x)\n",
        "    predictions = layers.Dense(num_classes, activation='softmax')(x)\n",
        "\n",
        "    # Combine base model and top layers\n",
        "    model = models.Model(inputs=base_model.input, outputs=predictions)\n",
        "\n",
        "    return model\n",
        "\n",
        "# Function to load and preprocess images\n",
        "def preprocess_images(folder_path, image_size=(224, 224)):\n",
        "    images = []\n",
        "    labels = []\n",
        "    for label, category in enumerate(['Non_Autistic', 'Autistic']):\n",
        "        category_folder = os.path.join(folder_path, category)\n",
        "        for image_name in os.listdir(category_folder):\n",
        "            image_path = os.path.join(category_folder, image_name)\n",
        "            image = cv2.imread(image_path)\n",
        "            image = cv2.resize(image, image_size)\n",
        "            image = image.astype('float32') / 255.0  # Normalizing pixel values\n",
        "            images.append(image)\n",
        "            labels.append(label)\n",
        "    return np.array(images), np.array(labels)\n",
        "\n",
        "# Path to the folder containing images\n",
        "folder_path = \"/content/drive/MyDrive/HF-Project/images\"\n",
        "\n",
        "# Preprocess images\n",
        "images, labels = preprocess_images(folder_path)\n",
        "\n",
        "# Split data into training, validation, and testing sets\n",
        "X_train, X_temp, y_train, y_temp = train_test_split(images, labels, test_size=0.3, random_state=42)\n",
        "X_val, X_test, y_val, y_test = train_test_split(X_temp, y_temp, test_size=0.5, random_state=42)\n",
        "\n",
        "# Convert labels to one-hot encoding\n",
        "y_train = to_categorical(y_train)\n",
        "y_val = to_categorical(y_val)\n",
        "y_test = to_categorical(y_test)\n",
        "\n",
        "# Create ResNeXt model\n",
        "model_resnext = ResNeXt()\n",
        "\n",
        "# Compile the model\n",
        "model_resnext.compile(optimizer=Adam(lr=0.0001), loss='categorical_crossentropy', metrics=['accuracy'])\n",
        "\n",
        "# Train the model\n",
        "history = model_resnext.fit(X_train, y_train, epochs=10, batch_size=32, validation_data=(X_val, y_val))\n",
        "\n",
        "# Evaluate the model\n",
        "loss, accuracy = model_resnext.evaluate(X_test, y_test)\n",
        "print(\"Testing Accuracy:\", accuracy)\n",
        "\n",
        "# Plot training and validation accuracy\n",
        "plt.plot(history.history['accuracy'], label='Training Accuracy')\n",
        "plt.plot(history.history['val_accuracy'], label='Validation Accuracy')\n",
        "plt.xlabel('Epoch')\n",
        "plt.ylabel('Accuracy')\n",
        "plt.title('Training and Validation Accuracy')\n",
        "plt.legend()\n",
        "plt.show()\n",
        "\n",
        "# Plot training and validation loss\n",
        "plt.plot(history.history['loss'], label='Training Loss')\n",
        "plt.plot(history.history['val_loss'], label='Validation Loss')\n",
        "plt.xlabel('Epoch')\n",
        "plt.ylabel('Loss')\n",
        "plt.title('Training and Validation Loss')\n",
        "plt.legend()\n",
        "plt.show()\n",
        "\n",
        "# Predict on test data\n",
        "y_pred = model_resnext.predict(X_test)\n",
        "y_pred_labels = np.argmax(y_pred, axis=1)\n",
        "y_true_labels = np.argmax(y_test, axis=1)\n",
        "\n",
        "# Generate classification report\n",
        "print(classification_report(y_true_labels, y_pred_labels, target_names=['Non_Autistic', 'Autistic']))\n",
        "\n",
        "class_labels = ['Non_Autistic', 'Autistic']\n",
        "\n",
        "num_images_to_display = 10\n",
        "for i in range(num_images_to_display):\n",
        "    test_image = X_test[i]\n",
        "    true_label = class_labels[np.argmax(y_test[i])]\n",
        "    predicted_label = class_labels[np.argmax(model_resnext.predict(np.expand_dims(test_image, axis=0)))]\n",
        "\n",
        "    plt.imshow(test_image)\n",
        "    plt.title(f\"True Label: {true_label}, Predicted Label: {predicted_label}\")\n",
        "    plt.axis('off')\n",
        "    plt.show()\n",
        "\n"
      ],
      "metadata": {
        "id": "aczCD4xDxYJS"
      },
      "execution_count": null,
      "outputs": []
    },
    {
      "cell_type": "markdown",
      "source": [
        "**SENET**"
      ],
      "metadata": {
        "id": "yuIfwVVAxOJ3"
      }
    },
    {
      "cell_type": "code",
      "source": [
        "import os\n",
        "import numpy as np\n",
        "import cv2\n",
        "from sklearn.model_selection import train_test_split\n",
        "from keras.utils import to_categorical\n",
        "from tensorflow.keras import layers, models\n",
        "from tensorflow.keras.applications import ResNet101\n",
        "import matplotlib.pyplot as plt\n",
        "from sklearn.metrics import classification_report\n",
        "\n",
        "def squeeze_excite_block(input_tensor, ratio=16):\n",
        "    \"\"\"\n",
        "    Squeeze-and-Excitation block\n",
        "    \"\"\"\n",
        "    filters = input_tensor.shape[-1]\n",
        "\n",
        "    se = layers.GlobalAveragePooling2D()(input_tensor)\n",
        "    se = layers.Reshape((1, 1, filters))(se)\n",
        "    se = layers.Dense(filters // ratio, activation='relu', kernel_initializer='he_normal')(se)\n",
        "    se = layers.Dense(filters, activation='sigmoid', kernel_initializer='he_normal')(se)\n",
        "\n",
        "    return layers.multiply([input_tensor, se])\n",
        "\n",
        "def SENet(input_shape=(224, 224, 3), num_classes=2):\n",
        "    \"\"\"\n",
        "    Squeeze-and-Excitation Network with ResNet101 base\n",
        "    \"\"\"\n",
        "    # Load pre-trained ResNet101 model (excluding top layers)\n",
        "    base_model = ResNet101(weights='imagenet', include_top=False, input_shape=input_shape)\n",
        "\n",
        "    # Squeeze-and-Excitation blocks\n",
        "    se1 = squeeze_excite_block(base_model.layers[-64].output)  # Adjust based on the ResNet101 architecture\n",
        "    se2 = squeeze_excite_block(base_model.layers[-66].output)  # Adjust based on the ResNet101 architecture\n",
        "\n",
        "    # Top layers for classification\n",
        "    x = layers.GlobalAveragePooling2D()(se2)\n",
        "    x = layers.Dense(128, activation='relu')(x)\n",
        "    predictions = layers.Dense(num_classes, activation='softmax')(x)\n",
        "\n",
        "    # Combine base model and top layers\n",
        "    model = models.Model(inputs=base_model.input, outputs=predictions)\n",
        "\n",
        "    return model\n",
        "\n",
        "# Function to load and preprocess images\n",
        "def preprocess_images(folder_path, image_size=(224, 224)):\n",
        "    images = []\n",
        "    labels = []\n",
        "    for label, category in enumerate(['Non_Autistic', 'Autistic']):\n",
        "        category_folder = os.path.join(folder_path, category)\n",
        "        for image_name in os.listdir(category_folder):\n",
        "            image_path = os.path.join(category_folder, image_name)\n",
        "            image = cv2.imread(image_path)\n",
        "            image = cv2.resize(image, image_size)\n",
        "            image = image.astype('float32') / 255.0  # Normalizing pixel values\n",
        "            images.append(image)\n",
        "            labels.append(label)\n",
        "    return np.array(images), np.array(labels)\n",
        "\n",
        "# Path to the folder containing images\n",
        "folder_path = \"/content/drive/MyDrive/HF-Project/images\"\n",
        "\n",
        "# Preprocess images\n",
        "images, labels = preprocess_images(folder_path)\n",
        "\n",
        "# Split data into training, validation, and testing sets\n",
        "X_train, X_temp, y_train, y_temp = train_test_split(images, labels, test_size=0.3, random_state=42)\n",
        "X_val, X_test, y_val, y_test = train_test_split(X_temp, y_temp, test_size=0.5, random_state=42)\n",
        "\n",
        "# Convert labels to one-hot encoding\n",
        "y_train = to_categorical(y_train)\n",
        "y_val = to_categorical(y_val)\n",
        "y_test = to_categorical(y_test)\n",
        "\n",
        "# Create SENet model\n",
        "model_senet = SENet()\n",
        "\n",
        "# Compile the model\n",
        "model_senet.compile(optimizer='adam', loss='categorical_crossentropy', metrics=['accuracy'])\n",
        "\n",
        "# Train the model\n",
        "history = model_senet.fit(X_train, y_train, epochs=50, batch_size=32, validation_data=(X_val, y_val))\n",
        "\n",
        "# Evaluate the model\n",
        "loss, accuracy = model_senet.evaluate(X_test, y_test)\n",
        "print(\"Testing Accuracy:\", accuracy)\n",
        "\n",
        "# Plot training and validation accuracy\n",
        "plt.plot(history.history['accuracy'], label='Training Accuracy')\n",
        "plt.plot(history.history['val_accuracy'], label='Validation Accuracy')\n",
        "plt.xlabel('Epoch')\n",
        "plt.ylabel('Accuracy')\n",
        "plt.title('Training and Validation Accuracy')\n",
        "plt.legend()\n",
        "plt.show()\n",
        "\n",
        "# Plot training and validation loss\n",
        "plt.plot(history.history['loss'], label='Training Loss')\n",
        "plt.plot(history.history['val_loss'], label='Validation Loss')\n",
        "plt.xlabel('Epoch')\n",
        "plt.ylabel('Loss')\n",
        "plt.title('Training and Validation Loss')\n",
        "plt.legend()\n",
        "plt.show()\n",
        "\n",
        "# Predict on test data\n",
        "y_pred = model_senet.predict(X_test)\n",
        "y_pred_labels = np.argmax(y_pred, axis=1)\n",
        "y_true_labels = np.argmax(y_test, axis=1)\n",
        "\n",
        "# Generate classification report\n",
        "print(classification_report(y_true_labels, y_pred_labels, target_names=['Non_Autistic', 'Autistic']))\n",
        "# Predict on test data and display true and predicted labels\n",
        "class_labels = ['Non_Autistic', 'Autistic']\n",
        "\n",
        "num_images_to_display = 10\n",
        "for i in range(num_images_to_display):\n",
        "    test_image = X_test[i]\n",
        "    true_label = class_labels[np.argmax(y_test[i])]\n",
        "    predicted_label = class_labels[np.argmax(model_senet.predict(np.expand_dims(test_image, axis=0)))]\n",
        "\n",
        "    plt.imshow(test_image)\n",
        "    plt.title(f\"True Label: {true_label}, Predicted Label: {predicted_label}\")\n",
        "    plt.axis('off')\n",
        "    plt.show()\n"
      ],
      "metadata": {
        "id": "b2yVj8h9xROz"
      },
      "execution_count": null,
      "outputs": []
    }
  ]
}